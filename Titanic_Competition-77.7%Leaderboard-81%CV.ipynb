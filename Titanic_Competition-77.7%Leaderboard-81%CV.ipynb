{
 "cells": [
  {
   "cell_type": "code",
   "execution_count": 1,
   "id": "a5344a4f",
   "metadata": {
    "execution": {
     "iopub.execute_input": "2025-03-07T13:13:07.408788Z",
     "iopub.status.busy": "2025-03-07T13:13:07.408431Z",
     "iopub.status.idle": "2025-03-07T13:13:08.756580Z",
     "shell.execute_reply": "2025-03-07T13:13:08.754702Z"
    },
    "papermill": {
     "duration": 1.368083,
     "end_time": "2025-03-07T13:13:08.759008",
     "exception": false,
     "start_time": "2025-03-07T13:13:07.390925",
     "status": "completed"
    },
    "tags": []
   },
   "outputs": [
    {
     "name": "stdout",
     "output_type": "stream",
     "text": [
      "/kaggle/input/titanic/train.csv\n",
      "/kaggle/input/titanic/test.csv\n",
      "/kaggle/input/titanic/gender_submission.csv\n"
     ]
    }
   ],
   "source": [
    "\n",
    "# This Python 3 environment comes with many helpful analytics libraries installed\n",
    "# It is defined by the kaggle/python Docker image: https://github.com/kaggle/docker-python\n",
    "# For example, here's several helpful packages to load\n",
    "\n",
    "import numpy as np # linear algebra\n",
    "import pandas as pd # data processing, CSV file I/O (e.g. pd.read_csv)\n",
    "\n",
    "# Input data files are available in the read-only \"../input/\" directory\n",
    "# For example, running this (by clicking run or pressing Shift+Enter) will list all files under the input directory\n",
    "\n",
    "import os\n",
    "for dirname, _, filenames in os.walk('/kaggle/input'):\n",
    "    for filename in filenames:\n",
    "        print(os.path.join(dirname, filename))\n",
    "\n",
    "# You can write up to 20GB to the current directory (/kaggle/working/) that gets preserved as output when you create a version using \"Save & Run All\" \n",
    "# You can also write temporary files to /kaggle/temp/, but they won't be saved outside of the current session"
   ]
  },
  {
   "cell_type": "code",
   "execution_count": 2,
   "id": "9347d878",
   "metadata": {
    "execution": {
     "iopub.execute_input": "2025-03-07T13:13:08.794717Z",
     "iopub.status.busy": "2025-03-07T13:13:08.794168Z",
     "iopub.status.idle": "2025-03-07T13:13:12.449111Z",
     "shell.execute_reply": "2025-03-07T13:13:12.447966Z"
    },
    "papermill": {
     "duration": 3.673688,
     "end_time": "2025-03-07T13:13:12.451133",
     "exception": false,
     "start_time": "2025-03-07T13:13:08.777445",
     "status": "completed"
    },
    "tags": []
   },
   "outputs": [],
   "source": [
    "import matplotlib.pyplot as plt\n",
    "import seaborn as sns\n",
    "import warnings\n",
    "\n",
    "from sklearn.tree import DecisionTreeClassifier\n",
    "from sklearn.tree import plot_tree\n",
    "from sklearn.ensemble import RandomForestClassifier\n",
    "from sklearn.model_selection import train_test_split\n",
    "from sklearn.model_selection import cross_val_score\n",
    "from sklearn.model_selection import GridSearchCV\n",
    "from sklearn.metrics import accuracy_score, precision_score, recall_score, fbeta_score\n",
    "from sklearn.metrics import classification_report\n",
    "\n",
    "from xgboost import XGBClassifier\n",
    "\n",
    "warnings.filterwarnings(\"ignore\")"
   ]
  },
  {
   "cell_type": "markdown",
   "id": "d9b90ec5",
   "metadata": {
    "papermill": {
     "duration": 0.013607,
     "end_time": "2025-03-07T13:13:12.478517",
     "exception": false,
     "start_time": "2025-03-07T13:13:12.464910",
     "status": "completed"
    },
    "tags": []
   },
   "source": [
    "import required libraries for visualization"
   ]
  },
  {
   "cell_type": "code",
   "execution_count": 3,
   "id": "3c3d9e06",
   "metadata": {
    "execution": {
     "iopub.execute_input": "2025-03-07T13:13:12.507145Z",
     "iopub.status.busy": "2025-03-07T13:13:12.506419Z",
     "iopub.status.idle": "2025-03-07T13:13:12.544647Z",
     "shell.execute_reply": "2025-03-07T13:13:12.543349Z"
    },
    "papermill": {
     "duration": 0.055143,
     "end_time": "2025-03-07T13:13:12.547035",
     "exception": false,
     "start_time": "2025-03-07T13:13:12.491892",
     "status": "completed"
    },
    "tags": []
   },
   "outputs": [],
   "source": [
    "data=pd.read_csv(\"/kaggle/input/titanic/train.csv\")\n",
    "data_test=pd.read_csv(\"/kaggle/input/titanic/test.csv\")\n",
    "data_gender_submission=pd.read_csv(\"/kaggle/input/titanic/gender_submission.csv\")\n"
   ]
  },
  {
   "cell_type": "markdown",
   "id": "a7c38143",
   "metadata": {
    "papermill": {
     "duration": 0.014261,
     "end_time": "2025-03-07T13:13:12.576593",
     "exception": false,
     "start_time": "2025-03-07T13:13:12.562332",
     "status": "completed"
    },
    "tags": []
   },
   "source": [
    "Import dataset"
   ]
  },
  {
   "cell_type": "code",
   "execution_count": 4,
   "id": "2357a822",
   "metadata": {
    "execution": {
     "iopub.execute_input": "2025-03-07T13:13:12.609697Z",
     "iopub.status.busy": "2025-03-07T13:13:12.609245Z",
     "iopub.status.idle": "2025-03-07T13:13:12.647182Z",
     "shell.execute_reply": "2025-03-07T13:13:12.645815Z"
    },
    "papermill": {
     "duration": 0.056154,
     "end_time": "2025-03-07T13:13:12.648838",
     "exception": false,
     "start_time": "2025-03-07T13:13:12.592684",
     "status": "completed"
    },
    "tags": []
   },
   "outputs": [
    {
     "data": {
      "text/html": [
       "<div>\n",
       "<style scoped>\n",
       "    .dataframe tbody tr th:only-of-type {\n",
       "        vertical-align: middle;\n",
       "    }\n",
       "\n",
       "    .dataframe tbody tr th {\n",
       "        vertical-align: top;\n",
       "    }\n",
       "\n",
       "    .dataframe thead th {\n",
       "        text-align: right;\n",
       "    }\n",
       "</style>\n",
       "<table border=\"1\" class=\"dataframe\">\n",
       "  <thead>\n",
       "    <tr style=\"text-align: right;\">\n",
       "      <th></th>\n",
       "      <th>PassengerId</th>\n",
       "      <th>Survived</th>\n",
       "      <th>Pclass</th>\n",
       "      <th>Name</th>\n",
       "      <th>Sex</th>\n",
       "      <th>Age</th>\n",
       "      <th>SibSp</th>\n",
       "      <th>Parch</th>\n",
       "      <th>Ticket</th>\n",
       "      <th>Fare</th>\n",
       "      <th>Cabin</th>\n",
       "      <th>Embarked</th>\n",
       "    </tr>\n",
       "  </thead>\n",
       "  <tbody>\n",
       "    <tr>\n",
       "      <th>0</th>\n",
       "      <td>1</td>\n",
       "      <td>0</td>\n",
       "      <td>3</td>\n",
       "      <td>Braund, Mr. Owen Harris</td>\n",
       "      <td>male</td>\n",
       "      <td>22.0</td>\n",
       "      <td>1</td>\n",
       "      <td>0</td>\n",
       "      <td>A/5 21171</td>\n",
       "      <td>7.2500</td>\n",
       "      <td>NaN</td>\n",
       "      <td>S</td>\n",
       "    </tr>\n",
       "    <tr>\n",
       "      <th>1</th>\n",
       "      <td>2</td>\n",
       "      <td>1</td>\n",
       "      <td>1</td>\n",
       "      <td>Cumings, Mrs. John Bradley (Florence Briggs Th...</td>\n",
       "      <td>female</td>\n",
       "      <td>38.0</td>\n",
       "      <td>1</td>\n",
       "      <td>0</td>\n",
       "      <td>PC 17599</td>\n",
       "      <td>71.2833</td>\n",
       "      <td>C85</td>\n",
       "      <td>C</td>\n",
       "    </tr>\n",
       "    <tr>\n",
       "      <th>2</th>\n",
       "      <td>3</td>\n",
       "      <td>1</td>\n",
       "      <td>3</td>\n",
       "      <td>Heikkinen, Miss. Laina</td>\n",
       "      <td>female</td>\n",
       "      <td>26.0</td>\n",
       "      <td>0</td>\n",
       "      <td>0</td>\n",
       "      <td>STON/O2. 3101282</td>\n",
       "      <td>7.9250</td>\n",
       "      <td>NaN</td>\n",
       "      <td>S</td>\n",
       "    </tr>\n",
       "    <tr>\n",
       "      <th>3</th>\n",
       "      <td>4</td>\n",
       "      <td>1</td>\n",
       "      <td>1</td>\n",
       "      <td>Futrelle, Mrs. Jacques Heath (Lily May Peel)</td>\n",
       "      <td>female</td>\n",
       "      <td>35.0</td>\n",
       "      <td>1</td>\n",
       "      <td>0</td>\n",
       "      <td>113803</td>\n",
       "      <td>53.1000</td>\n",
       "      <td>C123</td>\n",
       "      <td>S</td>\n",
       "    </tr>\n",
       "    <tr>\n",
       "      <th>4</th>\n",
       "      <td>5</td>\n",
       "      <td>0</td>\n",
       "      <td>3</td>\n",
       "      <td>Allen, Mr. William Henry</td>\n",
       "      <td>male</td>\n",
       "      <td>35.0</td>\n",
       "      <td>0</td>\n",
       "      <td>0</td>\n",
       "      <td>373450</td>\n",
       "      <td>8.0500</td>\n",
       "      <td>NaN</td>\n",
       "      <td>S</td>\n",
       "    </tr>\n",
       "  </tbody>\n",
       "</table>\n",
       "</div>"
      ],
      "text/plain": [
       "   PassengerId  Survived  Pclass  \\\n",
       "0            1         0       3   \n",
       "1            2         1       1   \n",
       "2            3         1       3   \n",
       "3            4         1       1   \n",
       "4            5         0       3   \n",
       "\n",
       "                                                Name     Sex   Age  SibSp  \\\n",
       "0                            Braund, Mr. Owen Harris    male  22.0      1   \n",
       "1  Cumings, Mrs. John Bradley (Florence Briggs Th...  female  38.0      1   \n",
       "2                             Heikkinen, Miss. Laina  female  26.0      0   \n",
       "3       Futrelle, Mrs. Jacques Heath (Lily May Peel)  female  35.0      1   \n",
       "4                           Allen, Mr. William Henry    male  35.0      0   \n",
       "\n",
       "   Parch            Ticket     Fare Cabin Embarked  \n",
       "0      0         A/5 21171   7.2500   NaN        S  \n",
       "1      0          PC 17599  71.2833   C85        C  \n",
       "2      0  STON/O2. 3101282   7.9250   NaN        S  \n",
       "3      0            113803  53.1000  C123        S  \n",
       "4      0            373450   8.0500   NaN        S  "
      ]
     },
     "execution_count": 4,
     "metadata": {},
     "output_type": "execute_result"
    }
   ],
   "source": [
    "data.head()"
   ]
  },
  {
   "cell_type": "markdown",
   "id": "caee893e",
   "metadata": {
    "papermill": {
     "duration": 0.016291,
     "end_time": "2025-03-07T13:13:12.684005",
     "exception": false,
     "start_time": "2025-03-07T13:13:12.667714",
     "status": "completed"
    },
    "tags": []
   },
   "source": [
    "Target variable is Survived with binary value 1 for survive 0 for didn't survive\n",
    "Indicating classification problem\n",
    "Passanger ID & Name won't be needed in this prediction\n",
    "Continuous var : Fare & Age\n",
    "Categorical var : Passangerclass, Sex, SiblingSpouse, ParentChild & Embarked\n",
    "Ticket & Cabin will be analyse further to keep or drop"
   ]
  },
  {
   "cell_type": "code",
   "execution_count": 5,
   "id": "8f5e75b5",
   "metadata": {
    "execution": {
     "iopub.execute_input": "2025-03-07T13:13:12.712469Z",
     "iopub.status.busy": "2025-03-07T13:13:12.711934Z",
     "iopub.status.idle": "2025-03-07T13:13:12.753754Z",
     "shell.execute_reply": "2025-03-07T13:13:12.752855Z"
    },
    "papermill": {
     "duration": 0.057732,
     "end_time": "2025-03-07T13:13:12.755273",
     "exception": false,
     "start_time": "2025-03-07T13:13:12.697541",
     "status": "completed"
    },
    "tags": []
   },
   "outputs": [
    {
     "name": "stdout",
     "output_type": "stream",
     "text": [
      "<class 'pandas.core.frame.DataFrame'>\n",
      "RangeIndex: 891 entries, 0 to 890\n",
      "Data columns (total 12 columns):\n",
      " #   Column       Non-Null Count  Dtype  \n",
      "---  ------       --------------  -----  \n",
      " 0   PassengerId  891 non-null    int64  \n",
      " 1   Survived     891 non-null    int64  \n",
      " 2   Pclass       891 non-null    int64  \n",
      " 3   Name         891 non-null    object \n",
      " 4   Sex          891 non-null    object \n",
      " 5   Age          714 non-null    float64\n",
      " 6   SibSp        891 non-null    int64  \n",
      " 7   Parch        891 non-null    int64  \n",
      " 8   Ticket       891 non-null    object \n",
      " 9   Fare         891 non-null    float64\n",
      " 10  Cabin        204 non-null    object \n",
      " 11  Embarked     889 non-null    object \n",
      "dtypes: float64(2), int64(5), object(5)\n",
      "memory usage: 83.7+ KB\n"
     ]
    }
   ],
   "source": [
    "data.info()"
   ]
  },
  {
   "cell_type": "markdown",
   "id": "42a87035",
   "metadata": {
    "papermill": {
     "duration": 0.022181,
     "end_time": "2025-03-07T13:13:12.795513",
     "exception": false,
     "start_time": "2025-03-07T13:13:12.773332",
     "status": "completed"
    },
    "tags": []
   },
   "source": [
    "Data out of 891 rows:\n",
    "   Age          714 non-null    \n",
    "   Cabin        204 non-null     \n",
    "   Embarked     889 non-null     "
   ]
  },
  {
   "cell_type": "code",
   "execution_count": 6,
   "id": "76978836",
   "metadata": {
    "execution": {
     "iopub.execute_input": "2025-03-07T13:13:12.831712Z",
     "iopub.status.busy": "2025-03-07T13:13:12.831270Z",
     "iopub.status.idle": "2025-03-07T13:13:12.865820Z",
     "shell.execute_reply": "2025-03-07T13:13:12.863527Z"
    },
    "papermill": {
     "duration": 0.05682,
     "end_time": "2025-03-07T13:13:12.868167",
     "exception": false,
     "start_time": "2025-03-07T13:13:12.811347",
     "status": "completed"
    },
    "tags": []
   },
   "outputs": [
    {
     "data": {
      "text/html": [
       "<div>\n",
       "<style scoped>\n",
       "    .dataframe tbody tr th:only-of-type {\n",
       "        vertical-align: middle;\n",
       "    }\n",
       "\n",
       "    .dataframe tbody tr th {\n",
       "        vertical-align: top;\n",
       "    }\n",
       "\n",
       "    .dataframe thead th {\n",
       "        text-align: right;\n",
       "    }\n",
       "</style>\n",
       "<table border=\"1\" class=\"dataframe\">\n",
       "  <thead>\n",
       "    <tr style=\"text-align: right;\">\n",
       "      <th></th>\n",
       "      <th>count</th>\n",
       "      <th>mean</th>\n",
       "      <th>std</th>\n",
       "      <th>min</th>\n",
       "      <th>25%</th>\n",
       "      <th>50%</th>\n",
       "      <th>75%</th>\n",
       "      <th>max</th>\n",
       "    </tr>\n",
       "  </thead>\n",
       "  <tbody>\n",
       "    <tr>\n",
       "      <th>PassengerId</th>\n",
       "      <td>891.0</td>\n",
       "      <td>446.000000</td>\n",
       "      <td>257.353842</td>\n",
       "      <td>1.00</td>\n",
       "      <td>223.5000</td>\n",
       "      <td>446.0000</td>\n",
       "      <td>668.5</td>\n",
       "      <td>891.0000</td>\n",
       "    </tr>\n",
       "    <tr>\n",
       "      <th>Survived</th>\n",
       "      <td>891.0</td>\n",
       "      <td>0.383838</td>\n",
       "      <td>0.486592</td>\n",
       "      <td>0.00</td>\n",
       "      <td>0.0000</td>\n",
       "      <td>0.0000</td>\n",
       "      <td>1.0</td>\n",
       "      <td>1.0000</td>\n",
       "    </tr>\n",
       "    <tr>\n",
       "      <th>Pclass</th>\n",
       "      <td>891.0</td>\n",
       "      <td>2.308642</td>\n",
       "      <td>0.836071</td>\n",
       "      <td>1.00</td>\n",
       "      <td>2.0000</td>\n",
       "      <td>3.0000</td>\n",
       "      <td>3.0</td>\n",
       "      <td>3.0000</td>\n",
       "    </tr>\n",
       "    <tr>\n",
       "      <th>Age</th>\n",
       "      <td>714.0</td>\n",
       "      <td>29.699118</td>\n",
       "      <td>14.526497</td>\n",
       "      <td>0.42</td>\n",
       "      <td>20.1250</td>\n",
       "      <td>28.0000</td>\n",
       "      <td>38.0</td>\n",
       "      <td>80.0000</td>\n",
       "    </tr>\n",
       "    <tr>\n",
       "      <th>SibSp</th>\n",
       "      <td>891.0</td>\n",
       "      <td>0.523008</td>\n",
       "      <td>1.102743</td>\n",
       "      <td>0.00</td>\n",
       "      <td>0.0000</td>\n",
       "      <td>0.0000</td>\n",
       "      <td>1.0</td>\n",
       "      <td>8.0000</td>\n",
       "    </tr>\n",
       "    <tr>\n",
       "      <th>Parch</th>\n",
       "      <td>891.0</td>\n",
       "      <td>0.381594</td>\n",
       "      <td>0.806057</td>\n",
       "      <td>0.00</td>\n",
       "      <td>0.0000</td>\n",
       "      <td>0.0000</td>\n",
       "      <td>0.0</td>\n",
       "      <td>6.0000</td>\n",
       "    </tr>\n",
       "    <tr>\n",
       "      <th>Fare</th>\n",
       "      <td>891.0</td>\n",
       "      <td>32.204208</td>\n",
       "      <td>49.693429</td>\n",
       "      <td>0.00</td>\n",
       "      <td>7.9104</td>\n",
       "      <td>14.4542</td>\n",
       "      <td>31.0</td>\n",
       "      <td>512.3292</td>\n",
       "    </tr>\n",
       "  </tbody>\n",
       "</table>\n",
       "</div>"
      ],
      "text/plain": [
       "             count        mean         std   min       25%       50%    75%  \\\n",
       "PassengerId  891.0  446.000000  257.353842  1.00  223.5000  446.0000  668.5   \n",
       "Survived     891.0    0.383838    0.486592  0.00    0.0000    0.0000    1.0   \n",
       "Pclass       891.0    2.308642    0.836071  1.00    2.0000    3.0000    3.0   \n",
       "Age          714.0   29.699118   14.526497  0.42   20.1250   28.0000   38.0   \n",
       "SibSp        891.0    0.523008    1.102743  0.00    0.0000    0.0000    1.0   \n",
       "Parch        891.0    0.381594    0.806057  0.00    0.0000    0.0000    0.0   \n",
       "Fare         891.0   32.204208   49.693429  0.00    7.9104   14.4542   31.0   \n",
       "\n",
       "                  max  \n",
       "PassengerId  891.0000  \n",
       "Survived       1.0000  \n",
       "Pclass         3.0000  \n",
       "Age           80.0000  \n",
       "SibSp          8.0000  \n",
       "Parch          6.0000  \n",
       "Fare         512.3292  "
      ]
     },
     "execution_count": 6,
     "metadata": {},
     "output_type": "execute_result"
    }
   ],
   "source": [
    "data.describe().T"
   ]
  },
  {
   "cell_type": "raw",
   "id": "5db2ed30",
   "metadata": {
    "papermill": {
     "duration": 0.013257,
     "end_time": "2025-03-07T13:13:12.895148",
     "exception": false,
     "start_time": "2025-03-07T13:13:12.881891",
     "status": "completed"
    },
    "tags": []
   },
   "source": [
    "The survival rate is 38%, meaning most passengers did not survive. This suggests an imbalance in survival outcomes.\n",
    "more than or equal to half of passanger are class 3 passanger\n",
    "Fare is highly skewed to the right with 50% or less paying low fare, this aligns with class 3 passangers that are equal or more than 50%."
   ]
  },
  {
   "cell_type": "code",
   "execution_count": 7,
   "id": "db0d5e6d",
   "metadata": {
    "execution": {
     "iopub.execute_input": "2025-03-07T13:13:12.923349Z",
     "iopub.status.busy": "2025-03-07T13:13:12.922865Z",
     "iopub.status.idle": "2025-03-07T13:13:12.941337Z",
     "shell.execute_reply": "2025-03-07T13:13:12.939702Z"
    },
    "papermill": {
     "duration": 0.034679,
     "end_time": "2025-03-07T13:13:12.943190",
     "exception": false,
     "start_time": "2025-03-07T13:13:12.908511",
     "status": "completed"
    },
    "tags": []
   },
   "outputs": [
    {
     "name": "stdout",
     "output_type": "stream",
     "text": [
      "Name\n",
      "Braund, Mr. Owen Harris    0.001122\n",
      "Boulos, Mr. Hanna          0.001122\n",
      "                             ...   \n",
      "Keane, Miss. Nora A        0.001122\n",
      "Dooley, Mr. Patrick        0.001122\n",
      "Name: proportion, Length: 891, dtype: float64\n",
      "unique: 891\n",
      "---------------------------------\n",
      "Sex\n",
      "male      0.647587\n",
      "female    0.352413\n",
      "Name: proportion, dtype: float64\n",
      "unique: 2\n",
      "---------------------------------\n",
      "Ticket\n",
      "347082      0.007856\n",
      "CA. 2343    0.007856\n",
      "              ...   \n",
      "PC 17612    0.001122\n",
      "370376      0.001122\n",
      "Name: proportion, Length: 681, dtype: float64\n",
      "unique: 681\n",
      "---------------------------------\n",
      "Cabin\n",
      "B96 B98    0.019608\n",
      "G6         0.019608\n",
      "             ...   \n",
      "E36        0.004902\n",
      "C148       0.004902\n",
      "Name: proportion, Length: 147, dtype: float64\n",
      "unique: 147\n",
      "---------------------------------\n",
      "Embarked\n",
      "S    0.724409\n",
      "C    0.188976\n",
      "Q    0.086614\n",
      "Name: proportion, dtype: float64\n",
      "unique: 3\n",
      "---------------------------------\n"
     ]
    }
   ],
   "source": [
    "cat_col=[\"Name\",\"Sex\",\"Ticket\",\"Cabin\",\"Embarked\"]\n",
    "pd.set_option(\"display.max_rows\", 5)  # Show 5 rows\n",
    "for col in cat_col:\n",
    "    print(data[col].value_counts(1))\n",
    "    print(f\"unique: {data[col].nunique()}\")\n",
    "    print(\"-\"*33)\n"
   ]
  },
  {
   "cell_type": "markdown",
   "id": "e6b026f1",
   "metadata": {
    "papermill": {
     "duration": 0.014571,
     "end_time": "2025-03-07T13:13:12.973261",
     "exception": false,
     "start_time": "2025-03-07T13:13:12.958690",
     "status": "completed"
    },
    "tags": []
   },
   "source": [
    "Since most value for Name, Ticket and Cabin are unique, it will be dropped.\n",
    "This shows there are 65% male and 35% female passangers on board \n",
    "most passangers embarked on S port."
   ]
  },
  {
   "cell_type": "code",
   "execution_count": 8,
   "id": "f7e3ce92",
   "metadata": {
    "execution": {
     "iopub.execute_input": "2025-03-07T13:13:13.020361Z",
     "iopub.status.busy": "2025-03-07T13:13:13.019801Z",
     "iopub.status.idle": "2025-03-07T13:13:13.032115Z",
     "shell.execute_reply": "2025-03-07T13:13:13.031241Z"
    },
    "papermill": {
     "duration": 0.045098,
     "end_time": "2025-03-07T13:13:13.033867",
     "exception": false,
     "start_time": "2025-03-07T13:13:12.988769",
     "status": "completed"
    },
    "tags": []
   },
   "outputs": [
    {
     "name": "stdout",
     "output_type": "stream",
     "text": [
      "duplicated: 0 \n",
      "is null:\n",
      "PassengerId      0\n",
      "Survived         0\n",
      "              ... \n",
      "Cabin          687\n",
      "Embarked         2\n",
      "Length: 12, dtype: int64\n"
     ]
    }
   ],
   "source": [
    "data_dupe = data.duplicated().sum()\n",
    "data_null = data.isnull().sum()\n",
    "print(f\"duplicated: {data_dupe} \\nis null:\\n{data_null}\")"
   ]
  },
  {
   "cell_type": "markdown",
   "id": "113bcb9b",
   "metadata": {
    "papermill": {
     "duration": 0.013556,
     "end_time": "2025-03-07T13:13:13.064504",
     "exception": false,
     "start_time": "2025-03-07T13:13:13.050948",
     "status": "completed"
    },
    "tags": []
   },
   "source": [
    "check for duplicate and null data"
   ]
  },
  {
   "cell_type": "markdown",
   "id": "e328b7d9",
   "metadata": {
    "papermill": {
     "duration": 0.013882,
     "end_time": "2025-03-07T13:13:13.092199",
     "exception": false,
     "start_time": "2025-03-07T13:13:13.078317",
     "status": "completed"
    },
    "tags": []
   },
   "source": [
    "EXPLORATORY DATA ANALYSIS\n",
    "_____________________________________________________________________________________\n",
    "UNIVARIATE VISUALIZATION "
   ]
  },
  {
   "cell_type": "code",
   "execution_count": 9,
   "id": "bb664e64",
   "metadata": {
    "execution": {
     "iopub.execute_input": "2025-03-07T13:13:13.178104Z",
     "iopub.status.busy": "2025-03-07T13:13:13.177567Z",
     "iopub.status.idle": "2025-03-07T13:13:13.184641Z",
     "shell.execute_reply": "2025-03-07T13:13:13.183724Z"
    },
    "papermill": {
     "duration": 0.08008,
     "end_time": "2025-03-07T13:13:13.186287",
     "exception": false,
     "start_time": "2025-03-07T13:13:13.106207",
     "status": "completed"
    },
    "tags": []
   },
   "outputs": [],
   "source": [
    "def histbox(data, feature, figsize=(7,7), kde=True, bins = None):\n",
    "    f2, (axbox2,axhist2)= plt.subplots(\n",
    "        2,\n",
    "        sharex=True,\n",
    "        gridspec_kw={\"height_ratios\":(0.25,0.75)},\n",
    "        figsize=figsize,\n",
    "    )\n",
    "    sns.boxplot(data=data, x=feature, ax=axbox2, showmeans=True, color=\"blue\")\n",
    "    if bins == None:\n",
    "       sns.histplot(data=data, x=feature, kde=kde, ax=axhist2, color='green') \n",
    "    else:\n",
    "        sns.histplot(data=data, x=feature, kde=kde, ax=axhist2, bins=bins, color='green') \n",
    "    axhist2.axvline(data[feature].mean(), color=\"red\", linestyle=\"--\")\n",
    "    axhist2.axvline(data[feature].median(), color=\"black\", linestyle=\"-\")\n",
    "    "
   ]
  },
  {
   "cell_type": "markdown",
   "id": "3197e663",
   "metadata": {
    "papermill": {
     "duration": 0.015566,
     "end_time": "2025-03-07T13:13:13.217986",
     "exception": false,
     "start_time": "2025-03-07T13:13:13.202420",
     "status": "completed"
    },
    "tags": []
   },
   "source": [
    "function for univariate analysis of continuous variable Fare & Age\n"
   ]
  },
  {
   "cell_type": "code",
   "execution_count": 10,
   "id": "df1e8324",
   "metadata": {
    "execution": {
     "iopub.execute_input": "2025-03-07T13:13:13.249946Z",
     "iopub.status.busy": "2025-03-07T13:13:13.249575Z",
     "iopub.status.idle": "2025-03-07T13:13:13.979404Z",
     "shell.execute_reply": "2025-03-07T13:13:13.977728Z"
    },
    "papermill": {
     "duration": 0.748195,
     "end_time": "2025-03-07T13:13:13.981360",
     "exception": false,
     "start_time": "2025-03-07T13:13:13.233165",
     "status": "completed"
    },
    "tags": []
   },
   "outputs": [
    {
     "data": {
      "image/png": "[encoded data removed]",
      "text/plain": [
       "<Figure size 700x700 with 2 Axes>"
      ]
     },
     "metadata": {},
     "output_type": "display_data"
    }
   ],
   "source": [
    "histbox(data, \"Fare\")"
   ]
  },
  {
   "cell_type": "markdown",
   "id": "899ad6a1",
   "metadata": {
    "papermill": {
     "duration": 0.016611,
     "end_time": "2025-03-07T13:13:14.012912",
     "exception": false,
     "start_time": "2025-03-07T13:13:13.996301",
     "status": "completed"
    },
    "tags": []
   },
   "source": [
    "This indicates the majority pays lower fare. Also presence of an extreme outlier."
   ]
  },
  {
   "cell_type": "code",
   "execution_count": 11,
   "id": "08ed56b9",
   "metadata": {
    "execution": {
     "iopub.execute_input": "2025-03-07T13:13:14.042929Z",
     "iopub.status.busy": "2025-03-07T13:13:14.042434Z",
     "iopub.status.idle": "2025-03-07T13:13:14.369531Z",
     "shell.execute_reply": "2025-03-07T13:13:14.368362Z"
    },
    "papermill": {
     "duration": 0.344414,
     "end_time": "2025-03-07T13:13:14.371623",
     "exception": false,
     "start_time": "2025-03-07T13:13:14.027209",
     "status": "completed"
    },
    "tags": []
   },
   "outputs": [
    {
     "data": {
      "image/png": "[encoded data removed]",
      "text/plain": [
       "<Figure size 700x700 with 2 Axes>"
      ]
     },
     "metadata": {},
     "output_type": "display_data"
    }
   ],
   "source": [
    "histbox(data, \"Age\")"
   ]
  },
  {
   "cell_type": "markdown",
   "id": "9e21f5e7",
   "metadata": {
    "papermill": {
     "duration": 0.01503,
     "end_time": "2025-03-07T13:13:14.402680",
     "exception": false,
     "start_time": "2025-03-07T13:13:14.387650",
     "status": "completed"
    },
    "tags": []
   },
   "source": [
    "Both numerical features isn't normally distributed, but sample size is large enough to proceed since Central Limit Theorem will apply.\n",
    "Most on board passangers are Young adult and middle aged adult."
   ]
  },
  {
   "cell_type": "markdown",
   "id": "94e65e9e",
   "metadata": {
    "papermill": {
     "duration": 0.014864,
     "end_time": "2025-03-07T13:13:14.432456",
     "exception": false,
     "start_time": "2025-03-07T13:13:14.417592",
     "status": "completed"
    },
    "tags": []
   },
   "source": [
    "BIVARIATE ANALYSIS"
   ]
  },
  {
   "cell_type": "code",
   "execution_count": 12,
   "id": "b96e6b1b",
   "metadata": {
    "execution": {
     "iopub.execute_input": "2025-03-07T13:13:14.463697Z",
     "iopub.status.busy": "2025-03-07T13:13:14.463234Z",
     "iopub.status.idle": "2025-03-07T13:13:14.816334Z",
     "shell.execute_reply": "2025-03-07T13:13:14.814393Z"
    },
    "papermill": {
     "duration": 0.371414,
     "end_time": "2025-03-07T13:13:14.818482",
     "exception": false,
     "start_time": "2025-03-07T13:13:14.447068",
     "status": "completed"
    },
    "tags": []
   },
   "outputs": [
    {
     "data": {
      "image/png": "[encoded data removed]",
      "text/plain": [
       "<Figure size 1000x500 with 1 Axes>"
      ]
     },
     "metadata": {},
     "output_type": "display_data"
    }
   ],
   "source": [
    "# Histogram for label and age\n",
    "plt.figure(figsize=(10, 5))\n",
    "sns.histplot(data[(data[\"Survived\"] == 1)&(data[\"Sex\"] == \"male\")][\"Age\"], bins=50, color=\"green\", kde=True, label=\"Survived\", alpha=0.6)\n",
    "sns.histplot(data[(data[\"Survived\"] == 0)&(data[\"Sex\"] == \"male\")][\"Age\"], bins=50, color=\"red\", kde=True, label=\"Not Survived\", alpha=0.6)\n",
    "plt.xlabel(\"Age\")\n",
    "plt.ylabel(\"Count\")\n",
    "plt.title(\"Age Distribution of Survivors vs. Non-Survivors\")\n",
    "plt.legend()\n",
    "plt.show()"
   ]
  },
  {
   "cell_type": "code",
   "execution_count": 13,
   "id": "0f85b548",
   "metadata": {
    "execution": {
     "iopub.execute_input": "2025-03-07T13:13:14.854821Z",
     "iopub.status.busy": "2025-03-07T13:13:14.854315Z",
     "iopub.status.idle": "2025-03-07T13:13:14.861933Z",
     "shell.execute_reply": "2025-03-07T13:13:14.860146Z"
    },
    "papermill": {
     "duration": 0.029302,
     "end_time": "2025-03-07T13:13:14.864514",
     "exception": false,
     "start_time": "2025-03-07T13:13:14.835212",
     "status": "completed"
    },
    "tags": []
   },
   "outputs": [],
   "source": [
    "def stackedbar(data, predictor, target): #function for stacked barplot\n",
    "    count= data[predictor].nunique()\n",
    "    sorter= data[target].value_counts().index[-1]\n",
    "    tab1=pd.crosstab(data[predictor], data[target], margins=True).sort_values(by=sorter, ascending=False)\n",
    "    tab1_percent=(tab1.div(tab1[\"All\"],axis=0)*100).round(1)\n",
    "    print(tab1_percent)"
   ]
  },
  {
   "cell_type": "markdown",
   "id": "33bc18f3",
   "metadata": {
    "papermill": {
     "duration": 0.016032,
     "end_time": "2025-03-07T13:13:14.897013",
     "exception": false,
     "start_time": "2025-03-07T13:13:14.880981",
     "status": "completed"
    },
    "tags": []
   },
   "source": [
    "Categorical predictor: sex, cabin, embarked, "
   ]
  },
  {
   "cell_type": "code",
   "execution_count": 14,
   "id": "d6c8d97f",
   "metadata": {
    "execution": {
     "iopub.execute_input": "2025-03-07T13:13:14.930411Z",
     "iopub.status.busy": "2025-03-07T13:13:14.929937Z",
     "iopub.status.idle": "2025-03-07T13:13:15.089830Z",
     "shell.execute_reply": "2025-03-07T13:13:15.088182Z"
    },
    "papermill": {
     "duration": 0.179269,
     "end_time": "2025-03-07T13:13:15.092178",
     "exception": false,
     "start_time": "2025-03-07T13:13:14.912909",
     "status": "completed"
    },
    "tags": []
   },
   "outputs": [
    {
     "name": "stdout",
     "output_type": "stream",
     "text": [
      "Survived     0     1    All\n",
      "Sex                        \n",
      "All       61.6  38.4  100.0\n",
      "female    25.8  74.2  100.0\n",
      "male      81.1  18.9  100.0\n",
      "------------------------------------------------------------------\n",
      "Survived     0     1    All\n",
      "Embarked                   \n",
      "All       61.8  38.2  100.0\n",
      "S         66.3  33.7  100.0\n",
      "C         44.6  55.4  100.0\n",
      "Q         61.0  39.0  100.0\n",
      "------------------------------------------------------------------\n",
      "Survived     0     1    All\n",
      "Pclass                     \n",
      "All       61.6  38.4  100.0\n",
      "1         37.0  63.0  100.0\n",
      "3         75.8  24.2  100.0\n",
      "2         52.7  47.3  100.0\n",
      "------------------------------------------------------------------\n",
      "Survived      0     1    All\n",
      "SibSp                       \n",
      "All        61.6  38.4  100.0\n",
      "0          65.5  34.5  100.0\n",
      "...         ...   ...    ...\n",
      "5         100.0   0.0  100.0\n",
      "8         100.0   0.0  100.0\n",
      "\n",
      "[8 rows x 3 columns]\n",
      "------------------------------------------------------------------\n",
      "Survived      0     1    All\n",
      "Parch                       \n",
      "All        61.6  38.4  100.0\n",
      "0          65.6  34.4  100.0\n",
      "...         ...   ...    ...\n",
      "4         100.0   0.0  100.0\n",
      "6         100.0   0.0  100.0\n",
      "\n",
      "[8 rows x 3 columns]\n",
      "------------------------------------------------------------------\n"
     ]
    }
   ],
   "source": [
    "cat_list=[\"Sex\",\"Embarked\",\"Pclass\",\"SibSp\",\"Parch\"]\n",
    "for cat in cat_list:\n",
    "    stackedbar(data, cat, \"Survived\")\n",
    "    print(\"--\"*33)"
   ]
  },
  {
   "cell_type": "markdown",
   "id": "184bd20e",
   "metadata": {
    "papermill": {
     "duration": 0.01584,
     "end_time": "2025-03-07T13:13:15.124736",
     "exception": false,
     "start_time": "2025-03-07T13:13:15.108896",
     "status": "completed"
    },
    "tags": []
   },
   "source": [
    "There are more male passangers proportions onboard and died, indicating over gender effect.\n",
    "Embarking in C port also have higher rate of surviving\n",
    "There is an inverse ordinal effect showing the lower the class value, the higher the survival rate\n",
    "Sibling Spouse and Parent child shows a trend where the surviving rate peaks at certain point"
   ]
  },
  {
   "cell_type": "code",
   "execution_count": 15,
   "id": "8f53fbac",
   "metadata": {
    "execution": {
     "iopub.execute_input": "2025-03-07T13:13:15.158764Z",
     "iopub.status.busy": "2025-03-07T13:13:15.157899Z",
     "iopub.status.idle": "2025-03-07T13:13:15.429994Z",
     "shell.execute_reply": "2025-03-07T13:13:15.428392Z"
    },
    "papermill": {
     "duration": 0.290416,
     "end_time": "2025-03-07T13:13:15.431552",
     "exception": false,
     "start_time": "2025-03-07T13:13:15.141136",
     "status": "completed"
    },
    "tags": []
   },
   "outputs": [
    {
     "data": {
      "image/png": "[encoded data removed]",
      "text/plain": [
       "<Figure size 700x700 with 1 Axes>"
      ]
     },
     "metadata": {},
     "output_type": "display_data"
    }
   ],
   "source": [
    "tab = pd.crosstab(index=[data[\"Pclass\"], data[\"Sex\"]], columns=data[\"Survived\"], normalize=\"index\") * 100\n",
    "tab.plot(kind=\"bar\", stacked=True, figsize=(7, 7), colormap=\"coolwarm\")\n",
    "\n",
    "plt.ylabel(\"Percentage (%)\")\n",
    "plt.title(\"Stacked Bar Chart of Survivor by Passanger Class and Sex\")\n",
    "plt.legend(title=\"Survived\")\n",
    "plt.xticks(rotation=45)\n",
    "plt.show()"
   ]
  },
  {
   "cell_type": "markdown",
   "id": "437dccb9",
   "metadata": {
    "papermill": {
     "duration": 0.015823,
     "end_time": "2025-03-07T13:13:15.464377",
     "exception": false,
     "start_time": "2025-03-07T13:13:15.448554",
     "status": "completed"
    },
    "tags": []
   },
   "source": [
    "clas 2 and class 1 female are more likely to survive, while male start from class 3 are more likely to survive"
   ]
  },
  {
   "cell_type": "code",
   "execution_count": 16,
   "id": "37bd37a5",
   "metadata": {
    "execution": {
     "iopub.execute_input": "2025-03-07T13:13:15.498789Z",
     "iopub.status.busy": "2025-03-07T13:13:15.498482Z",
     "iopub.status.idle": "2025-03-07T13:13:15.791186Z",
     "shell.execute_reply": "2025-03-07T13:13:15.789600Z"
    },
    "papermill": {
     "duration": 0.31268,
     "end_time": "2025-03-07T13:13:15.793228",
     "exception": false,
     "start_time": "2025-03-07T13:13:15.480548",
     "status": "completed"
    },
    "tags": []
   },
   "outputs": [
    {
     "data": {
      "image/png": "[encoded data removed]",
      "text/plain": [
       "<Figure size 640x480 with 1 Axes>"
      ]
     },
     "metadata": {},
     "output_type": "display_data"
    }
   ],
   "source": [
    "male_survived = data[(data['Sex']=='male')&(data['Survived']==1)]\n",
    "female_survived = data[(data['Sex']=='female')&(data['Survived']==1)]\n",
    "male_not_s = data[(data['Sex']=='male')&(data['Survived']==0)]\n",
    "female_not_s = data[(data['Sex']=='female')&(data['Survived']==0)]\n",
    "\n",
    "\n",
    "plt.hist([male_survived['Age'], female_survived['Age'], male_not_s['Age'], female_not_s['Age']],\n",
    "         bins=20, stacked=True, label=['Male Survivor', 'Female Survivor','Male Loss','Female Loss'], alpha=0.7, edgecolor='black')\n",
    "\n",
    "plt.xlabel(\"Age\")\n",
    "plt.ylabel(\"Count\")\n",
    "plt.title(\"Stacked Histogram of Age by Sex\")\n",
    "plt.legend()\n",
    "plt.grid(axis='y', linestyle='--', alpha=0.7)\n",
    "\n",
    "plt.show()"
   ]
  },
  {
   "cell_type": "markdown",
   "id": "08722680",
   "metadata": {
    "papermill": {
     "duration": 0.018951,
     "end_time": "2025-03-07T13:13:15.829294",
     "exception": false,
     "start_time": "2025-03-07T13:13:15.810343",
     "status": "completed"
    },
    "tags": []
   },
   "source": [
    "Age more than 65 are unlikely to survive\n",
    "the rest are distributed evenly"
   ]
  },
  {
   "cell_type": "markdown",
   "id": "0c5e776c",
   "metadata": {
    "papermill": {
     "duration": 0.016965,
     "end_time": "2025-03-07T13:13:15.864269",
     "exception": false,
     "start_time": "2025-03-07T13:13:15.847304",
     "status": "completed"
    },
    "tags": []
   },
   "source": [
    "DATA PREPROCESSING"
   ]
  },
  {
   "cell_type": "code",
   "execution_count": 17,
   "id": "cfe8bd1f",
   "metadata": {
    "execution": {
     "iopub.execute_input": "2025-03-07T13:13:15.899467Z",
     "iopub.status.busy": "2025-03-07T13:13:15.898959Z",
     "iopub.status.idle": "2025-03-07T13:13:17.292468Z",
     "shell.execute_reply": "2025-03-07T13:13:17.290690Z"
    },
    "papermill": {
     "duration": 1.413212,
     "end_time": "2025-03-07T13:13:17.294026",
     "exception": false,
     "start_time": "2025-03-07T13:13:15.880814",
     "status": "completed"
    },
    "tags": []
   },
   "outputs": [
    {
     "data": {
      "image/png": "[encoded data removed]",
      "text/plain": [
       "<Figure size 1000x1000 with 2 Axes>"
      ]
     },
     "metadata": {},
     "output_type": "display_data"
    }
   ],
   "source": [
    "categorical_features = ['Pclass','Sex','SibSp','Parch','Embarked']\n",
    "data_correlation=data\n",
    "data_correlation=pd.get_dummies(data, columns=categorical_features, drop_first=False)\n",
    "data_correlation.drop(columns=[\"PassengerId\", 'Name', 'Cabin','Ticket'], axis=1, inplace=True)\n",
    "corr_matrix = data_correlation.corr()\n",
    "\n",
    "plt.figure(figsize=(10, 10))\n",
    "sns.heatmap(corr_matrix, annot=True, cmap='coolwarm', fmt=\".1f\", linewidths=0.5)\n",
    "plt.title(\"Correlation Heatmap\")\n",
    "plt.show()"
   ]
  },
  {
   "cell_type": "markdown",
   "id": "ef07b3ee",
   "metadata": {
    "papermill": {
     "duration": 0.021434,
     "end_time": "2025-03-07T13:13:17.338363",
     "exception": false,
     "start_time": "2025-03-07T13:13:17.316929",
     "status": "completed"
    },
    "tags": []
   },
   "source": [
    "TRAIN AND TEST DATA"
   ]
  },
  {
   "cell_type": "code",
   "execution_count": 18,
   "id": "4796c146",
   "metadata": {
    "execution": {
     "iopub.execute_input": "2025-03-07T13:13:17.382441Z",
     "iopub.status.busy": "2025-03-07T13:13:17.381966Z",
     "iopub.status.idle": "2025-03-07T13:13:17.393445Z",
     "shell.execute_reply": "2025-03-07T13:13:17.391518Z"
    },
    "papermill": {
     "duration": 0.035887,
     "end_time": "2025-03-07T13:13:17.395288",
     "exception": false,
     "start_time": "2025-03-07T13:13:17.359401",
     "status": "completed"
    },
    "tags": []
   },
   "outputs": [
    {
     "data": {
      "text/html": [
       "<div>\n",
       "<style scoped>\n",
       "    .dataframe tbody tr th:only-of-type {\n",
       "        vertical-align: middle;\n",
       "    }\n",
       "\n",
       "    .dataframe tbody tr th {\n",
       "        vertical-align: top;\n",
       "    }\n",
       "\n",
       "    .dataframe thead th {\n",
       "        text-align: right;\n",
       "    }\n",
       "</style>\n",
       "<table border=\"1\" class=\"dataframe\">\n",
       "  <thead>\n",
       "    <tr style=\"text-align: right;\">\n",
       "      <th></th>\n",
       "      <th>PassengerId</th>\n",
       "      <th>Survived</th>\n",
       "    </tr>\n",
       "  </thead>\n",
       "  <tbody>\n",
       "    <tr>\n",
       "      <th>0</th>\n",
       "      <td>892</td>\n",
       "      <td>0</td>\n",
       "    </tr>\n",
       "    <tr>\n",
       "      <th>1</th>\n",
       "      <td>893</td>\n",
       "      <td>1</td>\n",
       "    </tr>\n",
       "    <tr>\n",
       "      <th>2</th>\n",
       "      <td>894</td>\n",
       "      <td>0</td>\n",
       "    </tr>\n",
       "    <tr>\n",
       "      <th>3</th>\n",
       "      <td>895</td>\n",
       "      <td>0</td>\n",
       "    </tr>\n",
       "    <tr>\n",
       "      <th>4</th>\n",
       "      <td>896</td>\n",
       "      <td>1</td>\n",
       "    </tr>\n",
       "  </tbody>\n",
       "</table>\n",
       "</div>"
      ],
      "text/plain": [
       "   PassengerId  Survived\n",
       "0          892         0\n",
       "1          893         1\n",
       "2          894         0\n",
       "3          895         0\n",
       "4          896         1"
      ]
     },
     "execution_count": 18,
     "metadata": {},
     "output_type": "execute_result"
    }
   ],
   "source": [
    "data_gender_submission.head()"
   ]
  },
  {
   "cell_type": "code",
   "execution_count": 19,
   "id": "c4a13118",
   "metadata": {
    "execution": {
     "iopub.execute_input": "2025-03-07T13:13:17.438896Z",
     "iopub.status.busy": "2025-03-07T13:13:17.438565Z",
     "iopub.status.idle": "2025-03-07T13:13:17.452736Z",
     "shell.execute_reply": "2025-03-07T13:13:17.451231Z"
    },
    "papermill": {
     "duration": 0.038485,
     "end_time": "2025-03-07T13:13:17.455117",
     "exception": false,
     "start_time": "2025-03-07T13:13:17.416632",
     "status": "completed"
    },
    "tags": []
   },
   "outputs": [
    {
     "data": {
      "text/html": [
       "<div>\n",
       "<style scoped>\n",
       "    .dataframe tbody tr th:only-of-type {\n",
       "        vertical-align: middle;\n",
       "    }\n",
       "\n",
       "    .dataframe tbody tr th {\n",
       "        vertical-align: top;\n",
       "    }\n",
       "\n",
       "    .dataframe thead th {\n",
       "        text-align: right;\n",
       "    }\n",
       "</style>\n",
       "<table border=\"1\" class=\"dataframe\">\n",
       "  <thead>\n",
       "    <tr style=\"text-align: right;\">\n",
       "      <th></th>\n",
       "      <th>PassengerId</th>\n",
       "      <th>Pclass</th>\n",
       "      <th>Name</th>\n",
       "      <th>Sex</th>\n",
       "      <th>Age</th>\n",
       "      <th>SibSp</th>\n",
       "      <th>Parch</th>\n",
       "      <th>Ticket</th>\n",
       "      <th>Fare</th>\n",
       "      <th>Cabin</th>\n",
       "      <th>Embarked</th>\n",
       "    </tr>\n",
       "  </thead>\n",
       "  <tbody>\n",
       "    <tr>\n",
       "      <th>0</th>\n",
       "      <td>892</td>\n",
       "      <td>3</td>\n",
       "      <td>Kelly, Mr. James</td>\n",
       "      <td>male</td>\n",
       "      <td>34.5</td>\n",
       "      <td>0</td>\n",
       "      <td>0</td>\n",
       "      <td>330911</td>\n",
       "      <td>7.8292</td>\n",
       "      <td>NaN</td>\n",
       "      <td>Q</td>\n",
       "    </tr>\n",
       "    <tr>\n",
       "      <th>1</th>\n",
       "      <td>893</td>\n",
       "      <td>3</td>\n",
       "      <td>Wilkes, Mrs. James (Ellen Needs)</td>\n",
       "      <td>female</td>\n",
       "      <td>47.0</td>\n",
       "      <td>1</td>\n",
       "      <td>0</td>\n",
       "      <td>363272</td>\n",
       "      <td>7.0000</td>\n",
       "      <td>NaN</td>\n",
       "      <td>S</td>\n",
       "    </tr>\n",
       "    <tr>\n",
       "      <th>2</th>\n",
       "      <td>894</td>\n",
       "      <td>2</td>\n",
       "      <td>Myles, Mr. Thomas Francis</td>\n",
       "      <td>male</td>\n",
       "      <td>62.0</td>\n",
       "      <td>0</td>\n",
       "      <td>0</td>\n",
       "      <td>240276</td>\n",
       "      <td>9.6875</td>\n",
       "      <td>NaN</td>\n",
       "      <td>Q</td>\n",
       "    </tr>\n",
       "    <tr>\n",
       "      <th>3</th>\n",
       "      <td>895</td>\n",
       "      <td>3</td>\n",
       "      <td>Wirz, Mr. Albert</td>\n",
       "      <td>male</td>\n",
       "      <td>27.0</td>\n",
       "      <td>0</td>\n",
       "      <td>0</td>\n",
       "      <td>315154</td>\n",
       "      <td>8.6625</td>\n",
       "      <td>NaN</td>\n",
       "      <td>S</td>\n",
       "    </tr>\n",
       "    <tr>\n",
       "      <th>4</th>\n",
       "      <td>896</td>\n",
       "      <td>3</td>\n",
       "      <td>Hirvonen, Mrs. Alexander (Helga E Lindqvist)</td>\n",
       "      <td>female</td>\n",
       "      <td>22.0</td>\n",
       "      <td>1</td>\n",
       "      <td>1</td>\n",
       "      <td>3101298</td>\n",
       "      <td>12.2875</td>\n",
       "      <td>NaN</td>\n",
       "      <td>S</td>\n",
       "    </tr>\n",
       "  </tbody>\n",
       "</table>\n",
       "</div>"
      ],
      "text/plain": [
       "   PassengerId  Pclass                                          Name     Sex  \\\n",
       "0          892       3                              Kelly, Mr. James    male   \n",
       "1          893       3              Wilkes, Mrs. James (Ellen Needs)  female   \n",
       "2          894       2                     Myles, Mr. Thomas Francis    male   \n",
       "3          895       3                              Wirz, Mr. Albert    male   \n",
       "4          896       3  Hirvonen, Mrs. Alexander (Helga E Lindqvist)  female   \n",
       "\n",
       "    Age  SibSp  Parch   Ticket     Fare Cabin Embarked  \n",
       "0  34.5      0      0   330911   7.8292   NaN        Q  \n",
       "1  47.0      1      0   363272   7.0000   NaN        S  \n",
       "2  62.0      0      0   240276   9.6875   NaN        Q  \n",
       "3  27.0      0      0   315154   8.6625   NaN        S  \n",
       "4  22.0      1      1  3101298  12.2875   NaN        S  "
      ]
     },
     "execution_count": 19,
     "metadata": {},
     "output_type": "execute_result"
    }
   ],
   "source": [
    "data_test.head()"
   ]
  },
  {
   "cell_type": "markdown",
   "id": "f29957bc",
   "metadata": {
    "papermill": {
     "duration": 0.025873,
     "end_time": "2025-03-07T13:13:17.505591",
     "exception": false,
     "start_time": "2025-03-07T13:13:17.479718",
     "status": "completed"
    },
    "tags": []
   },
   "source": [
    "MODEL BUILDING X & Y"
   ]
  },
  {
   "cell_type": "code",
   "execution_count": 20,
   "id": "c58783cd",
   "metadata": {
    "execution": {
     "iopub.execute_input": "2025-03-07T13:13:17.554341Z",
     "iopub.status.busy": "2025-03-07T13:13:17.553958Z",
     "iopub.status.idle": "2025-03-07T13:13:17.564605Z",
     "shell.execute_reply": "2025-03-07T13:13:17.563339Z"
    },
    "papermill": {
     "duration": 0.035957,
     "end_time": "2025-03-07T13:13:17.566271",
     "exception": false,
     "start_time": "2025-03-07T13:13:17.530314",
     "status": "completed"
    },
    "tags": []
   },
   "outputs": [],
   "source": [
    "x_train = data.drop(columns=['PassengerId', 'Name', 'Ticket', 'Cabin', 'Survived'])\n",
    "y_train = data['Survived']\n",
    "\n",
    "#merge data test and data gender submission to get testing data without train test split\n",
    "merged_test_initial =pd.merge(data_test, data_gender_submission, on='PassengerId')\n",
    "\n",
    "# Drop age first since it has a lot of null values and not much correlation with Y\n",
    "x_train_na=x_train.drop(columns=['Age'])\n",
    "merged_test=merged_test_initial.drop(columns=['Age', 'PassengerId', 'Name', 'Ticket', 'Cabin'])\n",
    "# one null add mean of fare (since it is not so important) first before split x and y \n",
    "merged_test[\"Fare\"].fillna(merged_test[\"Fare\"].mean(), inplace=True)\n",
    "x_test_na = merged_test.drop(columns=['Survived'])\n",
    "y_test = merged_test['Survived']"
   ]
  },
  {
   "cell_type": "code",
   "execution_count": 21,
   "id": "3c4aecd9",
   "metadata": {
    "execution": {
     "iopub.execute_input": "2025-03-07T13:13:17.616279Z",
     "iopub.status.busy": "2025-03-07T13:13:17.615769Z",
     "iopub.status.idle": "2025-03-07T13:13:17.636308Z",
     "shell.execute_reply": "2025-03-07T13:13:17.635358Z"
    },
    "papermill": {
     "duration": 0.049582,
     "end_time": "2025-03-07T13:13:17.638026",
     "exception": false,
     "start_time": "2025-03-07T13:13:17.588444",
     "status": "completed"
    },
    "tags": []
   },
   "outputs": [],
   "source": [
    "x_train_na =pd.get_dummies(x_train_na, columns=categorical_features, drop_first=True)\n",
    "x_test_na =pd.get_dummies(x_test_na, columns=categorical_features, drop_first=True)\n",
    "# dummy variables for categorical "
   ]
  },
  {
   "cell_type": "markdown",
   "id": "a68d1ac0",
   "metadata": {
    "papermill": {
     "duration": 0.021257,
     "end_time": "2025-03-07T13:13:17.683220",
     "exception": false,
     "start_time": "2025-03-07T13:13:17.661963",
     "status": "completed"
    },
    "tags": []
   },
   "source": [
    "METRICS "
   ]
  },
  {
   "cell_type": "code",
   "execution_count": 22,
   "id": "2530556e",
   "metadata": {
    "execution": {
     "iopub.execute_input": "2025-03-07T13:13:17.734931Z",
     "iopub.status.busy": "2025-03-07T13:13:17.734607Z",
     "iopub.status.idle": "2025-03-07T13:13:17.741761Z",
     "shell.execute_reply": "2025-03-07T13:13:17.739650Z"
    },
    "papermill": {
     "duration": 0.035825,
     "end_time": "2025-03-07T13:13:17.743994",
     "exception": false,
     "start_time": "2025-03-07T13:13:17.708169",
     "status": "completed"
    },
    "tags": []
   },
   "outputs": [],
   "source": [
    "def model_performance_classification(model, predictors, targets):\n",
    "    pred = model.predict(predictors)\n",
    "    \n",
    "    accuracy = accuracy_score(targets, pred)\n",
    "    precision = precision_score(targets, pred, average='weighted')  \n",
    "    recall = recall_score(targets, pred, average='weighted')  \n",
    "    f2_score = fbeta_score(targets, pred, beta=2, average='weighted')  \n",
    "    df_perf = pd.DataFrame({\n",
    "        'Accuracy': [accuracy],\n",
    "        'Precision': [precision],\n",
    "        'Recall': [recall],\n",
    "        'F2-Score': [f2_score]\n",
    "    })\n",
    "    \n",
    "    return df_perf"
   ]
  },
  {
   "cell_type": "code",
   "execution_count": null,
   "id": "20675e55",
   "metadata": {
    "execution": {
     "iopub.execute_input": "2025-03-05T10:05:22.582820Z",
     "iopub.status.busy": "2025-03-05T10:05:22.582481Z",
     "iopub.status.idle": "2025-03-05T10:05:22.589811Z",
     "shell.execute_reply": "2025-03-05T10:05:22.588722Z",
     "shell.execute_reply.started": "2025-03-05T10:05:22.582794Z"
    },
    "papermill": {
     "duration": 0.021034,
     "end_time": "2025-03-07T13:13:17.786938",
     "exception": false,
     "start_time": "2025-03-07T13:13:17.765904",
     "status": "completed"
    },
    "tags": []
   },
   "outputs": [],
   "source": []
  },
  {
   "cell_type": "markdown",
   "id": "c737904a",
   "metadata": {
    "papermill": {
     "duration": 0.020729,
     "end_time": "2025-03-07T13:13:17.829305",
     "exception": false,
     "start_time": "2025-03-07T13:13:17.808576",
     "status": "completed"
    },
    "tags": []
   },
   "source": [
    "Application of Decision Tree"
   ]
  },
  {
   "cell_type": "code",
   "execution_count": 23,
   "id": "941e5b32",
   "metadata": {
    "execution": {
     "iopub.execute_input": "2025-03-07T13:13:17.872394Z",
     "iopub.status.busy": "2025-03-07T13:13:17.872137Z",
     "iopub.status.idle": "2025-03-07T13:13:17.890731Z",
     "shell.execute_reply": "2025-03-07T13:13:17.889561Z"
    },
    "papermill": {
     "duration": 0.042091,
     "end_time": "2025-03-07T13:13:17.892542",
     "exception": false,
     "start_time": "2025-03-07T13:13:17.850451",
     "status": "completed"
    },
    "tags": []
   },
   "outputs": [
    {
     "data": {
      "text/html": [
       "<style>#sk-container-id-1 {color: black;background-color: white;}#sk-container-id-1 pre{padding: 0;}#sk-container-id-1 div.sk-toggleable {background-color: white;}#sk-container-id-1 label.sk-toggleable__label {cursor: pointer;display: block;width: 100%;margin-bottom: 0;padding: 0.3em;box-sizing: border-box;text-align: center;}#sk-container-id-1 label.sk-toggleable__label-arrow:before {content: \"▸\";float: left;margin-right: 0.25em;color: #696969;}#sk-container-id-1 label.sk-toggleable__label-arrow:hover:before {color: black;}#sk-container-id-1 div.sk-estimator:hover label.sk-toggleable__label-arrow:before {color: black;}#sk-container-id-1 div.sk-toggleable__content {max-height: 0;max-width: 0;overflow: hidden;text-align: left;background-color: #f0f8ff;}#sk-container-id-1 div.sk-toggleable__content pre {margin: 0.2em;color: black;border-radius: 0.25em;background-color: #f0f8ff;}#sk-container-id-1 input.sk-toggleable__control:checked~div.sk-toggleable__content {max-height: 200px;max-width: 100%;overflow: auto;}#sk-container-id-1 input.sk-toggleable__control:checked~label.sk-toggleable__label-arrow:before {content: \"▾\";}#sk-container-id-1 div.sk-estimator input.sk-toggleable__control:checked~label.sk-toggleable__label {background-color: #d4ebff;}#sk-container-id-1 div.sk-label input.sk-toggleable__control:checked~label.sk-toggleable__label {background-color: #d4ebff;}#sk-container-id-1 input.sk-hidden--visually {border: 0;clip: rect(1px 1px 1px 1px);clip: rect(1px, 1px, 1px, 1px);height: 1px;margin: -1px;overflow: hidden;padding: 0;position: absolute;width: 1px;}#sk-container-id-1 div.sk-estimator {font-family: monospace;background-color: #f0f8ff;border: 1px dotted black;border-radius: 0.25em;box-sizing: border-box;margin-bottom: 0.5em;}#sk-container-id-1 div.sk-estimator:hover {background-color: #d4ebff;}#sk-container-id-1 div.sk-parallel-item::after {content: \"\";width: 100%;border-bottom: 1px solid gray;flex-grow: 1;}#sk-container-id-1 div.sk-label:hover label.sk-toggleable__label {background-color: #d4ebff;}#sk-container-id-1 div.sk-serial::before {content: \"\";position: absolute;border-left: 1px solid gray;box-sizing: border-box;top: 0;bottom: 0;left: 50%;z-index: 0;}#sk-container-id-1 div.sk-serial {display: flex;flex-direction: column;align-items: center;background-color: white;padding-right: 0.2em;padding-left: 0.2em;position: relative;}#sk-container-id-1 div.sk-item {position: relative;z-index: 1;}#sk-container-id-1 div.sk-parallel {display: flex;align-items: stretch;justify-content: center;background-color: white;position: relative;}#sk-container-id-1 div.sk-item::before, #sk-container-id-1 div.sk-parallel-item::before {content: \"\";position: absolute;border-left: 1px solid gray;box-sizing: border-box;top: 0;bottom: 0;left: 50%;z-index: -1;}#sk-container-id-1 div.sk-parallel-item {display: flex;flex-direction: column;z-index: 1;position: relative;background-color: white;}#sk-container-id-1 div.sk-parallel-item:first-child::after {align-self: flex-end;width: 50%;}#sk-container-id-1 div.sk-parallel-item:last-child::after {align-self: flex-start;width: 50%;}#sk-container-id-1 div.sk-parallel-item:only-child::after {width: 0;}#sk-container-id-1 div.sk-dashed-wrapped {border: 1px dashed gray;margin: 0 0.4em 0.5em 0.4em;box-sizing: border-box;padding-bottom: 0.4em;background-color: white;}#sk-container-id-1 div.sk-label label {font-family: monospace;font-weight: bold;display: inline-block;line-height: 1.2em;}#sk-container-id-1 div.sk-label-container {text-align: center;}#sk-container-id-1 div.sk-container {/* jupyter's `normalize.less` sets `[hidden] { display: none; }` but bootstrap.min.css set `[hidden] { display: none !important; }` so we also need the `!important` here to be able to override the default hidden behavior on the sphinx rendered scikit-learn.org. See: https://github.com/scikit-learn/scikit-learn/issues/21755 */display: inline-block !important;position: relative;}#sk-container-id-1 div.sk-text-repr-fallback {display: none;}</style><div id=\"sk-container-id-1\" class=\"sk-top-container\"><div class=\"sk-text-repr-fallback\"><pre>DecisionTreeClassifier(max_depth=10, random_state=1)</pre><b>In a Jupyter environment, please rerun this cell to show the HTML representation or trust the notebook. <br />On GitHub, the HTML representation is unable to render, please try loading this page with nbviewer.org.</b></div><div class=\"sk-container\" hidden><div class=\"sk-item\"><div class=\"sk-estimator sk-toggleable\"><input class=\"sk-toggleable__control sk-hidden--visually\" id=\"sk-estimator-id-1\" type=\"checkbox\" checked><label for=\"sk-estimator-id-1\" class=\"sk-toggleable__label sk-toggleable__label-arrow\">DecisionTreeClassifier</label><div class=\"sk-toggleable__content\"><pre>DecisionTreeClassifier(max_depth=10, random_state=1)</pre></div></div></div></div></div>"
      ],
      "text/plain": [
       "DecisionTreeClassifier(max_depth=10, random_state=1)"
      ]
     },
     "execution_count": 23,
     "metadata": {},
     "output_type": "execute_result"
    }
   ],
   "source": [
    "dt_model = DecisionTreeClassifier(criterion='gini', max_depth=10, random_state=1)\n",
    "dt_model.fit(x_train_na, y_train)\n",
    "\n",
    "#plt.figure(figsize=(30,30))\n",
    "#plot_tree(dt_model, feature_names=x_train_na.columns, class_names=['Survived','Dead'], filled=True)\n",
    "#plt.show()"
   ]
  },
  {
   "cell_type": "code",
   "execution_count": 24,
   "id": "b08d34ba",
   "metadata": {
    "execution": {
     "iopub.execute_input": "2025-03-07T13:13:17.939547Z",
     "iopub.status.busy": "2025-03-07T13:13:17.939245Z",
     "iopub.status.idle": "2025-03-07T13:13:17.945017Z",
     "shell.execute_reply": "2025-03-07T13:13:17.943297Z"
    },
    "papermill": {
     "duration": 0.030923,
     "end_time": "2025-03-07T13:13:17.946694",
     "exception": false,
     "start_time": "2025-03-07T13:13:17.915771",
     "status": "completed"
    },
    "tags": []
   },
   "outputs": [],
   "source": [
    "# Removing any column in test that isnt present in training\n",
    "x_test_na = x_test_na[x_train_na.columns]"
   ]
  },
  {
   "cell_type": "code",
   "execution_count": 25,
   "id": "9605e0f8",
   "metadata": {
    "execution": {
     "iopub.execute_input": "2025-03-07T13:13:17.994114Z",
     "iopub.status.busy": "2025-03-07T13:13:17.993806Z",
     "iopub.status.idle": "2025-03-07T13:13:18.024148Z",
     "shell.execute_reply": "2025-03-07T13:13:18.022446Z"
    },
    "papermill": {
     "duration": 0.056512,
     "end_time": "2025-03-07T13:13:18.026507",
     "exception": false,
     "start_time": "2025-03-07T13:13:17.969995",
     "status": "completed"
    },
    "tags": []
   },
   "outputs": [
    {
     "data": {
      "text/html": [
       "<div>\n",
       "<style scoped>\n",
       "    .dataframe tbody tr th:only-of-type {\n",
       "        vertical-align: middle;\n",
       "    }\n",
       "\n",
       "    .dataframe tbody tr th {\n",
       "        vertical-align: top;\n",
       "    }\n",
       "\n",
       "    .dataframe thead th {\n",
       "        text-align: right;\n",
       "    }\n",
       "</style>\n",
       "<table border=\"1\" class=\"dataframe\">\n",
       "  <thead>\n",
       "    <tr style=\"text-align: right;\">\n",
       "      <th></th>\n",
       "      <th>Metric</th>\n",
       "      <th>Train Score</th>\n",
       "      <th>Test Score</th>\n",
       "    </tr>\n",
       "  </thead>\n",
       "  <tbody>\n",
       "    <tr>\n",
       "      <th>0</th>\n",
       "      <td>Accuracy</td>\n",
       "      <td>0.884400</td>\n",
       "      <td>0.887560</td>\n",
       "    </tr>\n",
       "    <tr>\n",
       "      <th>1</th>\n",
       "      <td>Precision</td>\n",
       "      <td>0.894511</td>\n",
       "      <td>0.888038</td>\n",
       "    </tr>\n",
       "    <tr>\n",
       "      <th>2</th>\n",
       "      <td>Recall</td>\n",
       "      <td>0.884400</td>\n",
       "      <td>0.887560</td>\n",
       "    </tr>\n",
       "    <tr>\n",
       "      <th>3</th>\n",
       "      <td>F2-Score</td>\n",
       "      <td>0.880901</td>\n",
       "      <td>0.886368</td>\n",
       "    </tr>\n",
       "  </tbody>\n",
       "</table>\n",
       "</div>"
      ],
      "text/plain": [
       "      Metric  Train Score  Test Score\n",
       "0   Accuracy     0.884400    0.887560\n",
       "1  Precision     0.894511    0.888038\n",
       "2     Recall     0.884400    0.887560\n",
       "3   F2-Score     0.880901    0.886368"
      ]
     },
     "execution_count": 25,
     "metadata": {},
     "output_type": "execute_result"
    }
   ],
   "source": [
    "dtna_train = model_performance_classification(dt_model, x_train_na, y_train)\n",
    "dtna_test = model_performance_classification(dt_model, x_test_na, y_test)\n",
    "\n",
    "metrics_comparison = pd.DataFrame({\n",
    "    \"Metric\": [\"Accuracy\", \"Precision\", \"Recall\", \"F2-Score\"],\n",
    "    \"Train Score\": dtna_train.iloc[0].values,  # Extract values from DataFrame\n",
    "    \"Test Score\": dtna_test.iloc[0].values\n",
    "})\n",
    "\n",
    "metrics_comparison"
   ]
  },
  {
   "cell_type": "markdown",
   "id": "1a564217",
   "metadata": {
    "papermill": {
     "duration": 0.022106,
     "end_time": "2025-03-07T13:13:18.071213",
     "exception": false,
     "start_time": "2025-03-07T13:13:18.049107",
     "status": "completed"
    },
    "tags": []
   },
   "source": [
    "trying random forest"
   ]
  },
  {
   "cell_type": "code",
   "execution_count": 26,
   "id": "f6f12206",
   "metadata": {
    "execution": {
     "iopub.execute_input": "2025-03-07T13:13:18.118273Z",
     "iopub.status.busy": "2025-03-07T13:13:18.117904Z",
     "iopub.status.idle": "2025-03-07T13:13:18.253599Z",
     "shell.execute_reply": "2025-03-07T13:13:18.252677Z"
    },
    "papermill": {
     "duration": 0.160225,
     "end_time": "2025-03-07T13:13:18.254866",
     "exception": false,
     "start_time": "2025-03-07T13:13:18.094641",
     "status": "completed"
    },
    "tags": []
   },
   "outputs": [
    {
     "data": {
      "text/html": [
       "<style>#sk-container-id-2 {color: black;background-color: white;}#sk-container-id-2 pre{padding: 0;}#sk-container-id-2 div.sk-toggleable {background-color: white;}#sk-container-id-2 label.sk-toggleable__label {cursor: pointer;display: block;width: 100%;margin-bottom: 0;padding: 0.3em;box-sizing: border-box;text-align: center;}#sk-container-id-2 label.sk-toggleable__label-arrow:before {content: \"▸\";float: left;margin-right: 0.25em;color: #696969;}#sk-container-id-2 label.sk-toggleable__label-arrow:hover:before {color: black;}#sk-container-id-2 div.sk-estimator:hover label.sk-toggleable__label-arrow:before {color: black;}#sk-container-id-2 div.sk-toggleable__content {max-height: 0;max-width: 0;overflow: hidden;text-align: left;background-color: #f0f8ff;}#sk-container-id-2 div.sk-toggleable__content pre {margin: 0.2em;color: black;border-radius: 0.25em;background-color: #f0f8ff;}#sk-container-id-2 input.sk-toggleable__control:checked~div.sk-toggleable__content {max-height: 200px;max-width: 100%;overflow: auto;}#sk-container-id-2 input.sk-toggleable__control:checked~label.sk-toggleable__label-arrow:before {content: \"▾\";}#sk-container-id-2 div.sk-estimator input.sk-toggleable__control:checked~label.sk-toggleable__label {background-color: #d4ebff;}#sk-container-id-2 div.sk-label input.sk-toggleable__control:checked~label.sk-toggleable__label {background-color: #d4ebff;}#sk-container-id-2 input.sk-hidden--visually {border: 0;clip: rect(1px 1px 1px 1px);clip: rect(1px, 1px, 1px, 1px);height: 1px;margin: -1px;overflow: hidden;padding: 0;position: absolute;width: 1px;}#sk-container-id-2 div.sk-estimator {font-family: monospace;background-color: #f0f8ff;border: 1px dotted black;border-radius: 0.25em;box-sizing: border-box;margin-bottom: 0.5em;}#sk-container-id-2 div.sk-estimator:hover {background-color: #d4ebff;}#sk-container-id-2 div.sk-parallel-item::after {content: \"\";width: 100%;border-bottom: 1px solid gray;flex-grow: 1;}#sk-container-id-2 div.sk-label:hover label.sk-toggleable__label {background-color: #d4ebff;}#sk-container-id-2 div.sk-serial::before {content: \"\";position: absolute;border-left: 1px solid gray;box-sizing: border-box;top: 0;bottom: 0;left: 50%;z-index: 0;}#sk-container-id-2 div.sk-serial {display: flex;flex-direction: column;align-items: center;background-color: white;padding-right: 0.2em;padding-left: 0.2em;position: relative;}#sk-container-id-2 div.sk-item {position: relative;z-index: 1;}#sk-container-id-2 div.sk-parallel {display: flex;align-items: stretch;justify-content: center;background-color: white;position: relative;}#sk-container-id-2 div.sk-item::before, #sk-container-id-2 div.sk-parallel-item::before {content: \"\";position: absolute;border-left: 1px solid gray;box-sizing: border-box;top: 0;bottom: 0;left: 50%;z-index: -1;}#sk-container-id-2 div.sk-parallel-item {display: flex;flex-direction: column;z-index: 1;position: relative;background-color: white;}#sk-container-id-2 div.sk-parallel-item:first-child::after {align-self: flex-end;width: 50%;}#sk-container-id-2 div.sk-parallel-item:last-child::after {align-self: flex-start;width: 50%;}#sk-container-id-2 div.sk-parallel-item:only-child::after {width: 0;}#sk-container-id-2 div.sk-dashed-wrapped {border: 1px dashed gray;margin: 0 0.4em 0.5em 0.4em;box-sizing: border-box;padding-bottom: 0.4em;background-color: white;}#sk-container-id-2 div.sk-label label {font-family: monospace;font-weight: bold;display: inline-block;line-height: 1.2em;}#sk-container-id-2 div.sk-label-container {text-align: center;}#sk-container-id-2 div.sk-container {/* jupyter's `normalize.less` sets `[hidden] { display: none; }` but bootstrap.min.css set `[hidden] { display: none !important; }` so we also need the `!important` here to be able to override the default hidden behavior on the sphinx rendered scikit-learn.org. See: https://github.com/scikit-learn/scikit-learn/issues/21755 */display: inline-block !important;position: relative;}#sk-container-id-2 div.sk-text-repr-fallback {display: none;}</style><div id=\"sk-container-id-2\" class=\"sk-top-container\"><div class=\"sk-text-repr-fallback\"><pre>RandomForestClassifier(max_depth=8, random_state=1)</pre><b>In a Jupyter environment, please rerun this cell to show the HTML representation or trust the notebook. <br />On GitHub, the HTML representation is unable to render, please try loading this page with nbviewer.org.</b></div><div class=\"sk-container\" hidden><div class=\"sk-item\"><div class=\"sk-estimator sk-toggleable\"><input class=\"sk-toggleable__control sk-hidden--visually\" id=\"sk-estimator-id-2\" type=\"checkbox\" checked><label for=\"sk-estimator-id-2\" class=\"sk-toggleable__label sk-toggleable__label-arrow\">RandomForestClassifier</label><div class=\"sk-toggleable__content\"><pre>RandomForestClassifier(max_depth=8, random_state=1)</pre></div></div></div></div></div>"
      ],
      "text/plain": [
       "RandomForestClassifier(max_depth=8, random_state=1)"
      ]
     },
     "execution_count": 26,
     "metadata": {},
     "output_type": "execute_result"
    }
   ],
   "source": [
    "rf_model = RandomForestClassifier(n_estimators=100,max_depth=8, random_state=1)\n",
    "rf_model.fit(x_train_na, y_train)"
   ]
  },
  {
   "cell_type": "code",
   "execution_count": 27,
   "id": "84d93c76",
   "metadata": {
    "execution": {
     "iopub.execute_input": "2025-03-07T13:13:18.301751Z",
     "iopub.status.busy": "2025-03-07T13:13:18.301258Z",
     "iopub.status.idle": "2025-03-07T13:13:20.450577Z",
     "shell.execute_reply": "2025-03-07T13:13:20.448248Z"
    },
    "papermill": {
     "duration": 2.175805,
     "end_time": "2025-03-07T13:13:20.453179",
     "exception": false,
     "start_time": "2025-03-07T13:13:18.277374",
     "status": "completed"
    },
    "tags": []
   },
   "outputs": [
    {
     "name": "stdout",
     "output_type": "stream",
     "text": [
      "Mean CV Score: 0.8114856429463171\n",
      "Standard Deviation: 0.04054642277969844\n"
     ]
    }
   ],
   "source": [
    "# Perform cross-validation\n",
    "cv_scores = cross_val_score(rf_model, x_train_na, y_train, cv=10, scoring='accuracy', n_jobs=-1)\n",
    "\n",
    "# Display score\n",
    "print(\"Mean CV Score:\", cv_scores.mean())\n",
    "print(\"Standard Deviation:\", cv_scores.std())"
   ]
  },
  {
   "cell_type": "markdown",
   "id": "e1a56aa4",
   "metadata": {
    "papermill": {
     "duration": 0.021946,
     "end_time": "2025-03-07T13:13:20.497861",
     "exception": false,
     "start_time": "2025-03-07T13:13:20.475915",
     "status": "completed"
    },
    "tags": []
   },
   "source": [
    "Try to tune this model, since it has the best result"
   ]
  },
  {
   "cell_type": "code",
   "execution_count": 28,
   "id": "a36c66c4",
   "metadata": {
    "execution": {
     "iopub.execute_input": "2025-03-07T13:13:20.543448Z",
     "iopub.status.busy": "2025-03-07T13:13:20.543173Z",
     "iopub.status.idle": "2025-03-07T13:13:25.163214Z",
     "shell.execute_reply": "2025-03-07T13:13:25.161684Z"
    },
    "papermill": {
     "duration": 4.645415,
     "end_time": "2025-03-07T13:13:25.165376",
     "exception": false,
     "start_time": "2025-03-07T13:13:20.519961",
     "status": "completed"
    },
    "tags": []
   },
   "outputs": [
    {
     "name": "stdout",
     "output_type": "stream",
     "text": [
      "Fitting 10 folds for each of 8 candidates, totalling 80 fits\n",
      "Best Parameters: {'max_depth': 6, 'max_features': 12, 'min_samples_leaf': 5, 'min_samples_split': 20, 'n_estimators': 100}\n",
      "Mean CV Score: 0.8048\n",
      "Standard Deviation: 0.0069\n"
     ]
    }
   ],
   "source": [
    "# Grid search for best parameter\n",
    "param_grid = {\n",
    "    'n_estimators': [100],  # 100 for stability\n",
    "    'max_depth': [6],  # since the data set is small, split should be low\n",
    "    'min_samples_split': [10,20],  # Minimum samples to split an internal node\n",
    "    'min_samples_leaf': [5,10],\n",
    "    'max_features': ['sqrt',12]\n",
    "}\n",
    "\n",
    "# Initialize RF model\n",
    "rf_model_grid = RandomForestClassifier(random_state=1)\n",
    "\n",
    "# Perform Grid Search with Cross-Validation\n",
    "grid_search = GridSearchCV(rf_model_grid, param_grid, cv=10, scoring='accuracy', n_jobs=-1, verbose=2)\n",
    "grid_search.fit(x_train_na, y_train)\n",
    "\n",
    "# Extract mean test scores from all parameter combinations\n",
    "cv_scores = grid_search.cv_results_['mean_test_score']\n",
    "cv_std = grid_search.cv_results_['std_test_score']\n",
    "\n",
    "# Display best parameters and score\n",
    "print(\"Best Parameters:\", grid_search.best_params_)\n",
    "print(f\"Mean CV Score: {np.mean(cv_scores):.4f}\")\n",
    "print(f\"Standard Deviation: {np.std(cv_std):.4f}\")"
   ]
  },
  {
   "cell_type": "code",
   "execution_count": 29,
   "id": "311e0de9",
   "metadata": {
    "execution": {
     "iopub.execute_input": "2025-03-07T13:13:25.215919Z",
     "iopub.status.busy": "2025-03-07T13:13:25.215600Z",
     "iopub.status.idle": "2025-03-07T13:13:29.081171Z",
     "shell.execute_reply": "2025-03-07T13:13:29.079039Z"
    },
    "papermill": {
     "duration": 3.893202,
     "end_time": "2025-03-07T13:13:29.083486",
     "exception": false,
     "start_time": "2025-03-07T13:13:25.190284",
     "status": "completed"
    },
    "tags": []
   },
   "outputs": [
    {
     "name": "stdout",
     "output_type": "stream",
     "text": [
      "Fitting 10 folds for each of 6 candidates, totalling 60 fits\n",
      "Best Parameters: {'bootstrap': True, 'class_weight': None, 'max_depth': 8, 'max_features': 12, 'n_estimators': 100}\n",
      "Mean CV Score: 0.8081\n",
      "Standard Deviation: 0.0045\n"
     ]
    }
   ],
   "source": [
    "# Grid search for best parameter\n",
    "param_grid = {\n",
    "    'n_estimators': [100],  # 100 for stability\n",
    "    'max_depth': [8],  # since the data set is small, split should be low\n",
    "    'max_features': [12],\n",
    "    'bootstrap': [True, False],  # Bootstrap sampling for trees\n",
    "    'class_weight': [None, 'balanced', 'balanced_subsample']\n",
    "}\n",
    "\n",
    "# Initialize RF model\n",
    "rf_model_grid2 = RandomForestClassifier(random_state=1)\n",
    "\n",
    "# Perform Grid Search with Cross-Validation\n",
    "grid_search = GridSearchCV(rf_model_grid2, param_grid, cv=10, scoring='accuracy', n_jobs=-1, verbose=2)\n",
    "grid_search.fit(x_train_na, y_train)\n",
    "\n",
    "# Extract mean test scores from all parameter combinations\n",
    "cv_scores = grid_search.cv_results_['mean_test_score']\n",
    "cv_std = grid_search.cv_results_['std_test_score']\n",
    "\n",
    "# Display best parameters and score\n",
    "print(\"Best Parameters:\", grid_search.best_params_)\n",
    "print(f\"Mean CV Score: {np.mean(cv_scores):.4f}\")\n",
    "print(f\"Standard Deviation: {np.std(cv_std):.4f}\")"
   ]
  },
  {
   "cell_type": "code",
   "execution_count": 30,
   "id": "35465a38",
   "metadata": {
    "execution": {
     "iopub.execute_input": "2025-03-07T13:13:29.129818Z",
     "iopub.status.busy": "2025-03-07T13:13:29.129530Z",
     "iopub.status.idle": "2025-03-07T13:13:29.282222Z",
     "shell.execute_reply": "2025-03-07T13:13:29.280729Z"
    },
    "papermill": {
     "duration": 0.178024,
     "end_time": "2025-03-07T13:13:29.284552",
     "exception": false,
     "start_time": "2025-03-07T13:13:29.106528",
     "status": "completed"
    },
    "tags": []
   },
   "outputs": [
    {
     "data": {
      "text/html": [
       "<style>#sk-container-id-3 {color: black;background-color: white;}#sk-container-id-3 pre{padding: 0;}#sk-container-id-3 div.sk-toggleable {background-color: white;}#sk-container-id-3 label.sk-toggleable__label {cursor: pointer;display: block;width: 100%;margin-bottom: 0;padding: 0.3em;box-sizing: border-box;text-align: center;}#sk-container-id-3 label.sk-toggleable__label-arrow:before {content: \"▸\";float: left;margin-right: 0.25em;color: #696969;}#sk-container-id-3 label.sk-toggleable__label-arrow:hover:before {color: black;}#sk-container-id-3 div.sk-estimator:hover label.sk-toggleable__label-arrow:before {color: black;}#sk-container-id-3 div.sk-toggleable__content {max-height: 0;max-width: 0;overflow: hidden;text-align: left;background-color: #f0f8ff;}#sk-container-id-3 div.sk-toggleable__content pre {margin: 0.2em;color: black;border-radius: 0.25em;background-color: #f0f8ff;}#sk-container-id-3 input.sk-toggleable__control:checked~div.sk-toggleable__content {max-height: 200px;max-width: 100%;overflow: auto;}#sk-container-id-3 input.sk-toggleable__control:checked~label.sk-toggleable__label-arrow:before {content: \"▾\";}#sk-container-id-3 div.sk-estimator input.sk-toggleable__control:checked~label.sk-toggleable__label {background-color: #d4ebff;}#sk-container-id-3 div.sk-label input.sk-toggleable__control:checked~label.sk-toggleable__label {background-color: #d4ebff;}#sk-container-id-3 input.sk-hidden--visually {border: 0;clip: rect(1px 1px 1px 1px);clip: rect(1px, 1px, 1px, 1px);height: 1px;margin: -1px;overflow: hidden;padding: 0;position: absolute;width: 1px;}#sk-container-id-3 div.sk-estimator {font-family: monospace;background-color: #f0f8ff;border: 1px dotted black;border-radius: 0.25em;box-sizing: border-box;margin-bottom: 0.5em;}#sk-container-id-3 div.sk-estimator:hover {background-color: #d4ebff;}#sk-container-id-3 div.sk-parallel-item::after {content: \"\";width: 100%;border-bottom: 1px solid gray;flex-grow: 1;}#sk-container-id-3 div.sk-label:hover label.sk-toggleable__label {background-color: #d4ebff;}#sk-container-id-3 div.sk-serial::before {content: \"\";position: absolute;border-left: 1px solid gray;box-sizing: border-box;top: 0;bottom: 0;left: 50%;z-index: 0;}#sk-container-id-3 div.sk-serial {display: flex;flex-direction: column;align-items: center;background-color: white;padding-right: 0.2em;padding-left: 0.2em;position: relative;}#sk-container-id-3 div.sk-item {position: relative;z-index: 1;}#sk-container-id-3 div.sk-parallel {display: flex;align-items: stretch;justify-content: center;background-color: white;position: relative;}#sk-container-id-3 div.sk-item::before, #sk-container-id-3 div.sk-parallel-item::before {content: \"\";position: absolute;border-left: 1px solid gray;box-sizing: border-box;top: 0;bottom: 0;left: 50%;z-index: -1;}#sk-container-id-3 div.sk-parallel-item {display: flex;flex-direction: column;z-index: 1;position: relative;background-color: white;}#sk-container-id-3 div.sk-parallel-item:first-child::after {align-self: flex-end;width: 50%;}#sk-container-id-3 div.sk-parallel-item:last-child::after {align-self: flex-start;width: 50%;}#sk-container-id-3 div.sk-parallel-item:only-child::after {width: 0;}#sk-container-id-3 div.sk-dashed-wrapped {border: 1px dashed gray;margin: 0 0.4em 0.5em 0.4em;box-sizing: border-box;padding-bottom: 0.4em;background-color: white;}#sk-container-id-3 div.sk-label label {font-family: monospace;font-weight: bold;display: inline-block;line-height: 1.2em;}#sk-container-id-3 div.sk-label-container {text-align: center;}#sk-container-id-3 div.sk-container {/* jupyter's `normalize.less` sets `[hidden] { display: none; }` but bootstrap.min.css set `[hidden] { display: none !important; }` so we also need the `!important` here to be able to override the default hidden behavior on the sphinx rendered scikit-learn.org. See: https://github.com/scikit-learn/scikit-learn/issues/21755 */display: inline-block !important;position: relative;}#sk-container-id-3 div.sk-text-repr-fallback {display: none;}</style><div id=\"sk-container-id-3\" class=\"sk-top-container\"><div class=\"sk-text-repr-fallback\"><pre>RandomForestClassifier(max_depth=8, max_features=12, random_state=1)</pre><b>In a Jupyter environment, please rerun this cell to show the HTML representation or trust the notebook. <br />On GitHub, the HTML representation is unable to render, please try loading this page with nbviewer.org.</b></div><div class=\"sk-container\" hidden><div class=\"sk-item\"><div class=\"sk-estimator sk-toggleable\"><input class=\"sk-toggleable__control sk-hidden--visually\" id=\"sk-estimator-id-3\" type=\"checkbox\" checked><label for=\"sk-estimator-id-3\" class=\"sk-toggleable__label sk-toggleable__label-arrow\">RandomForestClassifier</label><div class=\"sk-toggleable__content\"><pre>RandomForestClassifier(max_depth=8, max_features=12, random_state=1)</pre></div></div></div></div></div>"
      ],
      "text/plain": [
       "RandomForestClassifier(max_depth=8, max_features=12, random_state=1)"
      ]
     },
     "execution_count": 30,
     "metadata": {},
     "output_type": "execute_result"
    }
   ],
   "source": [
    "# Fit model\n",
    "rf_model_tuned = RandomForestClassifier(\n",
    "    n_estimators=100,\n",
    "    max_depth=8,\n",
    "    max_features=12,\n",
    "    bootstrap=True,\n",
    "    class_weight=None,\n",
    "    random_state=1,\n",
    "    )\n",
    "rf_model_tuned.fit(x_train_na, y_train)"
   ]
  },
  {
   "cell_type": "markdown",
   "id": "63adffd0",
   "metadata": {
    "papermill": {
     "duration": 0.023352,
     "end_time": "2025-03-07T13:13:29.331623",
     "exception": false,
     "start_time": "2025-03-07T13:13:29.308271",
     "status": "completed"
    },
    "tags": []
   },
   "source": [
    "This performs, better try submit"
   ]
  },
  {
   "cell_type": "code",
   "execution_count": 31,
   "id": "b990d50e",
   "metadata": {
    "execution": {
     "iopub.execute_input": "2025-03-07T13:13:29.383296Z",
     "iopub.status.busy": "2025-03-07T13:13:29.382750Z",
     "iopub.status.idle": "2025-03-07T13:13:29.393414Z",
     "shell.execute_reply": "2025-03-07T13:13:29.392236Z"
    },
    "papermill": {
     "duration": 0.03876,
     "end_time": "2025-03-07T13:13:29.395580",
     "exception": false,
     "start_time": "2025-03-07T13:13:29.356820",
     "status": "completed"
    },
    "tags": []
   },
   "outputs": [
    {
     "data": {
      "text/plain": [
       "(418, 18)"
      ]
     },
     "execution_count": 31,
     "metadata": {},
     "output_type": "execute_result"
    }
   ],
   "source": [
    "# match column for rf_model_tuned\n",
    "trained_features = rf_model_tuned.feature_names_in_\n",
    "\n",
    "x_test_na = x_test_na[trained_features]\n",
    "x_test_na = x_test_na.reindex(columns=trained_features)\n",
    "x_test_na.shape"
   ]
  },
  {
   "cell_type": "code",
   "execution_count": 32,
   "id": "802a29f6",
   "metadata": {
    "execution": {
     "iopub.execute_input": "2025-03-07T13:13:29.445185Z",
     "iopub.status.busy": "2025-03-07T13:13:29.444856Z",
     "iopub.status.idle": "2025-03-07T13:13:29.470990Z",
     "shell.execute_reply": "2025-03-07T13:13:29.469358Z"
    },
    "papermill": {
     "duration": 0.053108,
     "end_time": "2025-03-07T13:13:29.473261",
     "exception": false,
     "start_time": "2025-03-07T13:13:29.420153",
     "status": "completed"
    },
    "tags": []
   },
   "outputs": [
    {
     "data": {
      "text/plain": [
       "(418, 2)"
      ]
     },
     "execution_count": 32,
     "metadata": {},
     "output_type": "execute_result"
    }
   ],
   "source": [
    "# including passanger ID back to dataset, there are 1 row dropped of missing value\n",
    "model_predictions = rf_model_tuned.predict(x_test_na).flatten()\n",
    "\n",
    "passenger_ids_fixed = merged_test_initial[\"PassengerId\"].iloc[x_test_na.index]\n",
    "\n",
    "# Create the final submission DataFrame\n",
    "submission = pd.DataFrame({\n",
    "    \"PassengerId\": passenger_ids_fixed,\n",
    "    \"Survived\": model_predictions.astype(int)\n",
    "})\n",
    "\n",
    "# Save submission file\n",
    "submission.to_csv(\"77.7%RFTuned.csv\", index=False)\n",
    "submission.shape"
   ]
  },
  {
   "cell_type": "markdown",
   "id": "9f2cb5cd",
   "metadata": {
    "papermill": {
     "duration": 0.023325,
     "end_time": "2025-03-07T13:13:29.520509",
     "exception": false,
     "start_time": "2025-03-07T13:13:29.497184",
     "status": "completed"
    },
    "tags": []
   },
   "source": [
    "77.5%"
   ]
  },
  {
   "cell_type": "code",
   "execution_count": 33,
   "id": "0c300395",
   "metadata": {
    "execution": {
     "iopub.execute_input": "2025-03-07T13:13:29.569127Z",
     "iopub.status.busy": "2025-03-07T13:13:29.568791Z",
     "iopub.status.idle": "2025-03-07T13:13:31.798824Z",
     "shell.execute_reply": "2025-03-07T13:13:31.796515Z"
    },
    "papermill": {
     "duration": 2.258136,
     "end_time": "2025-03-07T13:13:31.801792",
     "exception": false,
     "start_time": "2025-03-07T13:13:29.543656",
     "status": "completed"
    },
    "tags": []
   },
   "outputs": [
    {
     "name": "stdout",
     "output_type": "stream",
     "text": [
      "Fitting 10 folds for each of 4 candidates, totalling 40 fits\n",
      "Best Parameters: {'bootstrap': True, 'max_depth': 4, 'max_features': 12, 'min_samples_leaf': 20, 'min_samples_split': 50, 'n_estimators': 100}\n",
      "Mean CV Score: 0.7977\n",
      "Standard Deviation: 0.0053\n"
     ]
    }
   ],
   "source": [
    "# Grid search for best parameter\n",
    "param_grid = {\n",
    "    'n_estimators': [100],  # 100 for stability\n",
    "    'max_depth': [4],  # since the data set is small, split should be low\n",
    "    'min_samples_split': [50],  # Minimum samples to split an internal node\n",
    "    'min_samples_leaf': [20],\n",
    "    'max_features': [12,18],\n",
    "    'bootstrap':[True,False]\n",
    "}\n",
    "\n",
    "# Initialize RF model\n",
    "rf_model_grid3 = RandomForestClassifier(random_state=1)\n",
    "\n",
    "# Perform Grid Search with Cross-Validation\n",
    "grid_search = GridSearchCV(rf_model_grid3, param_grid, cv=10, scoring='accuracy', n_jobs=-1, verbose=2)\n",
    "grid_search.fit(x_train_na, y_train)\n",
    "\n",
    "# Extract mean test scores from all parameter combinations\n",
    "cv_scores = grid_search.cv_results_['mean_test_score']\n",
    "cv_std = grid_search.cv_results_['std_test_score']\n",
    "\n",
    "# Display best parameters and score\n",
    "print(\"Best Parameters:\", grid_search.best_params_)\n",
    "print(f\"Mean CV Score: {np.mean(cv_scores):.4f}\")\n",
    "print(f\"Standard Deviation: {np.std(cv_std):.4f}\")"
   ]
  },
  {
   "cell_type": "code",
   "execution_count": 34,
   "id": "eb3007f5",
   "metadata": {
    "execution": {
     "iopub.execute_input": "2025-03-07T13:13:31.853964Z",
     "iopub.status.busy": "2025-03-07T13:13:31.853609Z",
     "iopub.status.idle": "2025-03-07T13:13:31.983580Z",
     "shell.execute_reply": "2025-03-07T13:13:31.982097Z"
    },
    "papermill": {
     "duration": 0.158364,
     "end_time": "2025-03-07T13:13:31.985634",
     "exception": false,
     "start_time": "2025-03-07T13:13:31.827270",
     "status": "completed"
    },
    "tags": []
   },
   "outputs": [
    {
     "data": {
      "text/html": [
       "<style>#sk-container-id-4 {color: black;background-color: white;}#sk-container-id-4 pre{padding: 0;}#sk-container-id-4 div.sk-toggleable {background-color: white;}#sk-container-id-4 label.sk-toggleable__label {cursor: pointer;display: block;width: 100%;margin-bottom: 0;padding: 0.3em;box-sizing: border-box;text-align: center;}#sk-container-id-4 label.sk-toggleable__label-arrow:before {content: \"▸\";float: left;margin-right: 0.25em;color: #696969;}#sk-container-id-4 label.sk-toggleable__label-arrow:hover:before {color: black;}#sk-container-id-4 div.sk-estimator:hover label.sk-toggleable__label-arrow:before {color: black;}#sk-container-id-4 div.sk-toggleable__content {max-height: 0;max-width: 0;overflow: hidden;text-align: left;background-color: #f0f8ff;}#sk-container-id-4 div.sk-toggleable__content pre {margin: 0.2em;color: black;border-radius: 0.25em;background-color: #f0f8ff;}#sk-container-id-4 input.sk-toggleable__control:checked~div.sk-toggleable__content {max-height: 200px;max-width: 100%;overflow: auto;}#sk-container-id-4 input.sk-toggleable__control:checked~label.sk-toggleable__label-arrow:before {content: \"▾\";}#sk-container-id-4 div.sk-estimator input.sk-toggleable__control:checked~label.sk-toggleable__label {background-color: #d4ebff;}#sk-container-id-4 div.sk-label input.sk-toggleable__control:checked~label.sk-toggleable__label {background-color: #d4ebff;}#sk-container-id-4 input.sk-hidden--visually {border: 0;clip: rect(1px 1px 1px 1px);clip: rect(1px, 1px, 1px, 1px);height: 1px;margin: -1px;overflow: hidden;padding: 0;position: absolute;width: 1px;}#sk-container-id-4 div.sk-estimator {font-family: monospace;background-color: #f0f8ff;border: 1px dotted black;border-radius: 0.25em;box-sizing: border-box;margin-bottom: 0.5em;}#sk-container-id-4 div.sk-estimator:hover {background-color: #d4ebff;}#sk-container-id-4 div.sk-parallel-item::after {content: \"\";width: 100%;border-bottom: 1px solid gray;flex-grow: 1;}#sk-container-id-4 div.sk-label:hover label.sk-toggleable__label {background-color: #d4ebff;}#sk-container-id-4 div.sk-serial::before {content: \"\";position: absolute;border-left: 1px solid gray;box-sizing: border-box;top: 0;bottom: 0;left: 50%;z-index: 0;}#sk-container-id-4 div.sk-serial {display: flex;flex-direction: column;align-items: center;background-color: white;padding-right: 0.2em;padding-left: 0.2em;position: relative;}#sk-container-id-4 div.sk-item {position: relative;z-index: 1;}#sk-container-id-4 div.sk-parallel {display: flex;align-items: stretch;justify-content: center;background-color: white;position: relative;}#sk-container-id-4 div.sk-item::before, #sk-container-id-4 div.sk-parallel-item::before {content: \"\";position: absolute;border-left: 1px solid gray;box-sizing: border-box;top: 0;bottom: 0;left: 50%;z-index: -1;}#sk-container-id-4 div.sk-parallel-item {display: flex;flex-direction: column;z-index: 1;position: relative;background-color: white;}#sk-container-id-4 div.sk-parallel-item:first-child::after {align-self: flex-end;width: 50%;}#sk-container-id-4 div.sk-parallel-item:last-child::after {align-self: flex-start;width: 50%;}#sk-container-id-4 div.sk-parallel-item:only-child::after {width: 0;}#sk-container-id-4 div.sk-dashed-wrapped {border: 1px dashed gray;margin: 0 0.4em 0.5em 0.4em;box-sizing: border-box;padding-bottom: 0.4em;background-color: white;}#sk-container-id-4 div.sk-label label {font-family: monospace;font-weight: bold;display: inline-block;line-height: 1.2em;}#sk-container-id-4 div.sk-label-container {text-align: center;}#sk-container-id-4 div.sk-container {/* jupyter's `normalize.less` sets `[hidden] { display: none; }` but bootstrap.min.css set `[hidden] { display: none !important; }` so we also need the `!important` here to be able to override the default hidden behavior on the sphinx rendered scikit-learn.org. See: https://github.com/scikit-learn/scikit-learn/issues/21755 */display: inline-block !important;position: relative;}#sk-container-id-4 div.sk-text-repr-fallback {display: none;}</style><div id=\"sk-container-id-4\" class=\"sk-top-container\"><div class=\"sk-text-repr-fallback\"><pre>RandomForestClassifier(max_depth=4, max_features=12, min_samples_leaf=20,\n",
       "                       min_samples_split=50, random_state=1)</pre><b>In a Jupyter environment, please rerun this cell to show the HTML representation or trust the notebook. <br />On GitHub, the HTML representation is unable to render, please try loading this page with nbviewer.org.</b></div><div class=\"sk-container\" hidden><div class=\"sk-item\"><div class=\"sk-estimator sk-toggleable\"><input class=\"sk-toggleable__control sk-hidden--visually\" id=\"sk-estimator-id-4\" type=\"checkbox\" checked><label for=\"sk-estimator-id-4\" class=\"sk-toggleable__label sk-toggleable__label-arrow\">RandomForestClassifier</label><div class=\"sk-toggleable__content\"><pre>RandomForestClassifier(max_depth=4, max_features=12, min_samples_leaf=20,\n",
       "                       min_samples_split=50, random_state=1)</pre></div></div></div></div></div>"
      ],
      "text/plain": [
       "RandomForestClassifier(max_depth=4, max_features=12, min_samples_leaf=20,\n",
       "                       min_samples_split=50, random_state=1)"
      ]
     },
     "execution_count": 34,
     "metadata": {},
     "output_type": "execute_result"
    }
   ],
   "source": [
    "# Fit model\n",
    "rf_model_tuned_2 = RandomForestClassifier(\n",
    "    n_estimators=100,\n",
    "    max_depth=4,\n",
    "    max_features=12,\n",
    "    min_samples_leaf=20,\n",
    "    min_samples_split=50,\n",
    "    bootstrap=True,\n",
    "    random_state=1,\n",
    "    )\n",
    "rf_model_tuned_2.fit(x_train_na, y_train)"
   ]
  },
  {
   "cell_type": "code",
   "execution_count": 35,
   "id": "994bb4e9",
   "metadata": {
    "execution": {
     "iopub.execute_input": "2025-03-07T13:13:32.038513Z",
     "iopub.status.busy": "2025-03-07T13:13:32.038176Z",
     "iopub.status.idle": "2025-03-07T13:13:32.047385Z",
     "shell.execute_reply": "2025-03-07T13:13:32.045000Z"
    },
    "papermill": {
     "duration": 0.037445,
     "end_time": "2025-03-07T13:13:32.049784",
     "exception": false,
     "start_time": "2025-03-07T13:13:32.012339",
     "status": "completed"
    },
    "tags": []
   },
   "outputs": [
    {
     "data": {
      "text/plain": [
       "(418, 18)"
      ]
     },
     "execution_count": 35,
     "metadata": {},
     "output_type": "execute_result"
    }
   ],
   "source": [
    "# match column for rf_model_tuned\n",
    "trained_features = rf_model_tuned_2.feature_names_in_\n",
    "\n",
    "x_test_na = x_test_na[trained_features]\n",
    "x_test_na = x_test_na.reindex(columns=trained_features)\n",
    "x_test_na.shape"
   ]
  },
  {
   "cell_type": "code",
   "execution_count": 36,
   "id": "ab1b3a58",
   "metadata": {
    "execution": {
     "iopub.execute_input": "2025-03-07T13:13:32.104001Z",
     "iopub.status.busy": "2025-03-07T13:13:32.103678Z",
     "iopub.status.idle": "2025-03-07T13:13:32.122189Z",
     "shell.execute_reply": "2025-03-07T13:13:32.120958Z"
    },
    "papermill": {
     "duration": 0.048141,
     "end_time": "2025-03-07T13:13:32.123671",
     "exception": false,
     "start_time": "2025-03-07T13:13:32.075530",
     "status": "completed"
    },
    "tags": []
   },
   "outputs": [
    {
     "data": {
      "text/plain": [
       "(418, 2)"
      ]
     },
     "execution_count": 36,
     "metadata": {},
     "output_type": "execute_result"
    }
   ],
   "source": [
    "# including passanger ID back to dataset, there are 1 row dropped of missing value\n",
    "model_predictions = rf_model_tuned_2.predict(x_test_na).flatten()\n",
    "\n",
    "passenger_ids_fixed = merged_test_initial[\"PassengerId\"].iloc[x_test_na.index]\n",
    "\n",
    "# Create the final submission DataFrame\n",
    "submission = pd.DataFrame({\n",
    "    \"PassengerId\": passenger_ids_fixed,\n",
    "    \"Survived\": model_predictions.astype(int)\n",
    "})\n",
    "\n",
    "# Save submission file\n",
    "submission.to_csv(\"77.7%RFTuned4depth.csv\", index=False)\n",
    "submission.shape"
   ]
  },
  {
   "cell_type": "markdown",
   "id": "8f0f576b",
   "metadata": {
    "papermill": {
     "duration": 0.022571,
     "end_time": "2025-03-07T13:13:32.171210",
     "exception": false,
     "start_time": "2025-03-07T13:13:32.148639",
     "status": "completed"
    },
    "tags": []
   },
   "source": [
    "77.0%"
   ]
  },
  {
   "cell_type": "code",
   "execution_count": 37,
   "id": "0a31cd50",
   "metadata": {
    "execution": {
     "iopub.execute_input": "2025-03-07T13:13:32.217639Z",
     "iopub.status.busy": "2025-03-07T13:13:32.217375Z",
     "iopub.status.idle": "2025-03-07T13:13:32.345294Z",
     "shell.execute_reply": "2025-03-07T13:13:32.343318Z"
    },
    "papermill": {
     "duration": 0.15405,
     "end_time": "2025-03-07T13:13:32.347397",
     "exception": false,
     "start_time": "2025-03-07T13:13:32.193347",
     "status": "completed"
    },
    "tags": []
   },
   "outputs": [
    {
     "data": {
      "text/html": [
       "<style>#sk-container-id-5 {color: black;background-color: white;}#sk-container-id-5 pre{padding: 0;}#sk-container-id-5 div.sk-toggleable {background-color: white;}#sk-container-id-5 label.sk-toggleable__label {cursor: pointer;display: block;width: 100%;margin-bottom: 0;padding: 0.3em;box-sizing: border-box;text-align: center;}#sk-container-id-5 label.sk-toggleable__label-arrow:before {content: \"▸\";float: left;margin-right: 0.25em;color: #696969;}#sk-container-id-5 label.sk-toggleable__label-arrow:hover:before {color: black;}#sk-container-id-5 div.sk-estimator:hover label.sk-toggleable__label-arrow:before {color: black;}#sk-container-id-5 div.sk-toggleable__content {max-height: 0;max-width: 0;overflow: hidden;text-align: left;background-color: #f0f8ff;}#sk-container-id-5 div.sk-toggleable__content pre {margin: 0.2em;color: black;border-radius: 0.25em;background-color: #f0f8ff;}#sk-container-id-5 input.sk-toggleable__control:checked~div.sk-toggleable__content {max-height: 200px;max-width: 100%;overflow: auto;}#sk-container-id-5 input.sk-toggleable__control:checked~label.sk-toggleable__label-arrow:before {content: \"▾\";}#sk-container-id-5 div.sk-estimator input.sk-toggleable__control:checked~label.sk-toggleable__label {background-color: #d4ebff;}#sk-container-id-5 div.sk-label input.sk-toggleable__control:checked~label.sk-toggleable__label {background-color: #d4ebff;}#sk-container-id-5 input.sk-hidden--visually {border: 0;clip: rect(1px 1px 1px 1px);clip: rect(1px, 1px, 1px, 1px);height: 1px;margin: -1px;overflow: hidden;padding: 0;position: absolute;width: 1px;}#sk-container-id-5 div.sk-estimator {font-family: monospace;background-color: #f0f8ff;border: 1px dotted black;border-radius: 0.25em;box-sizing: border-box;margin-bottom: 0.5em;}#sk-container-id-5 div.sk-estimator:hover {background-color: #d4ebff;}#sk-container-id-5 div.sk-parallel-item::after {content: \"\";width: 100%;border-bottom: 1px solid gray;flex-grow: 1;}#sk-container-id-5 div.sk-label:hover label.sk-toggleable__label {background-color: #d4ebff;}#sk-container-id-5 div.sk-serial::before {content: \"\";position: absolute;border-left: 1px solid gray;box-sizing: border-box;top: 0;bottom: 0;left: 50%;z-index: 0;}#sk-container-id-5 div.sk-serial {display: flex;flex-direction: column;align-items: center;background-color: white;padding-right: 0.2em;padding-left: 0.2em;position: relative;}#sk-container-id-5 div.sk-item {position: relative;z-index: 1;}#sk-container-id-5 div.sk-parallel {display: flex;align-items: stretch;justify-content: center;background-color: white;position: relative;}#sk-container-id-5 div.sk-item::before, #sk-container-id-5 div.sk-parallel-item::before {content: \"\";position: absolute;border-left: 1px solid gray;box-sizing: border-box;top: 0;bottom: 0;left: 50%;z-index: -1;}#sk-container-id-5 div.sk-parallel-item {display: flex;flex-direction: column;z-index: 1;position: relative;background-color: white;}#sk-container-id-5 div.sk-parallel-item:first-child::after {align-self: flex-end;width: 50%;}#sk-container-id-5 div.sk-parallel-item:last-child::after {align-self: flex-start;width: 50%;}#sk-container-id-5 div.sk-parallel-item:only-child::after {width: 0;}#sk-container-id-5 div.sk-dashed-wrapped {border: 1px dashed gray;margin: 0 0.4em 0.5em 0.4em;box-sizing: border-box;padding-bottom: 0.4em;background-color: white;}#sk-container-id-5 div.sk-label label {font-family: monospace;font-weight: bold;display: inline-block;line-height: 1.2em;}#sk-container-id-5 div.sk-label-container {text-align: center;}#sk-container-id-5 div.sk-container {/* jupyter's `normalize.less` sets `[hidden] { display: none; }` but bootstrap.min.css set `[hidden] { display: none !important; }` so we also need the `!important` here to be able to override the default hidden behavior on the sphinx rendered scikit-learn.org. See: https://github.com/scikit-learn/scikit-learn/issues/21755 */display: inline-block !important;position: relative;}#sk-container-id-5 div.sk-text-repr-fallback {display: none;}</style><div id=\"sk-container-id-5\" class=\"sk-top-container\"><div class=\"sk-text-repr-fallback\"><pre>RandomForestClassifier(max_depth=8, random_state=1)</pre><b>In a Jupyter environment, please rerun this cell to show the HTML representation or trust the notebook. <br />On GitHub, the HTML representation is unable to render, please try loading this page with nbviewer.org.</b></div><div class=\"sk-container\" hidden><div class=\"sk-item\"><div class=\"sk-estimator sk-toggleable\"><input class=\"sk-toggleable__control sk-hidden--visually\" id=\"sk-estimator-id-5\" type=\"checkbox\" checked><label for=\"sk-estimator-id-5\" class=\"sk-toggleable__label sk-toggleable__label-arrow\">RandomForestClassifier</label><div class=\"sk-toggleable__content\"><pre>RandomForestClassifier(max_depth=8, random_state=1)</pre></div></div></div></div></div>"
      ],
      "text/plain": [
       "RandomForestClassifier(max_depth=8, random_state=1)"
      ]
     },
     "execution_count": 37,
     "metadata": {},
     "output_type": "execute_result"
    }
   ],
   "source": [
    "# Fit model\n",
    "rf_model_tuned_3 = RandomForestClassifier(\n",
    "    n_estimators=100,\n",
    "    max_depth=8,\n",
    "    bootstrap=True,\n",
    "    random_state=1,\n",
    "    )\n",
    "rf_model_tuned_3.fit(x_train_na, y_train)"
   ]
  },
  {
   "cell_type": "code",
   "execution_count": 38,
   "id": "85b94904",
   "metadata": {
    "execution": {
     "iopub.execute_input": "2025-03-07T13:13:32.396628Z",
     "iopub.status.busy": "2025-03-07T13:13:32.396288Z",
     "iopub.status.idle": "2025-03-07T13:13:32.404874Z",
     "shell.execute_reply": "2025-03-07T13:13:32.403316Z"
    },
    "papermill": {
     "duration": 0.034829,
     "end_time": "2025-03-07T13:13:32.407023",
     "exception": false,
     "start_time": "2025-03-07T13:13:32.372194",
     "status": "completed"
    },
    "tags": []
   },
   "outputs": [
    {
     "data": {
      "text/plain": [
       "(418, 18)"
      ]
     },
     "execution_count": 38,
     "metadata": {},
     "output_type": "execute_result"
    }
   ],
   "source": [
    "# match column for rf_model_tuned\n",
    "trained_features = rf_model_tuned_3.feature_names_in_\n",
    "\n",
    "x_test_na = x_test_na[trained_features]\n",
    "x_test_na = x_test_na.reindex(columns=trained_features)\n",
    "x_test_na.shape"
   ]
  },
  {
   "cell_type": "code",
   "execution_count": 39,
   "id": "5d70e41f",
   "metadata": {
    "execution": {
     "iopub.execute_input": "2025-03-07T13:13:32.456290Z",
     "iopub.status.busy": "2025-03-07T13:13:32.455945Z",
     "iopub.status.idle": "2025-03-07T13:13:32.474234Z",
     "shell.execute_reply": "2025-03-07T13:13:32.472462Z"
    },
    "papermill": {
     "duration": 0.044866,
     "end_time": "2025-03-07T13:13:32.476434",
     "exception": false,
     "start_time": "2025-03-07T13:13:32.431568",
     "status": "completed"
    },
    "tags": []
   },
   "outputs": [
    {
     "data": {
      "text/plain": [
       "(418, 2)"
      ]
     },
     "execution_count": 39,
     "metadata": {},
     "output_type": "execute_result"
    }
   ],
   "source": [
    "# including passanger ID back to dataset, there are 1 row dropped of missing value\n",
    "model_predictions = rf_model_tuned_3.predict(x_test_na).flatten()\n",
    "\n",
    "passenger_ids_fixed = merged_test_initial[\"PassengerId\"].iloc[x_test_na.index]\n",
    "\n",
    "# Create the final submission DataFrame\n",
    "submission = pd.DataFrame({\n",
    "    \"PassengerId\": passenger_ids_fixed,\n",
    "    \"Survived\": model_predictions.astype(int)\n",
    "})\n",
    "\n",
    "# Save submission file\n",
    "submission.to_csv(\"77.7%RFTunedBootstrap.csv\", index=False)\n",
    "submission.shape"
   ]
  },
  {
   "cell_type": "markdown",
   "id": "deb077ce",
   "metadata": {
    "papermill": {
     "duration": 0.023585,
     "end_time": "2025-03-07T13:13:32.524324",
     "exception": false,
     "start_time": "2025-03-07T13:13:32.500739",
     "status": "completed"
    },
    "tags": []
   },
   "source": [
    "____________________________________________________________________________________"
   ]
  },
  {
   "cell_type": "code",
   "execution_count": 40,
   "id": "032e2e3f",
   "metadata": {
    "execution": {
     "iopub.execute_input": "2025-03-07T13:13:32.574966Z",
     "iopub.status.busy": "2025-03-07T13:13:32.574671Z",
     "iopub.status.idle": "2025-03-07T13:13:32.618959Z",
     "shell.execute_reply": "2025-03-07T13:13:32.617217Z"
    },
    "papermill": {
     "duration": 0.071951,
     "end_time": "2025-03-07T13:13:32.621215",
     "exception": false,
     "start_time": "2025-03-07T13:13:32.549264",
     "status": "completed"
    },
    "tags": []
   },
   "outputs": [
    {
     "data": {
      "text/html": [
       "<div>\n",
       "<style scoped>\n",
       "    .dataframe tbody tr th:only-of-type {\n",
       "        vertical-align: middle;\n",
       "    }\n",
       "\n",
       "    .dataframe tbody tr th {\n",
       "        vertical-align: top;\n",
       "    }\n",
       "\n",
       "    .dataframe thead th {\n",
       "        text-align: right;\n",
       "    }\n",
       "</style>\n",
       "<table border=\"1\" class=\"dataframe\">\n",
       "  <thead>\n",
       "    <tr style=\"text-align: right;\">\n",
       "      <th></th>\n",
       "      <th>Metric</th>\n",
       "      <th>Train Score</th>\n",
       "      <th>Test Score</th>\n",
       "    </tr>\n",
       "  </thead>\n",
       "  <tbody>\n",
       "    <tr>\n",
       "      <th>0</th>\n",
       "      <td>Accuracy</td>\n",
       "      <td>0.876543</td>\n",
       "      <td>0.887560</td>\n",
       "    </tr>\n",
       "    <tr>\n",
       "      <th>1</th>\n",
       "      <td>Precision</td>\n",
       "      <td>0.885589</td>\n",
       "      <td>0.888038</td>\n",
       "    </tr>\n",
       "    <tr>\n",
       "      <th>2</th>\n",
       "      <td>Recall</td>\n",
       "      <td>0.876543</td>\n",
       "      <td>0.887560</td>\n",
       "    </tr>\n",
       "    <tr>\n",
       "      <th>3</th>\n",
       "      <td>F2-Score</td>\n",
       "      <td>0.873033</td>\n",
       "      <td>0.886368</td>\n",
       "    </tr>\n",
       "  </tbody>\n",
       "</table>\n",
       "</div>"
      ],
      "text/plain": [
       "      Metric  Train Score  Test Score\n",
       "0   Accuracy     0.876543    0.887560\n",
       "1  Precision     0.885589    0.888038\n",
       "2     Recall     0.876543    0.887560\n",
       "3   F2-Score     0.873033    0.886368"
      ]
     },
     "execution_count": 40,
     "metadata": {},
     "output_type": "execute_result"
    }
   ],
   "source": [
    "rfna_train = model_performance_classification(rf_model, x_train_na, y_train)\n",
    "rfna_test = model_performance_classification(rf_model, x_test_na, y_test)\n",
    "\n",
    "metrics_comparison = pd.DataFrame({\n",
    "    \"Metric\": [\"Accuracy\", \"Precision\", \"Recall\", \"F2-Score\"],\n",
    "    \"Train Score\": rfna_train.iloc[0].values,  # Extract values from DataFrame\n",
    "    \"Test Score\": rfna_test.iloc[0].values\n",
    "})\n",
    "\n",
    "metrics_comparison"
   ]
  },
  {
   "cell_type": "markdown",
   "id": "6133183c",
   "metadata": {
    "papermill": {
     "duration": 0.025482,
     "end_time": "2025-03-07T13:13:32.673420",
     "exception": false,
     "start_time": "2025-03-07T13:13:32.647938",
     "status": "completed"
    },
    "tags": []
   },
   "source": [
    "Decision tree with custom pruning"
   ]
  },
  {
   "cell_type": "code",
   "execution_count": 41,
   "id": "5806dbb5",
   "metadata": {
    "execution": {
     "iopub.execute_input": "2025-03-07T13:13:32.725812Z",
     "iopub.status.busy": "2025-03-07T13:13:32.725470Z",
     "iopub.status.idle": "2025-03-07T13:13:33.125730Z",
     "shell.execute_reply": "2025-03-07T13:13:33.124652Z"
    },
    "papermill": {
     "duration": 0.427969,
     "end_time": "2025-03-07T13:13:33.126941",
     "exception": false,
     "start_time": "2025-03-07T13:13:32.698972",
     "status": "completed"
    },
    "tags": []
   },
   "outputs": [
    {
     "data": {
      "text/html": [
       "<div>\n",
       "<style scoped>\n",
       "    .dataframe tbody tr th:only-of-type {\n",
       "        vertical-align: middle;\n",
       "    }\n",
       "\n",
       "    .dataframe tbody tr th {\n",
       "        vertical-align: top;\n",
       "    }\n",
       "\n",
       "    .dataframe thead th {\n",
       "        text-align: right;\n",
       "    }\n",
       "</style>\n",
       "<table border=\"1\" class=\"dataframe\">\n",
       "  <thead>\n",
       "    <tr style=\"text-align: right;\">\n",
       "      <th></th>\n",
       "      <th>ccp_alpha</th>\n",
       "      <th>Train Accuracy</th>\n",
       "      <th>Test Accuracy</th>\n",
       "    </tr>\n",
       "  </thead>\n",
       "  <tbody>\n",
       "    <tr>\n",
       "      <th>0</th>\n",
       "      <td>0.000000</td>\n",
       "      <td>0.924804</td>\n",
       "      <td>0.861244</td>\n",
       "    </tr>\n",
       "    <tr>\n",
       "      <th>1</th>\n",
       "      <td>0.000026</td>\n",
       "      <td>0.924804</td>\n",
       "      <td>0.861244</td>\n",
       "    </tr>\n",
       "    <tr>\n",
       "      <th>...</th>\n",
       "      <td>...</td>\n",
       "      <td>...</td>\n",
       "      <td>...</td>\n",
       "    </tr>\n",
       "    <tr>\n",
       "      <th>63</th>\n",
       "      <td>0.034975</td>\n",
       "      <td>0.786756</td>\n",
       "      <td>1.000000</td>\n",
       "    </tr>\n",
       "    <tr>\n",
       "      <th>64</th>\n",
       "      <td>0.139648</td>\n",
       "      <td>0.616162</td>\n",
       "      <td>0.636364</td>\n",
       "    </tr>\n",
       "  </tbody>\n",
       "</table>\n",
       "<p>65 rows × 3 columns</p>\n",
       "</div>"
      ],
      "text/plain": [
       "    ccp_alpha  Train Accuracy  Test Accuracy\n",
       "0    0.000000        0.924804       0.861244\n",
       "1    0.000026        0.924804       0.861244\n",
       "..        ...             ...            ...\n",
       "63   0.034975        0.786756       1.000000\n",
       "64   0.139648        0.616162       0.636364\n",
       "\n",
       "[65 rows x 3 columns]"
      ]
     },
     "execution_count": 41,
     "metadata": {},
     "output_type": "execute_result"
    }
   ],
   "source": [
    "dtna_prune_model= DecisionTreeClassifier(criterion='gini',max_depth=10,random_state=1)\n",
    "dtna_prune_path = dtna_prune_model.cost_complexity_pruning_path(x_train_na, y_train)\n",
    "ccp_alphas = dtna_prune_path.ccp_alphas  # List of possible alpha values\n",
    "\n",
    "results = []\n",
    "\n",
    "for alpha in ccp_alphas:\n",
    "    dt = DecisionTreeClassifier(random_state=1, ccp_alpha=alpha)\n",
    "    dt.fit(x_train_na, y_train)\n",
    "    \n",
    "    train_acc = dt.score(x_train_na, y_train)\n",
    "    test_acc = dt.score(x_test_na, y_test)\n",
    "    \n",
    "    results.append({\"ccp_alpha\": alpha, \"Train Accuracy\": train_acc, \"Test Accuracy\": test_acc})\n",
    "\n",
    "# Convert to DataFrame\n",
    "pruning_results = pd.DataFrame(results)\n",
    "pruning_results"
   ]
  },
  {
   "cell_type": "code",
   "execution_count": 42,
   "id": "4e274381",
   "metadata": {
    "execution": {
     "iopub.execute_input": "2025-03-07T13:13:33.178929Z",
     "iopub.status.busy": "2025-03-07T13:13:33.178569Z",
     "iopub.status.idle": "2025-03-07T13:13:33.190301Z",
     "shell.execute_reply": "2025-03-07T13:13:33.188147Z"
    },
    "papermill": {
     "duration": 0.039454,
     "end_time": "2025-03-07T13:13:33.191880",
     "exception": false,
     "start_time": "2025-03-07T13:13:33.152426",
     "status": "completed"
    },
    "tags": []
   },
   "outputs": [
    {
     "data": {
      "text/html": [
       "<style>#sk-container-id-6 {color: black;background-color: white;}#sk-container-id-6 pre{padding: 0;}#sk-container-id-6 div.sk-toggleable {background-color: white;}#sk-container-id-6 label.sk-toggleable__label {cursor: pointer;display: block;width: 100%;margin-bottom: 0;padding: 0.3em;box-sizing: border-box;text-align: center;}#sk-container-id-6 label.sk-toggleable__label-arrow:before {content: \"▸\";float: left;margin-right: 0.25em;color: #696969;}#sk-container-id-6 label.sk-toggleable__label-arrow:hover:before {color: black;}#sk-container-id-6 div.sk-estimator:hover label.sk-toggleable__label-arrow:before {color: black;}#sk-container-id-6 div.sk-toggleable__content {max-height: 0;max-width: 0;overflow: hidden;text-align: left;background-color: #f0f8ff;}#sk-container-id-6 div.sk-toggleable__content pre {margin: 0.2em;color: black;border-radius: 0.25em;background-color: #f0f8ff;}#sk-container-id-6 input.sk-toggleable__control:checked~div.sk-toggleable__content {max-height: 200px;max-width: 100%;overflow: auto;}#sk-container-id-6 input.sk-toggleable__control:checked~label.sk-toggleable__label-arrow:before {content: \"▾\";}#sk-container-id-6 div.sk-estimator input.sk-toggleable__control:checked~label.sk-toggleable__label {background-color: #d4ebff;}#sk-container-id-6 div.sk-label input.sk-toggleable__control:checked~label.sk-toggleable__label {background-color: #d4ebff;}#sk-container-id-6 input.sk-hidden--visually {border: 0;clip: rect(1px 1px 1px 1px);clip: rect(1px, 1px, 1px, 1px);height: 1px;margin: -1px;overflow: hidden;padding: 0;position: absolute;width: 1px;}#sk-container-id-6 div.sk-estimator {font-family: monospace;background-color: #f0f8ff;border: 1px dotted black;border-radius: 0.25em;box-sizing: border-box;margin-bottom: 0.5em;}#sk-container-id-6 div.sk-estimator:hover {background-color: #d4ebff;}#sk-container-id-6 div.sk-parallel-item::after {content: \"\";width: 100%;border-bottom: 1px solid gray;flex-grow: 1;}#sk-container-id-6 div.sk-label:hover label.sk-toggleable__label {background-color: #d4ebff;}#sk-container-id-6 div.sk-serial::before {content: \"\";position: absolute;border-left: 1px solid gray;box-sizing: border-box;top: 0;bottom: 0;left: 50%;z-index: 0;}#sk-container-id-6 div.sk-serial {display: flex;flex-direction: column;align-items: center;background-color: white;padding-right: 0.2em;padding-left: 0.2em;position: relative;}#sk-container-id-6 div.sk-item {position: relative;z-index: 1;}#sk-container-id-6 div.sk-parallel {display: flex;align-items: stretch;justify-content: center;background-color: white;position: relative;}#sk-container-id-6 div.sk-item::before, #sk-container-id-6 div.sk-parallel-item::before {content: \"\";position: absolute;border-left: 1px solid gray;box-sizing: border-box;top: 0;bottom: 0;left: 50%;z-index: -1;}#sk-container-id-6 div.sk-parallel-item {display: flex;flex-direction: column;z-index: 1;position: relative;background-color: white;}#sk-container-id-6 div.sk-parallel-item:first-child::after {align-self: flex-end;width: 50%;}#sk-container-id-6 div.sk-parallel-item:last-child::after {align-self: flex-start;width: 50%;}#sk-container-id-6 div.sk-parallel-item:only-child::after {width: 0;}#sk-container-id-6 div.sk-dashed-wrapped {border: 1px dashed gray;margin: 0 0.4em 0.5em 0.4em;box-sizing: border-box;padding-bottom: 0.4em;background-color: white;}#sk-container-id-6 div.sk-label label {font-family: monospace;font-weight: bold;display: inline-block;line-height: 1.2em;}#sk-container-id-6 div.sk-label-container {text-align: center;}#sk-container-id-6 div.sk-container {/* jupyter's `normalize.less` sets `[hidden] { display: none; }` but bootstrap.min.css set `[hidden] { display: none !important; }` so we also need the `!important` here to be able to override the default hidden behavior on the sphinx rendered scikit-learn.org. See: https://github.com/scikit-learn/scikit-learn/issues/21755 */display: inline-block !important;position: relative;}#sk-container-id-6 div.sk-text-repr-fallback {display: none;}</style><div id=\"sk-container-id-6\" class=\"sk-top-container\"><div class=\"sk-text-repr-fallback\"><pre>DecisionTreeClassifier(ccp_alpha=0.0012, random_state=1)</pre><b>In a Jupyter environment, please rerun this cell to show the HTML representation or trust the notebook. <br />On GitHub, the HTML representation is unable to render, please try loading this page with nbviewer.org.</b></div><div class=\"sk-container\" hidden><div class=\"sk-item\"><div class=\"sk-estimator sk-toggleable\"><input class=\"sk-toggleable__control sk-hidden--visually\" id=\"sk-estimator-id-6\" type=\"checkbox\" checked><label for=\"sk-estimator-id-6\" class=\"sk-toggleable__label sk-toggleable__label-arrow\">DecisionTreeClassifier</label><div class=\"sk-toggleable__content\"><pre>DecisionTreeClassifier(ccp_alpha=0.0012, random_state=1)</pre></div></div></div></div></div>"
      ],
      "text/plain": [
       "DecisionTreeClassifier(ccp_alpha=0.0012, random_state=1)"
      ]
     },
     "execution_count": 42,
     "metadata": {},
     "output_type": "execute_result"
    }
   ],
   "source": [
    "dtna_pruned_tree = DecisionTreeClassifier(random_state=1, ccp_alpha=0.0012)\n",
    "dtna_pruned_tree.fit(x_train_na, y_train)"
   ]
  },
  {
   "cell_type": "code",
   "execution_count": 43,
   "id": "75b7a19c",
   "metadata": {
    "execution": {
     "iopub.execute_input": "2025-03-07T13:13:33.243520Z",
     "iopub.status.busy": "2025-03-07T13:13:33.242922Z",
     "iopub.status.idle": "2025-03-07T13:13:33.266769Z",
     "shell.execute_reply": "2025-03-07T13:13:33.265454Z"
    },
    "papermill": {
     "duration": 0.050829,
     "end_time": "2025-03-07T13:13:33.268321",
     "exception": false,
     "start_time": "2025-03-07T13:13:33.217492",
     "status": "completed"
    },
    "tags": []
   },
   "outputs": [
    {
     "data": {
      "text/html": [
       "<div>\n",
       "<style scoped>\n",
       "    .dataframe tbody tr th:only-of-type {\n",
       "        vertical-align: middle;\n",
       "    }\n",
       "\n",
       "    .dataframe tbody tr th {\n",
       "        vertical-align: top;\n",
       "    }\n",
       "\n",
       "    .dataframe thead th {\n",
       "        text-align: right;\n",
       "    }\n",
       "</style>\n",
       "<table border=\"1\" class=\"dataframe\">\n",
       "  <thead>\n",
       "    <tr style=\"text-align: right;\">\n",
       "      <th></th>\n",
       "      <th>Metric</th>\n",
       "      <th>Train Score</th>\n",
       "      <th>Test Score</th>\n",
       "    </tr>\n",
       "  </thead>\n",
       "  <tbody>\n",
       "    <tr>\n",
       "      <th>0</th>\n",
       "      <td>Accuracy</td>\n",
       "      <td>0.893378</td>\n",
       "      <td>0.882775</td>\n",
       "    </tr>\n",
       "    <tr>\n",
       "      <th>1</th>\n",
       "      <td>Precision</td>\n",
       "      <td>0.893438</td>\n",
       "      <td>0.883351</td>\n",
       "    </tr>\n",
       "    <tr>\n",
       "      <th>2</th>\n",
       "      <td>Recall</td>\n",
       "      <td>0.893378</td>\n",
       "      <td>0.882775</td>\n",
       "    </tr>\n",
       "    <tr>\n",
       "      <th>3</th>\n",
       "      <td>F2-Score</td>\n",
       "      <td>0.892745</td>\n",
       "      <td>0.882860</td>\n",
       "    </tr>\n",
       "  </tbody>\n",
       "</table>\n",
       "</div>"
      ],
      "text/plain": [
       "      Metric  Train Score  Test Score\n",
       "0   Accuracy     0.893378    0.882775\n",
       "1  Precision     0.893438    0.883351\n",
       "2     Recall     0.893378    0.882775\n",
       "3   F2-Score     0.892745    0.882860"
      ]
     },
     "execution_count": 43,
     "metadata": {},
     "output_type": "execute_result"
    }
   ],
   "source": [
    "dtna_pruned_tree_train = model_performance_classification(dtna_pruned_tree, x_train_na, y_train)\n",
    "dtna_pruned_tree_test = model_performance_classification(dtna_pruned_tree, x_test_na, y_test)\n",
    "\n",
    "metrics_comparison = pd.DataFrame({\n",
    "    \"Metric\": [\"Accuracy\", \"Precision\", \"Recall\", \"F2-Score\"],\n",
    "    \"Train Score\": dtna_pruned_tree_train.iloc[0].values,  # Extract values from DataFrame\n",
    "    \"Test Score\": dtna_pruned_tree_test.iloc[0].values\n",
    "})\n",
    "\n",
    "metrics_comparison"
   ]
  },
  {
   "cell_type": "code",
   "execution_count": 44,
   "id": "74832fc5",
   "metadata": {
    "execution": {
     "iopub.execute_input": "2025-03-07T13:13:33.321893Z",
     "iopub.status.busy": "2025-03-07T13:13:33.321569Z",
     "iopub.status.idle": "2025-03-07T13:13:33.334716Z",
     "shell.execute_reply": "2025-03-07T13:13:33.333725Z"
    },
    "papermill": {
     "duration": 0.042452,
     "end_time": "2025-03-07T13:13:33.337155",
     "exception": false,
     "start_time": "2025-03-07T13:13:33.294703",
     "status": "completed"
    },
    "tags": []
   },
   "outputs": [
    {
     "data": {
      "text/html": [
       "<div>\n",
       "<style scoped>\n",
       "    .dataframe tbody tr th:only-of-type {\n",
       "        vertical-align: middle;\n",
       "    }\n",
       "\n",
       "    .dataframe tbody tr th {\n",
       "        vertical-align: top;\n",
       "    }\n",
       "\n",
       "    .dataframe thead th {\n",
       "        text-align: right;\n",
       "    }\n",
       "</style>\n",
       "<table border=\"1\" class=\"dataframe\">\n",
       "  <thead>\n",
       "    <tr style=\"text-align: right;\">\n",
       "      <th>Metric</th>\n",
       "      <th>Accuracy</th>\n",
       "      <th>Precision</th>\n",
       "      <th>Recall</th>\n",
       "      <th>F2-Score</th>\n",
       "    </tr>\n",
       "  </thead>\n",
       "  <tbody>\n",
       "    <tr>\n",
       "      <th>Decision Tree Train Score</th>\n",
       "      <td>0.884400</td>\n",
       "      <td>0.894511</td>\n",
       "      <td>0.884400</td>\n",
       "      <td>0.880901</td>\n",
       "    </tr>\n",
       "    <tr>\n",
       "      <th>Decision Tree Test Score</th>\n",
       "      <td>0.887560</td>\n",
       "      <td>0.888038</td>\n",
       "      <td>0.887560</td>\n",
       "      <td>0.886368</td>\n",
       "    </tr>\n",
       "    <tr>\n",
       "      <th>...</th>\n",
       "      <td>...</td>\n",
       "      <td>...</td>\n",
       "      <td>...</td>\n",
       "      <td>...</td>\n",
       "    </tr>\n",
       "    <tr>\n",
       "      <th>Pruned Tree Train Score</th>\n",
       "      <td>0.893378</td>\n",
       "      <td>0.893438</td>\n",
       "      <td>0.893378</td>\n",
       "      <td>0.892745</td>\n",
       "    </tr>\n",
       "    <tr>\n",
       "      <th>Pruned Tree Test Score</th>\n",
       "      <td>0.882775</td>\n",
       "      <td>0.883351</td>\n",
       "      <td>0.882775</td>\n",
       "      <td>0.882860</td>\n",
       "    </tr>\n",
       "  </tbody>\n",
       "</table>\n",
       "<p>6 rows × 4 columns</p>\n",
       "</div>"
      ],
      "text/plain": [
       "Metric                     Accuracy  Precision    Recall  F2-Score\n",
       "Decision Tree Train Score  0.884400   0.894511  0.884400  0.880901\n",
       "Decision Tree Test Score   0.887560   0.888038  0.887560  0.886368\n",
       "...                             ...        ...       ...       ...\n",
       "Pruned Tree Train Score    0.893378   0.893438  0.893378  0.892745\n",
       "Pruned Tree Test Score     0.882775   0.883351  0.882775  0.882860\n",
       "\n",
       "[6 rows x 4 columns]"
      ]
     },
     "execution_count": 44,
     "metadata": {},
     "output_type": "execute_result"
    }
   ],
   "source": [
    "# comparing all algorithms accuracy for test and train\n",
    "algorithm_list = ['dtna_train','dtna_test','rfna_train','rfna_test','dtna_pruned_tree_train','dtna_pruned_tree_test']\n",
    "all_metrics_comparison = pd.DataFrame({\n",
    "    \"Metric\": [\"Accuracy\", \"Precision\", \"Recall\", \"F2-Score\"],\n",
    "    \"Decision Tree Train Score\": dtna_train.iloc[0].values,  \n",
    "    \"Decision Tree Test Score\": dtna_test.iloc[0].values,\n",
    "    \"Random Forest Train Score\": rfna_train.iloc[0].values,  \n",
    "    \"Random Forest Test Score\": rfna_test.iloc[0].values,\n",
    "    \"Pruned Tree Train Score\": dtna_pruned_tree_train.iloc[0].values,  \n",
    "    \"Pruned Tree Test Score\": dtna_pruned_tree_test.iloc[0].values\n",
    "})\n",
    "\n",
    "all_metrics_comparison.set_index(\"Metric\", inplace=True)\n",
    "all_metrics_comparison.T"
   ]
  },
  {
   "cell_type": "markdown",
   "id": "c2aa3c60",
   "metadata": {
    "papermill": {
     "duration": 0.025557,
     "end_time": "2025-03-07T13:13:33.389287",
     "exception": false,
     "start_time": "2025-03-07T13:13:33.363730",
     "status": "completed"
    },
    "tags": []
   },
   "source": [
    "ADDING PASSANGER ID BACK FOR SUBMISSION REQUIREMENT"
   ]
  },
  {
   "cell_type": "code",
   "execution_count": 45,
   "id": "1618079f",
   "metadata": {
    "execution": {
     "iopub.execute_input": "2025-03-07T13:13:33.445387Z",
     "iopub.status.busy": "2025-03-07T13:13:33.444999Z",
     "iopub.status.idle": "2025-03-07T13:13:33.456921Z",
     "shell.execute_reply": "2025-03-07T13:13:33.455643Z"
    },
    "papermill": {
     "duration": 0.043972,
     "end_time": "2025-03-07T13:13:33.459212",
     "exception": false,
     "start_time": "2025-03-07T13:13:33.415240",
     "status": "completed"
    },
    "tags": []
   },
   "outputs": [
    {
     "data": {
      "text/plain": [
       "(418, 2)"
      ]
     },
     "execution_count": 45,
     "metadata": {},
     "output_type": "execute_result"
    }
   ],
   "source": [
    "# including passanger ID back to dataset, there are 1 row dropped of missing value\n",
    "model_predictions = dtna_pruned_tree.predict(x_test_na).flatten()\n",
    "\n",
    "passenger_ids_fixed = merged_test_initial[\"PassengerId\"].iloc[x_test_na.index]\n",
    "\n",
    "# Create the final submission DataFrame\n",
    "submission = pd.DataFrame({\n",
    "    \"PassengerId\": passenger_ids_fixed,\n",
    "    \"Survived\": model_predictions.astype(int)\n",
    "})\n",
    "\n",
    "# Save submission file\n",
    "submission.to_csv(\"submissionDTP.csv\", index=False)\n",
    "submission.shape"
   ]
  },
  {
   "cell_type": "markdown",
   "id": "4fc32029",
   "metadata": {
    "papermill": {
     "duration": 0.024635,
     "end_time": "2025-03-07T13:13:33.509904",
     "exception": false,
     "start_time": "2025-03-07T13:13:33.485269",
     "status": "completed"
    },
    "tags": []
   },
   "source": [
    "THIS ATTEMPT GET 74% OF ACCURACY"
   ]
  },
  {
   "cell_type": "code",
   "execution_count": 46,
   "id": "8c7f7c14",
   "metadata": {
    "execution": {
     "iopub.execute_input": "2025-03-07T13:13:33.562385Z",
     "iopub.status.busy": "2025-03-07T13:13:33.562000Z",
     "iopub.status.idle": "2025-03-07T13:13:33.581836Z",
     "shell.execute_reply": "2025-03-07T13:13:33.580169Z"
    },
    "papermill": {
     "duration": 0.049225,
     "end_time": "2025-03-07T13:13:33.584615",
     "exception": false,
     "start_time": "2025-03-07T13:13:33.535390",
     "status": "completed"
    },
    "tags": []
   },
   "outputs": [
    {
     "data": {
      "text/plain": [
       "(418, 2)"
      ]
     },
     "execution_count": 46,
     "metadata": {},
     "output_type": "execute_result"
    }
   ],
   "source": [
    "# including passanger ID back to dataset, there are 1 row dropped of missing value\n",
    "model_predictions = rf_model.predict(x_test_na).flatten()\n",
    "\n",
    "passenger_ids_fixed = merged_test_initial[\"PassengerId\"].iloc[x_test_na.index]\n",
    "\n",
    "# Create the final submission DataFrame\n",
    "submission = pd.DataFrame({\n",
    "    \"PassengerId\": passenger_ids_fixed,\n",
    "    \"Survived\": model_predictions.astype(int)\n",
    "})\n",
    "\n",
    "# Save submission file\n",
    "submission.to_csv(\"submissionRF.csv\", index=False)\n",
    "submission.shape"
   ]
  },
  {
   "cell_type": "markdown",
   "id": "03ef1970",
   "metadata": {
    "papermill": {
     "duration": 0.02519,
     "end_time": "2025-03-07T13:13:33.635914",
     "exception": false,
     "start_time": "2025-03-07T13:13:33.610724",
     "status": "completed"
    },
    "tags": []
   },
   "source": [
    "THIS ATTEMPT GET 77.7% OF ACCURACY"
   ]
  },
  {
   "cell_type": "code",
   "execution_count": 47,
   "id": "954dfe9b",
   "metadata": {
    "execution": {
     "iopub.execute_input": "2025-03-07T13:13:33.689514Z",
     "iopub.status.busy": "2025-03-07T13:13:33.689124Z",
     "iopub.status.idle": "2025-03-07T13:13:33.825031Z",
     "shell.execute_reply": "2025-03-07T13:13:33.823368Z"
    },
    "papermill": {
     "duration": 0.164912,
     "end_time": "2025-03-07T13:13:33.826627",
     "exception": false,
     "start_time": "2025-03-07T13:13:33.661715",
     "status": "completed"
    },
    "tags": []
   },
   "outputs": [
    {
     "data": {
      "text/html": [
       "<style>#sk-container-id-7 {color: black;background-color: white;}#sk-container-id-7 pre{padding: 0;}#sk-container-id-7 div.sk-toggleable {background-color: white;}#sk-container-id-7 label.sk-toggleable__label {cursor: pointer;display: block;width: 100%;margin-bottom: 0;padding: 0.3em;box-sizing: border-box;text-align: center;}#sk-container-id-7 label.sk-toggleable__label-arrow:before {content: \"▸\";float: left;margin-right: 0.25em;color: #696969;}#sk-container-id-7 label.sk-toggleable__label-arrow:hover:before {color: black;}#sk-container-id-7 div.sk-estimator:hover label.sk-toggleable__label-arrow:before {color: black;}#sk-container-id-7 div.sk-toggleable__content {max-height: 0;max-width: 0;overflow: hidden;text-align: left;background-color: #f0f8ff;}#sk-container-id-7 div.sk-toggleable__content pre {margin: 0.2em;color: black;border-radius: 0.25em;background-color: #f0f8ff;}#sk-container-id-7 input.sk-toggleable__control:checked~div.sk-toggleable__content {max-height: 200px;max-width: 100%;overflow: auto;}#sk-container-id-7 input.sk-toggleable__control:checked~label.sk-toggleable__label-arrow:before {content: \"▾\";}#sk-container-id-7 div.sk-estimator input.sk-toggleable__control:checked~label.sk-toggleable__label {background-color: #d4ebff;}#sk-container-id-7 div.sk-label input.sk-toggleable__control:checked~label.sk-toggleable__label {background-color: #d4ebff;}#sk-container-id-7 input.sk-hidden--visually {border: 0;clip: rect(1px 1px 1px 1px);clip: rect(1px, 1px, 1px, 1px);height: 1px;margin: -1px;overflow: hidden;padding: 0;position: absolute;width: 1px;}#sk-container-id-7 div.sk-estimator {font-family: monospace;background-color: #f0f8ff;border: 1px dotted black;border-radius: 0.25em;box-sizing: border-box;margin-bottom: 0.5em;}#sk-container-id-7 div.sk-estimator:hover {background-color: #d4ebff;}#sk-container-id-7 div.sk-parallel-item::after {content: \"\";width: 100%;border-bottom: 1px solid gray;flex-grow: 1;}#sk-container-id-7 div.sk-label:hover label.sk-toggleable__label {background-color: #d4ebff;}#sk-container-id-7 div.sk-serial::before {content: \"\";position: absolute;border-left: 1px solid gray;box-sizing: border-box;top: 0;bottom: 0;left: 50%;z-index: 0;}#sk-container-id-7 div.sk-serial {display: flex;flex-direction: column;align-items: center;background-color: white;padding-right: 0.2em;padding-left: 0.2em;position: relative;}#sk-container-id-7 div.sk-item {position: relative;z-index: 1;}#sk-container-id-7 div.sk-parallel {display: flex;align-items: stretch;justify-content: center;background-color: white;position: relative;}#sk-container-id-7 div.sk-item::before, #sk-container-id-7 div.sk-parallel-item::before {content: \"\";position: absolute;border-left: 1px solid gray;box-sizing: border-box;top: 0;bottom: 0;left: 50%;z-index: -1;}#sk-container-id-7 div.sk-parallel-item {display: flex;flex-direction: column;z-index: 1;position: relative;background-color: white;}#sk-container-id-7 div.sk-parallel-item:first-child::after {align-self: flex-end;width: 50%;}#sk-container-id-7 div.sk-parallel-item:last-child::after {align-self: flex-start;width: 50%;}#sk-container-id-7 div.sk-parallel-item:only-child::after {width: 0;}#sk-container-id-7 div.sk-dashed-wrapped {border: 1px dashed gray;margin: 0 0.4em 0.5em 0.4em;box-sizing: border-box;padding-bottom: 0.4em;background-color: white;}#sk-container-id-7 div.sk-label label {font-family: monospace;font-weight: bold;display: inline-block;line-height: 1.2em;}#sk-container-id-7 div.sk-label-container {text-align: center;}#sk-container-id-7 div.sk-container {/* jupyter's `normalize.less` sets `[hidden] { display: none; }` but bootstrap.min.css set `[hidden] { display: none !important; }` so we also need the `!important` here to be able to override the default hidden behavior on the sphinx rendered scikit-learn.org. See: https://github.com/scikit-learn/scikit-learn/issues/21755 */display: inline-block !important;position: relative;}#sk-container-id-7 div.sk-text-repr-fallback {display: none;}</style><div id=\"sk-container-id-7\" class=\"sk-top-container\"><div class=\"sk-text-repr-fallback\"><pre>RandomForestClassifier(class_weight={0: 6.2, 1: 3.8}, max_depth=8,\n",
       "                       random_state=1)</pre><b>In a Jupyter environment, please rerun this cell to show the HTML representation or trust the notebook. <br />On GitHub, the HTML representation is unable to render, please try loading this page with nbviewer.org.</b></div><div class=\"sk-container\" hidden><div class=\"sk-item\"><div class=\"sk-estimator sk-toggleable\"><input class=\"sk-toggleable__control sk-hidden--visually\" id=\"sk-estimator-id-7\" type=\"checkbox\" checked><label for=\"sk-estimator-id-7\" class=\"sk-toggleable__label sk-toggleable__label-arrow\">RandomForestClassifier</label><div class=\"sk-toggleable__content\"><pre>RandomForestClassifier(class_weight={0: 6.2, 1: 3.8}, max_depth=8,\n",
       "                       random_state=1)</pre></div></div></div></div></div>"
      ],
      "text/plain": [
       "RandomForestClassifier(class_weight={0: 6.2, 1: 3.8}, max_depth=8,\n",
       "                       random_state=1)"
      ]
     },
     "execution_count": 47,
     "metadata": {},
     "output_type": "execute_result"
    }
   ],
   "source": [
    "# Try random forest attempt with class weight adjustment\n",
    "rf_model_weight = RandomForestClassifier(\n",
    "    n_estimators=100,\n",
    "    max_depth=8,\n",
    "    random_state=1,\n",
    "    class_weight={0:6.2,1:3.8})\n",
    "rf_model_weight.fit(x_train_na, y_train)"
   ]
  },
  {
   "cell_type": "code",
   "execution_count": 48,
   "id": "8ac8b7f1",
   "metadata": {
    "execution": {
     "iopub.execute_input": "2025-03-07T13:13:33.881075Z",
     "iopub.status.busy": "2025-03-07T13:13:33.880694Z",
     "iopub.status.idle": "2025-03-07T13:13:33.902340Z",
     "shell.execute_reply": "2025-03-07T13:13:33.900975Z"
    },
    "papermill": {
     "duration": 0.051049,
     "end_time": "2025-03-07T13:13:33.904033",
     "exception": false,
     "start_time": "2025-03-07T13:13:33.852984",
     "status": "completed"
    },
    "tags": []
   },
   "outputs": [
    {
     "data": {
      "text/plain": [
       "(418, 2)"
      ]
     },
     "execution_count": 48,
     "metadata": {},
     "output_type": "execute_result"
    }
   ],
   "source": [
    "# including passanger ID back to dataset, there are 1 row dropped of missing value\n",
    "model_predictions = rf_model_weight.predict(x_test_na).flatten()\n",
    "\n",
    "passenger_ids_fixed = merged_test_initial[\"PassengerId\"].iloc[x_test_na.index]\n",
    "\n",
    "# Create the final submission DataFrame\n",
    "submission = pd.DataFrame({\n",
    "    \"PassengerId\": passenger_ids_fixed,\n",
    "    \"Survived\": model_predictions.astype(int)\n",
    "})\n",
    "\n",
    "# Save submission file\n",
    "submission.to_csv(\"submissionRF_weighted.csv\", index=False)\n",
    "submission.shape"
   ]
  },
  {
   "cell_type": "markdown",
   "id": "337534b6",
   "metadata": {
    "papermill": {
     "duration": 0.027497,
     "end_time": "2025-03-07T13:13:33.958040",
     "exception": false,
     "start_time": "2025-03-07T13:13:33.930543",
     "status": "completed"
    },
    "tags": []
   },
   "source": [
    "THIS ATTEMPT GET 77.5% ACCURACY"
   ]
  },
  {
   "cell_type": "markdown",
   "id": "cc6191c4",
   "metadata": {
    "papermill": {
     "duration": 0.032104,
     "end_time": "2025-03-07T13:13:34.015775",
     "exception": false,
     "start_time": "2025-03-07T13:13:33.983671",
     "status": "completed"
    },
    "tags": []
   },
   "source": [
    "______________________________________________________________________\n",
    "DATA PREPROCESSING AGAIN, NOW WITH AGE AND BINNING"
   ]
  },
  {
   "cell_type": "code",
   "execution_count": 49,
   "id": "f792a9dd",
   "metadata": {
    "execution": {
     "iopub.execute_input": "2025-03-07T13:13:34.071592Z",
     "iopub.status.busy": "2025-03-07T13:13:34.071147Z",
     "iopub.status.idle": "2025-03-07T13:13:34.086694Z",
     "shell.execute_reply": "2025-03-07T13:13:34.084882Z"
    },
    "papermill": {
     "duration": 0.045634,
     "end_time": "2025-03-07T13:13:34.088492",
     "exception": false,
     "start_time": "2025-03-07T13:13:34.042858",
     "status": "completed"
    },
    "tags": []
   },
   "outputs": [
    {
     "data": {
      "text/plain": [
       "(418, 13)"
      ]
     },
     "execution_count": 49,
     "metadata": {},
     "output_type": "execute_result"
    }
   ],
   "source": [
    "# binning age\n",
    "age_bins = [-np.inf, 15, np.inf]  # -inf ensures all ages <15 go into the first bin\n",
    "age_labels = [\"<15\", \"15>=\"]\n",
    "\n",
    "# Bin the Age column (including NaN values)\n",
    "train_data_bin=data.copy()\n",
    "test_data_bin=merged_test_initial.copy()\n",
    "train_data_bin[\"AgeGroup\"] = pd.cut(train_data_bin[\"Age\"].fillna(15), bins=age_bins, labels=age_labels)\n",
    "test_data_bin[\"AgeGroup\"] = pd.cut(test_data_bin[\"Age\"].fillna(15), bins=age_bins, labels=age_labels)\n",
    "\n",
    "# Check the bin counts\n",
    "test_data_bin.shape"
   ]
  },
  {
   "cell_type": "code",
   "execution_count": 50,
   "id": "5f1252dd",
   "metadata": {
    "execution": {
     "iopub.execute_input": "2025-03-07T13:13:34.143466Z",
     "iopub.status.busy": "2025-03-07T13:13:34.143044Z",
     "iopub.status.idle": "2025-03-07T13:13:34.151975Z",
     "shell.execute_reply": "2025-03-07T13:13:34.150915Z"
    },
    "papermill": {
     "duration": 0.037812,
     "end_time": "2025-03-07T13:13:34.153417",
     "exception": false,
     "start_time": "2025-03-07T13:13:34.115605",
     "status": "completed"
    },
    "tags": []
   },
   "outputs": [
    {
     "data": {
      "text/plain": [
       "PassengerId    0\n",
       "Pclass         0\n",
       "              ..\n",
       "Survived       0\n",
       "AgeGroup       0\n",
       "Length: 13, dtype: int64"
      ]
     },
     "execution_count": 50,
     "metadata": {},
     "output_type": "execute_result"
    }
   ],
   "source": [
    "test_data_bin.isnull().sum()"
   ]
  },
  {
   "cell_type": "code",
   "execution_count": 51,
   "id": "63fe9d14",
   "metadata": {
    "execution": {
     "iopub.execute_input": "2025-03-07T13:13:34.207947Z",
     "iopub.status.busy": "2025-03-07T13:13:34.207612Z",
     "iopub.status.idle": "2025-03-07T13:13:34.221564Z",
     "shell.execute_reply": "2025-03-07T13:13:34.220458Z"
    },
    "papermill": {
     "duration": 0.043497,
     "end_time": "2025-03-07T13:13:34.223305",
     "exception": false,
     "start_time": "2025-03-07T13:13:34.179808",
     "status": "completed"
    },
    "tags": []
   },
   "outputs": [
    {
     "data": {
      "text/plain": [
       "PassengerId    0\n",
       "Pclass         0\n",
       "              ..\n",
       "Survived       0\n",
       "AgeGroup       0\n",
       "Length: 13, dtype: int64"
      ]
     },
     "execution_count": 51,
     "metadata": {},
     "output_type": "execute_result"
    }
   ],
   "source": [
    "# null value preprocessing\n",
    "train_data_bin[\"Embarked\"].fillna(train_data_bin[\"Embarked\"].mode()[0], inplace=True)\n",
    "test_data_bin[\"Fare\"].fillna(merged_test[\"Fare\"].mode()[0], inplace=True)\n",
    "\n",
    "# Check the null value count\n",
    "test_data_bin.isnull().sum()"
   ]
  },
  {
   "cell_type": "code",
   "execution_count": 52,
   "id": "445a6c49",
   "metadata": {
    "execution": {
     "iopub.execute_input": "2025-03-07T13:13:34.276837Z",
     "iopub.status.busy": "2025-03-07T13:13:34.276372Z",
     "iopub.status.idle": "2025-03-07T13:13:34.288853Z",
     "shell.execute_reply": "2025-03-07T13:13:34.287613Z"
    },
    "papermill": {
     "duration": 0.041206,
     "end_time": "2025-03-07T13:13:34.290560",
     "exception": false,
     "start_time": "2025-03-07T13:13:34.249354",
     "status": "completed"
    },
    "tags": []
   },
   "outputs": [
    {
     "data": {
      "text/plain": [
       "(418, 14)"
      ]
     },
     "execution_count": 52,
     "metadata": {},
     "output_type": "execute_result"
    }
   ],
   "source": [
    "#Sibling Spouse & Parch Binning\n",
    "#Add new Family_bin changing sibling spouse and parch, since they have same threshold\n",
    "train_data_bin[\"FamilyMax\"] = np.where((train_data_bin[\"SibSp\"]<4 )|( train_data_bin[\"Parch\"]<4), \"<4\", \"4>=\")\n",
    "test_data_bin[\"FamilyMax\"] = np.where((test_data_bin[\"SibSp\"]<4 )|( test_data_bin[\"Parch\"]<4), \"<4\", \"4>=\")\n",
    "\n",
    "# Check the bin counts\n",
    "test_data_bin.shape"
   ]
  },
  {
   "cell_type": "code",
   "execution_count": 53,
   "id": "d056d434",
   "metadata": {
    "execution": {
     "iopub.execute_input": "2025-03-07T13:13:34.341887Z",
     "iopub.status.busy": "2025-03-07T13:13:34.341572Z",
     "iopub.status.idle": "2025-03-07T13:13:34.358614Z",
     "shell.execute_reply": "2025-03-07T13:13:34.356708Z"
    },
    "papermill": {
     "duration": 0.044491,
     "end_time": "2025-03-07T13:13:34.360707",
     "exception": false,
     "start_time": "2025-03-07T13:13:34.316216",
     "status": "completed"
    },
    "tags": []
   },
   "outputs": [],
   "source": [
    "# dummy variable\n",
    "categorical_features=['Pclass','Sex','Embarked','AgeGroup','FamilyMax']\n",
    "train_data_bin=pd.get_dummies(train_data_bin, columns=categorical_features, drop_first=True)\n",
    "test_data_bin=pd.get_dummies(test_data_bin, columns=categorical_features, drop_first=True)"
   ]
  },
  {
   "cell_type": "code",
   "execution_count": 54,
   "id": "c85eb67f",
   "metadata": {
    "execution": {
     "iopub.execute_input": "2025-03-07T13:13:34.415688Z",
     "iopub.status.busy": "2025-03-07T13:13:34.415275Z",
     "iopub.status.idle": "2025-03-07T13:13:34.422174Z",
     "shell.execute_reply": "2025-03-07T13:13:34.420597Z"
    },
    "papermill": {
     "duration": 0.036399,
     "end_time": "2025-03-07T13:13:34.423773",
     "exception": false,
     "start_time": "2025-03-07T13:13:34.387374",
     "status": "completed"
    },
    "tags": []
   },
   "outputs": [],
   "source": [
    "# Drop age and cabin 'PassengerId','Name','Ticket', Parch, SibSp\n",
    "train_data_bin=train_data_bin.drop(columns=['Age','Cabin','PassengerId','Name','Ticket','Parch','SibSp'])\n",
    "test_data_bin=test_data_bin.drop(columns=['Age','Cabin','PassengerId','Name','Ticket','Parch','SibSp'])"
   ]
  },
  {
   "cell_type": "markdown",
   "id": "05401781",
   "metadata": {
    "papermill": {
     "duration": 0.024001,
     "end_time": "2025-03-07T13:13:34.472923",
     "exception": false,
     "start_time": "2025-03-07T13:13:34.448922",
     "status": "completed"
    },
    "tags": []
   },
   "source": [
    "MODEL BUILDING"
   ]
  },
  {
   "cell_type": "code",
   "execution_count": 55,
   "id": "a5dc08ee",
   "metadata": {
    "execution": {
     "iopub.execute_input": "2025-03-07T13:13:34.522927Z",
     "iopub.status.busy": "2025-03-07T13:13:34.522607Z",
     "iopub.status.idle": "2025-03-07T13:13:34.529190Z",
     "shell.execute_reply": "2025-03-07T13:13:34.527454Z"
    },
    "papermill": {
     "duration": 0.034522,
     "end_time": "2025-03-07T13:13:34.531553",
     "exception": false,
     "start_time": "2025-03-07T13:13:34.497031",
     "status": "completed"
    },
    "tags": []
   },
   "outputs": [],
   "source": [
    "x_train_bin=train_data_bin.drop(columns=['Survived'])\n",
    "y_train_bin=train_data_bin['Survived']\n",
    "x_test_bin=test_data_bin.drop(columns=['Survived'])\n",
    "y_test_bin=test_data_bin['Survived']"
   ]
  },
  {
   "cell_type": "code",
   "execution_count": 56,
   "id": "18d52de1",
   "metadata": {
    "execution": {
     "iopub.execute_input": "2025-03-07T13:13:34.587257Z",
     "iopub.status.busy": "2025-03-07T13:13:34.586888Z",
     "iopub.status.idle": "2025-03-07T13:13:36.342825Z",
     "shell.execute_reply": "2025-03-07T13:13:36.341136Z"
    },
    "papermill": {
     "duration": 1.787104,
     "end_time": "2025-03-07T13:13:36.345917",
     "exception": false,
     "start_time": "2025-03-07T13:13:34.558813",
     "status": "completed"
    },
    "tags": []
   },
   "outputs": [
    {
     "data": {
      "text/html": [
       "<div>\n",
       "<style scoped>\n",
       "    .dataframe tbody tr th:only-of-type {\n",
       "        vertical-align: middle;\n",
       "    }\n",
       "\n",
       "    .dataframe tbody tr th {\n",
       "        vertical-align: top;\n",
       "    }\n",
       "\n",
       "    .dataframe thead th {\n",
       "        text-align: right;\n",
       "    }\n",
       "</style>\n",
       "<table border=\"1\" class=\"dataframe\">\n",
       "  <thead>\n",
       "    <tr style=\"text-align: right;\">\n",
       "      <th></th>\n",
       "      <th>max_depth</th>\n",
       "      <th>Train Accuracy</th>\n",
       "      <th>Test Accuracy</th>\n",
       "    </tr>\n",
       "  </thead>\n",
       "  <tbody>\n",
       "    <tr>\n",
       "      <th>0</th>\n",
       "      <td>5</td>\n",
       "      <td>0.828283</td>\n",
       "      <td>0.858852</td>\n",
       "    </tr>\n",
       "    <tr>\n",
       "      <th>1</th>\n",
       "      <td>6</td>\n",
       "      <td>0.848485</td>\n",
       "      <td>0.870813</td>\n",
       "    </tr>\n",
       "    <tr>\n",
       "      <th>...</th>\n",
       "      <td>...</td>\n",
       "      <td>...</td>\n",
       "      <td>...</td>\n",
       "    </tr>\n",
       "    <tr>\n",
       "      <th>9</th>\n",
       "      <td>14</td>\n",
       "      <td>0.924804</td>\n",
       "      <td>0.858852</td>\n",
       "    </tr>\n",
       "    <tr>\n",
       "      <th>10</th>\n",
       "      <td>15</td>\n",
       "      <td>0.924804</td>\n",
       "      <td>0.858852</td>\n",
       "    </tr>\n",
       "  </tbody>\n",
       "</table>\n",
       "<p>11 rows × 3 columns</p>\n",
       "</div>"
      ],
      "text/plain": [
       "    max_depth  Train Accuracy  Test Accuracy\n",
       "0           5        0.828283       0.858852\n",
       "1           6        0.848485       0.870813\n",
       "..        ...             ...            ...\n",
       "9          14        0.924804       0.858852\n",
       "10         15        0.924804       0.858852\n",
       "\n",
       "[11 rows x 3 columns]"
      ]
     },
     "execution_count": 56,
     "metadata": {},
     "output_type": "execute_result"
    }
   ],
   "source": [
    "# Initialize a list to store results\n",
    "results = []\n",
    "\n",
    "# Loop through max_depth values from 5 to 15\n",
    "for depth in range(5, 16):\n",
    "    # Train RandomForest with current max_depth\n",
    "    rf_bin = RandomForestClassifier(\n",
    "        n_estimators=100, \n",
    "        max_depth=depth, \n",
    "        random_state=1,\n",
    "        class_weight={0: 6.2, 1: 3.8}\n",
    "    )\n",
    "    rf_bin.fit(x_train_bin, y_train_bin)\n",
    "    \n",
    "    # Evaluate on train & test sets\n",
    "    train_metrics = model_performance_classification(rf_bin, x_train_bin, y_train_bin)\n",
    "    test_metrics = model_performance_classification(rf_bin, x_test_bin, y_test_bin)\n",
    "    \n",
    "    # Store results\n",
    "    results.append({\n",
    "        \"max_depth\": depth,\n",
    "        \"Train Accuracy\": train_metrics.iloc[0, 0],  # Assuming Accuracy is the first row\n",
    "        \"Test Accuracy\": test_metrics.iloc[0, 0]\n",
    "    })\n",
    "\n",
    "# Convert results into a DataFrame\n",
    "results_df = pd.DataFrame(results)\n",
    "\n",
    "results_df"
   ]
  },
  {
   "cell_type": "code",
   "execution_count": 57,
   "id": "b60a2325",
   "metadata": {
    "execution": {
     "iopub.execute_input": "2025-03-07T13:13:36.403409Z",
     "iopub.status.busy": "2025-03-07T13:13:36.403035Z",
     "iopub.status.idle": "2025-03-07T13:13:37.649744Z",
     "shell.execute_reply": "2025-03-07T13:13:37.648517Z"
    },
    "papermill": {
     "duration": 1.277977,
     "end_time": "2025-03-07T13:13:37.651785",
     "exception": false,
     "start_time": "2025-03-07T13:13:36.373808",
     "status": "completed"
    },
    "tags": []
   },
   "outputs": [
    {
     "name": "stdout",
     "output_type": "stream",
     "text": [
      "Cross-validation accuracy: 0.8271410736579276\n"
     ]
    }
   ],
   "source": [
    "# Cross validation to check assumption for best depth\n",
    "best_rf_bin = RandomForestClassifier(\n",
    "        n_estimators=100, \n",
    "        max_depth=7, \n",
    "        random_state=1,\n",
    "        class_weight={0: 6.2, 1: 3.8}\n",
    "    )\n",
    "cv_scores = cross_val_score(best_rf_bin, x_train_bin, y_train_bin, cv=10)\n",
    "\n",
    "print(\"Cross-validation accuracy:\", cv_scores.mean())"
   ]
  },
  {
   "cell_type": "code",
   "execution_count": 58,
   "id": "fcabd8ec",
   "metadata": {
    "execution": {
     "iopub.execute_input": "2025-03-07T13:13:37.706889Z",
     "iopub.status.busy": "2025-03-07T13:13:37.706413Z",
     "iopub.status.idle": "2025-03-07T13:13:37.843864Z",
     "shell.execute_reply": "2025-03-07T13:13:37.842492Z"
    },
    "papermill": {
     "duration": 0.167848,
     "end_time": "2025-03-07T13:13:37.845401",
     "exception": false,
     "start_time": "2025-03-07T13:13:37.677553",
     "status": "completed"
    },
    "tags": []
   },
   "outputs": [
    {
     "data": {
      "text/html": [
       "<style>#sk-container-id-8 {color: black;background-color: white;}#sk-container-id-8 pre{padding: 0;}#sk-container-id-8 div.sk-toggleable {background-color: white;}#sk-container-id-8 label.sk-toggleable__label {cursor: pointer;display: block;width: 100%;margin-bottom: 0;padding: 0.3em;box-sizing: border-box;text-align: center;}#sk-container-id-8 label.sk-toggleable__label-arrow:before {content: \"▸\";float: left;margin-right: 0.25em;color: #696969;}#sk-container-id-8 label.sk-toggleable__label-arrow:hover:before {color: black;}#sk-container-id-8 div.sk-estimator:hover label.sk-toggleable__label-arrow:before {color: black;}#sk-container-id-8 div.sk-toggleable__content {max-height: 0;max-width: 0;overflow: hidden;text-align: left;background-color: #f0f8ff;}#sk-container-id-8 div.sk-toggleable__content pre {margin: 0.2em;color: black;border-radius: 0.25em;background-color: #f0f8ff;}#sk-container-id-8 input.sk-toggleable__control:checked~div.sk-toggleable__content {max-height: 200px;max-width: 100%;overflow: auto;}#sk-container-id-8 input.sk-toggleable__control:checked~label.sk-toggleable__label-arrow:before {content: \"▾\";}#sk-container-id-8 div.sk-estimator input.sk-toggleable__control:checked~label.sk-toggleable__label {background-color: #d4ebff;}#sk-container-id-8 div.sk-label input.sk-toggleable__control:checked~label.sk-toggleable__label {background-color: #d4ebff;}#sk-container-id-8 input.sk-hidden--visually {border: 0;clip: rect(1px 1px 1px 1px);clip: rect(1px, 1px, 1px, 1px);height: 1px;margin: -1px;overflow: hidden;padding: 0;position: absolute;width: 1px;}#sk-container-id-8 div.sk-estimator {font-family: monospace;background-color: #f0f8ff;border: 1px dotted black;border-radius: 0.25em;box-sizing: border-box;margin-bottom: 0.5em;}#sk-container-id-8 div.sk-estimator:hover {background-color: #d4ebff;}#sk-container-id-8 div.sk-parallel-item::after {content: \"\";width: 100%;border-bottom: 1px solid gray;flex-grow: 1;}#sk-container-id-8 div.sk-label:hover label.sk-toggleable__label {background-color: #d4ebff;}#sk-container-id-8 div.sk-serial::before {content: \"\";position: absolute;border-left: 1px solid gray;box-sizing: border-box;top: 0;bottom: 0;left: 50%;z-index: 0;}#sk-container-id-8 div.sk-serial {display: flex;flex-direction: column;align-items: center;background-color: white;padding-right: 0.2em;padding-left: 0.2em;position: relative;}#sk-container-id-8 div.sk-item {position: relative;z-index: 1;}#sk-container-id-8 div.sk-parallel {display: flex;align-items: stretch;justify-content: center;background-color: white;position: relative;}#sk-container-id-8 div.sk-item::before, #sk-container-id-8 div.sk-parallel-item::before {content: \"\";position: absolute;border-left: 1px solid gray;box-sizing: border-box;top: 0;bottom: 0;left: 50%;z-index: -1;}#sk-container-id-8 div.sk-parallel-item {display: flex;flex-direction: column;z-index: 1;position: relative;background-color: white;}#sk-container-id-8 div.sk-parallel-item:first-child::after {align-self: flex-end;width: 50%;}#sk-container-id-8 div.sk-parallel-item:last-child::after {align-self: flex-start;width: 50%;}#sk-container-id-8 div.sk-parallel-item:only-child::after {width: 0;}#sk-container-id-8 div.sk-dashed-wrapped {border: 1px dashed gray;margin: 0 0.4em 0.5em 0.4em;box-sizing: border-box;padding-bottom: 0.4em;background-color: white;}#sk-container-id-8 div.sk-label label {font-family: monospace;font-weight: bold;display: inline-block;line-height: 1.2em;}#sk-container-id-8 div.sk-label-container {text-align: center;}#sk-container-id-8 div.sk-container {/* jupyter's `normalize.less` sets `[hidden] { display: none; }` but bootstrap.min.css set `[hidden] { display: none !important; }` so we also need the `!important` here to be able to override the default hidden behavior on the sphinx rendered scikit-learn.org. See: https://github.com/scikit-learn/scikit-learn/issues/21755 */display: inline-block !important;position: relative;}#sk-container-id-8 div.sk-text-repr-fallback {display: none;}</style><div id=\"sk-container-id-8\" class=\"sk-top-container\"><div class=\"sk-text-repr-fallback\"><pre>RandomForestClassifier(class_weight={0: 6.2, 1: 3.8}, max_depth=7,\n",
       "                       random_state=1)</pre><b>In a Jupyter environment, please rerun this cell to show the HTML representation or trust the notebook. <br />On GitHub, the HTML representation is unable to render, please try loading this page with nbviewer.org.</b></div><div class=\"sk-container\" hidden><div class=\"sk-item\"><div class=\"sk-estimator sk-toggleable\"><input class=\"sk-toggleable__control sk-hidden--visually\" id=\"sk-estimator-id-8\" type=\"checkbox\" checked><label for=\"sk-estimator-id-8\" class=\"sk-toggleable__label sk-toggleable__label-arrow\">RandomForestClassifier</label><div class=\"sk-toggleable__content\"><pre>RandomForestClassifier(class_weight={0: 6.2, 1: 3.8}, max_depth=7,\n",
       "                       random_state=1)</pre></div></div></div></div></div>"
      ],
      "text/plain": [
       "RandomForestClassifier(class_weight={0: 6.2, 1: 3.8}, max_depth=7,\n",
       "                       random_state=1)"
      ]
     },
     "execution_count": 58,
     "metadata": {},
     "output_type": "execute_result"
    }
   ],
   "source": [
    "best_rf_bin.fit(x_train_bin,y_train_bin)"
   ]
  },
  {
   "cell_type": "markdown",
   "id": "97f58f12",
   "metadata": {
    "papermill": {
     "duration": 0.02517,
     "end_time": "2025-03-07T13:13:37.896400",
     "exception": false,
     "start_time": "2025-03-07T13:13:37.871230",
     "status": "completed"
    },
    "tags": []
   },
   "source": [
    "Export Prediction as csv"
   ]
  },
  {
   "cell_type": "code",
   "execution_count": 59,
   "id": "5987dc66",
   "metadata": {
    "execution": {
     "iopub.execute_input": "2025-03-07T13:13:37.952841Z",
     "iopub.status.busy": "2025-03-07T13:13:37.952515Z",
     "iopub.status.idle": "2025-03-07T13:13:37.968569Z",
     "shell.execute_reply": "2025-03-07T13:13:37.967762Z"
    },
    "papermill": {
     "duration": 0.046151,
     "end_time": "2025-03-07T13:13:37.970160",
     "exception": false,
     "start_time": "2025-03-07T13:13:37.924009",
     "status": "completed"
    },
    "tags": []
   },
   "outputs": [
    {
     "data": {
      "text/plain": [
       "(418, 2)"
      ]
     },
     "execution_count": 59,
     "metadata": {},
     "output_type": "execute_result"
    }
   ],
   "source": [
    "# including passanger ID back to dataset, there are 1 row dropped of missing value\n",
    "model_predictions = best_rf_bin.predict(x_test_bin).flatten()\n",
    "\n",
    "passenger_ids_fixed = merged_test_initial[\"PassengerId\"].iloc[x_test_na.index]\n",
    "\n",
    "# Create the final submission DataFrame\n",
    "submission = pd.DataFrame({\n",
    "    \"PassengerId\": merged_test_initial[\"PassengerId\"],\n",
    "    \"Survived\": model_predictions.astype(int)\n",
    "})\n",
    "\n",
    "# Save submission file\n",
    "submission.to_csv(\"submissionRFbin2.csv\", index=False)\n",
    "submission.shape"
   ]
  },
  {
   "cell_type": "markdown",
   "id": "4372a8e3",
   "metadata": {
    "papermill": {
     "duration": 0.034523,
     "end_time": "2025-03-07T13:13:38.033848",
     "exception": false,
     "start_time": "2025-03-07T13:13:37.999325",
     "status": "completed"
    },
    "tags": []
   },
   "source": [
    "The model above has an accuracy of 74.4% , with class_weight={0: 6.2, 1: 3.8}, it regains at 77.2% still lower than random forest\n",
    "\n",
    "__________________________________________________________________________"
   ]
  },
  {
   "cell_type": "code",
   "execution_count": 60,
   "id": "bdabcd34",
   "metadata": {
    "execution": {
     "iopub.execute_input": "2025-03-07T13:13:38.089544Z",
     "iopub.status.busy": "2025-03-07T13:13:38.089243Z",
     "iopub.status.idle": "2025-03-07T13:13:39.875903Z",
     "shell.execute_reply": "2025-03-07T13:13:39.875300Z"
    },
    "papermill": {
     "duration": 1.816521,
     "end_time": "2025-03-07T13:13:39.877367",
     "exception": false,
     "start_time": "2025-03-07T13:13:38.060846",
     "status": "completed"
    },
    "tags": []
   },
   "outputs": [
    {
     "name": "stdout",
     "output_type": "stream",
     "text": [
      "Fitting 5 folds for each of 20 candidates, totalling 100 fits\n",
      "Best parameters: {'colsample_bytree': 0.8, 'learning_rate': 0.05, 'max_depth': 7, 'n_estimators': 100, 'subsample': 0.8}\n",
      "Best cross-validation accuracy: 0.8114744837110036\n"
     ]
    }
   ],
   "source": [
    "# Trying to boost Accuracy using XGBoost (without binning)\n",
    "\n",
    "param_grid = {\n",
    "    'n_estimators': [100],\n",
    "    'max_depth': [4,5,6,7,8], \n",
    "    'learning_rate': [0.05,0.1],\n",
    "    'subsample': [0.8],\n",
    "    'colsample_bytree': [0.5,0.8]\n",
    "}\n",
    "xgb_na = XGBClassifier(random_state=1)\n",
    "\n",
    "# Grid search with 5-fold cross-validation\n",
    "xgb_na_grid_search = GridSearchCV(xgb_na, param_grid, cv=5, scoring='accuracy', n_jobs=-1, verbose=1)\n",
    "\n",
    "# Fit GridSearchCV (this finds the best hyperparameters)\n",
    "xgb_na_grid_search.fit(x_train_na, y_train)\n",
    "\n",
    "# Use the best model found by GridSearchCV\n",
    "best_xgb_na = xgb_na_grid_search.best_estimator_\n",
    "\n",
    "# Make predictions using the best model\n",
    "xgb_na_preds = best_xgb_na.predict(x_test_na)\n",
    "\n",
    "# Print the best parameters and best accuracy\n",
    "print(\"Best parameters:\", xgb_na_grid_search.best_params_)\n",
    "print(\"Best cross-validation accuracy:\", xgb_na_grid_search.best_score_)"
   ]
  },
  {
   "cell_type": "code",
   "execution_count": 61,
   "id": "4bdd5314",
   "metadata": {
    "execution": {
     "iopub.execute_input": "2025-03-07T13:13:39.930529Z",
     "iopub.status.busy": "2025-03-07T13:13:39.930263Z",
     "iopub.status.idle": "2025-03-07T13:13:41.702747Z",
     "shell.execute_reply": "2025-03-07T13:13:41.702126Z"
    },
    "papermill": {
     "duration": 1.800482,
     "end_time": "2025-03-07T13:13:41.703952",
     "exception": false,
     "start_time": "2025-03-07T13:13:39.903470",
     "status": "completed"
    },
    "tags": []
   },
   "outputs": [
    {
     "name": "stdout",
     "output_type": "stream",
     "text": [
      "Fitting 5 folds for each of 20 candidates, totalling 100 fits\n",
      "Best parameters: {'colsample_bytree': 0.5, 'learning_rate': 0.1, 'max_depth': 7, 'n_estimators': 100, 'subsample': 0.8}\n",
      "Best cross-validation accuracy: 0.8271797125102001\n"
     ]
    }
   ],
   "source": [
    "# Trying to boost Accuracy using XGBoost (with binning)\n",
    "xgb_bin = XGBClassifier(random_state=1)\n",
    "\n",
    "# Grid search with 5-fold cross-validation\n",
    "xgb_bin_grid_search = GridSearchCV(xgb_bin, param_grid, cv=5, scoring='accuracy', n_jobs=-1, verbose=1)\n",
    "\n",
    "xgb_bin_grid_search.fit(x_train_bin, y_train_bin)\n",
    "\n",
    "# Use the best model found by GridSearchCV\n",
    "best_xgb_bin = xgb_bin_grid_search.best_estimator_\n",
    "\n",
    "# Make predictions using the best model\n",
    "xgb_bin_preds = best_xgb_bin.predict(x_test_bin)\n",
    "\n",
    "# Print the best parameters and best accuracy\n",
    "print(\"Best parameters:\", xgb_bin_grid_search.best_params_)\n",
    "print(\"Best cross-validation accuracy:\", xgb_bin_grid_search.best_score_)"
   ]
  },
  {
   "cell_type": "markdown",
   "id": "2cb2b8b4",
   "metadata": {
    "papermill": {
     "duration": 0.02576,
     "end_time": "2025-03-07T13:13:41.756558",
     "exception": false,
     "start_time": "2025-03-07T13:13:41.730798",
     "status": "completed"
    },
    "tags": []
   },
   "source": [
    "Binning gives better accuracy overall"
   ]
  },
  {
   "cell_type": "code",
   "execution_count": 62,
   "id": "7aeb3a0b",
   "metadata": {
    "execution": {
     "iopub.execute_input": "2025-03-07T13:13:41.809797Z",
     "iopub.status.busy": "2025-03-07T13:13:41.809507Z",
     "iopub.status.idle": "2025-03-07T13:13:41.857794Z",
     "shell.execute_reply": "2025-03-07T13:13:41.856758Z"
    },
    "papermill": {
     "duration": 0.076278,
     "end_time": "2025-03-07T13:13:41.859204",
     "exception": false,
     "start_time": "2025-03-07T13:13:41.782926",
     "status": "completed"
    },
    "tags": []
   },
   "outputs": [
    {
     "data": {
      "text/html": [
       "<div>\n",
       "<style scoped>\n",
       "    .dataframe tbody tr th:only-of-type {\n",
       "        vertical-align: middle;\n",
       "    }\n",
       "\n",
       "    .dataframe tbody tr th {\n",
       "        vertical-align: top;\n",
       "    }\n",
       "\n",
       "    .dataframe thead th {\n",
       "        text-align: right;\n",
       "    }\n",
       "</style>\n",
       "<table border=\"1\" class=\"dataframe\">\n",
       "  <thead>\n",
       "    <tr style=\"text-align: right;\">\n",
       "      <th>Metric</th>\n",
       "      <th>Accuracy</th>\n",
       "      <th>Precision</th>\n",
       "      <th>Recall</th>\n",
       "      <th>F2-Score</th>\n",
       "    </tr>\n",
       "  </thead>\n",
       "  <tbody>\n",
       "    <tr>\n",
       "      <th>XGBoost W/ Age Train Score</th>\n",
       "      <td>0.879910</td>\n",
       "      <td>0.879798</td>\n",
       "      <td>0.879910</td>\n",
       "      <td>0.879163</td>\n",
       "    </tr>\n",
       "    <tr>\n",
       "      <th>XGBoost W/ Age Test Score</th>\n",
       "      <td>0.892344</td>\n",
       "      <td>0.892247</td>\n",
       "      <td>0.892344</td>\n",
       "      <td>0.891524</td>\n",
       "    </tr>\n",
       "    <tr>\n",
       "      <th>XGBoost Binning Train Score</th>\n",
       "      <td>0.887767</td>\n",
       "      <td>0.888642</td>\n",
       "      <td>0.887767</td>\n",
       "      <td>0.886712</td>\n",
       "    </tr>\n",
       "    <tr>\n",
       "      <th>XGBoost Binning Test Score</th>\n",
       "      <td>0.894737</td>\n",
       "      <td>0.894161</td>\n",
       "      <td>0.894737</td>\n",
       "      <td>0.894396</td>\n",
       "    </tr>\n",
       "  </tbody>\n",
       "</table>\n",
       "</div>"
      ],
      "text/plain": [
       "Metric                       Accuracy  Precision    Recall  F2-Score\n",
       "XGBoost W/ Age Train Score   0.879910   0.879798  0.879910  0.879163\n",
       "XGBoost W/ Age Test Score    0.892344   0.892247  0.892344  0.891524\n",
       "XGBoost Binning Train Score  0.887767   0.888642  0.887767  0.886712\n",
       "XGBoost Binning Test Score   0.894737   0.894161  0.894737  0.894396"
      ]
     },
     "execution_count": 62,
     "metadata": {},
     "output_type": "execute_result"
    }
   ],
   "source": [
    "# comparing XGBoost with'without bin accuracy for test and train\n",
    "XG_metrics_comparison = pd.DataFrame({\n",
    "    \"Metric\": [\"Accuracy\", \"Precision\", \"Recall\", \"F2-Score\"],\n",
    "    \"XGBoost W/ Age Train Score\": model_performance_classification(best_xgb_na, x_train_na, y_train).iloc[0].values,  \n",
    "    \"XGBoost W/ Age Test Score\": model_performance_classification(best_xgb_na, x_test_na, y_test).iloc[0].values,\n",
    "    \"XGBoost Binning Train Score\": model_performance_classification(best_xgb_bin, x_train_bin, y_train_bin).iloc[0].values,  \n",
    "    \"XGBoost Binning Test Score\": model_performance_classification(best_xgb_bin, x_test_bin, y_test_bin).iloc[0].values\n",
    "})\n",
    "\n",
    "XG_metrics_comparison.set_index(\"Metric\", inplace=True)\n",
    "XG_metrics_comparison.T"
   ]
  },
  {
   "cell_type": "markdown",
   "id": "8c2d1b9b",
   "metadata": {
    "papermill": {
     "duration": 0.025144,
     "end_time": "2025-03-07T13:13:41.910741",
     "exception": false,
     "start_time": "2025-03-07T13:13:41.885597",
     "status": "completed"
    },
    "tags": []
   },
   "source": [
    "Binning have better score"
   ]
  },
  {
   "cell_type": "code",
   "execution_count": 63,
   "id": "0698d877",
   "metadata": {
    "execution": {
     "iopub.execute_input": "2025-03-07T13:13:41.963184Z",
     "iopub.status.busy": "2025-03-07T13:13:41.962830Z",
     "iopub.status.idle": "2025-03-07T13:13:41.974212Z",
     "shell.execute_reply": "2025-03-07T13:13:41.972830Z"
    },
    "papermill": {
     "duration": 0.039024,
     "end_time": "2025-03-07T13:13:41.975526",
     "exception": false,
     "start_time": "2025-03-07T13:13:41.936502",
     "status": "completed"
    },
    "tags": []
   },
   "outputs": [
    {
     "data": {
      "text/plain": [
       "(418, 2)"
      ]
     },
     "execution_count": 63,
     "metadata": {},
     "output_type": "execute_result"
    }
   ],
   "source": [
    "# including passanger ID back to dataset XG BOOST w/ Binning\n",
    "model_predictions = best_xgb_bin.predict(x_test_bin).flatten()\n",
    "\n",
    "passenger_ids_fixed = merged_test_initial[\"PassengerId\"].iloc[x_test_na.index]\n",
    "\n",
    "# Create the final submission DataFrame\n",
    "submission = pd.DataFrame({\n",
    "    \"PassengerId\": merged_test_initial[\"PassengerId\"],\n",
    "    \"Survived\": model_predictions.astype(int)\n",
    "})\n",
    "\n",
    "# Save submission file\n",
    "submission.to_csv(\"submissionXGbin.csv\", index=False)\n",
    "submission.shape"
   ]
  },
  {
   "cell_type": "markdown",
   "id": "150e210e",
   "metadata": {
    "papermill": {
     "duration": 0.028677,
     "end_time": "2025-03-07T13:13:42.031130",
     "exception": false,
     "start_time": "2025-03-07T13:13:42.002453",
     "status": "completed"
    },
    "tags": []
   },
   "source": [
    "THIS ATTEMPT GETS 77.0% ACCURACY"
   ]
  },
  {
   "cell_type": "code",
   "execution_count": 64,
   "id": "f5cb8ea4",
   "metadata": {
    "execution": {
     "iopub.execute_input": "2025-03-07T13:13:42.084469Z",
     "iopub.status.busy": "2025-03-07T13:13:42.083975Z",
     "iopub.status.idle": "2025-03-07T13:13:42.098534Z",
     "shell.execute_reply": "2025-03-07T13:13:42.097021Z"
    },
    "papermill": {
     "duration": 0.043308,
     "end_time": "2025-03-07T13:13:42.099978",
     "exception": false,
     "start_time": "2025-03-07T13:13:42.056670",
     "status": "completed"
    },
    "tags": []
   },
   "outputs": [
    {
     "data": {
      "text/plain": [
       "(418, 2)"
      ]
     },
     "execution_count": 64,
     "metadata": {},
     "output_type": "execute_result"
    }
   ],
   "source": [
    "# including passanger ID back to dataset\n",
    "model_predictions = best_xgb_na.predict(x_test_na).flatten()\n",
    "\n",
    "passenger_ids_fixed = merged_test_initial[\"PassengerId\"].iloc[x_test_na.index]\n",
    "\n",
    "# Create the final submission DataFrame\n",
    "submission = pd.DataFrame({\n",
    "    \"PassengerId\": merged_test_initial[\"PassengerId\"],\n",
    "    \"Survived\": model_predictions.astype(int)\n",
    "})\n",
    "\n",
    "# Save submission file\n",
    "submission.to_csv(\"submissionXGna.csv\", index=False)\n",
    "submission.shape"
   ]
  },
  {
   "cell_type": "markdown",
   "id": "2451b5ac",
   "metadata": {
    "papermill": {
     "duration": 0.028347,
     "end_time": "2025-03-07T13:13:42.157459",
     "exception": false,
     "start_time": "2025-03-07T13:13:42.129112",
     "status": "completed"
    },
    "tags": []
   },
   "source": [
    "THIS ATTEMPT GETS 76.3% ACCURACY"
   ]
  },
  {
   "cell_type": "code",
   "execution_count": 65,
   "id": "44f97b76",
   "metadata": {
    "execution": {
     "iopub.execute_input": "2025-03-07T13:13:42.216228Z",
     "iopub.status.busy": "2025-03-07T13:13:42.215872Z",
     "iopub.status.idle": "2025-03-07T13:13:42.481120Z",
     "shell.execute_reply": "2025-03-07T13:13:42.479682Z"
    },
    "papermill": {
     "duration": 0.297194,
     "end_time": "2025-03-07T13:13:42.483497",
     "exception": false,
     "start_time": "2025-03-07T13:13:42.186303",
     "status": "completed"
    },
    "tags": []
   },
   "outputs": [
    {
     "data": {
      "text/html": [
       "<style>#sk-container-id-9 {color: black;background-color: white;}#sk-container-id-9 pre{padding: 0;}#sk-container-id-9 div.sk-toggleable {background-color: white;}#sk-container-id-9 label.sk-toggleable__label {cursor: pointer;display: block;width: 100%;margin-bottom: 0;padding: 0.3em;box-sizing: border-box;text-align: center;}#sk-container-id-9 label.sk-toggleable__label-arrow:before {content: \"▸\";float: left;margin-right: 0.25em;color: #696969;}#sk-container-id-9 label.sk-toggleable__label-arrow:hover:before {color: black;}#sk-container-id-9 div.sk-estimator:hover label.sk-toggleable__label-arrow:before {color: black;}#sk-container-id-9 div.sk-toggleable__content {max-height: 0;max-width: 0;overflow: hidden;text-align: left;background-color: #f0f8ff;}#sk-container-id-9 div.sk-toggleable__content pre {margin: 0.2em;color: black;border-radius: 0.25em;background-color: #f0f8ff;}#sk-container-id-9 input.sk-toggleable__control:checked~div.sk-toggleable__content {max-height: 200px;max-width: 100%;overflow: auto;}#sk-container-id-9 input.sk-toggleable__control:checked~label.sk-toggleable__label-arrow:before {content: \"▾\";}#sk-container-id-9 div.sk-estimator input.sk-toggleable__control:checked~label.sk-toggleable__label {background-color: #d4ebff;}#sk-container-id-9 div.sk-label input.sk-toggleable__control:checked~label.sk-toggleable__label {background-color: #d4ebff;}#sk-container-id-9 input.sk-hidden--visually {border: 0;clip: rect(1px 1px 1px 1px);clip: rect(1px, 1px, 1px, 1px);height: 1px;margin: -1px;overflow: hidden;padding: 0;position: absolute;width: 1px;}#sk-container-id-9 div.sk-estimator {font-family: monospace;background-color: #f0f8ff;border: 1px dotted black;border-radius: 0.25em;box-sizing: border-box;margin-bottom: 0.5em;}#sk-container-id-9 div.sk-estimator:hover {background-color: #d4ebff;}#sk-container-id-9 div.sk-parallel-item::after {content: \"\";width: 100%;border-bottom: 1px solid gray;flex-grow: 1;}#sk-container-id-9 div.sk-label:hover label.sk-toggleable__label {background-color: #d4ebff;}#sk-container-id-9 div.sk-serial::before {content: \"\";position: absolute;border-left: 1px solid gray;box-sizing: border-box;top: 0;bottom: 0;left: 50%;z-index: 0;}#sk-container-id-9 div.sk-serial {display: flex;flex-direction: column;align-items: center;background-color: white;padding-right: 0.2em;padding-left: 0.2em;position: relative;}#sk-container-id-9 div.sk-item {position: relative;z-index: 1;}#sk-container-id-9 div.sk-parallel {display: flex;align-items: stretch;justify-content: center;background-color: white;position: relative;}#sk-container-id-9 div.sk-item::before, #sk-container-id-9 div.sk-parallel-item::before {content: \"\";position: absolute;border-left: 1px solid gray;box-sizing: border-box;top: 0;bottom: 0;left: 50%;z-index: -1;}#sk-container-id-9 div.sk-parallel-item {display: flex;flex-direction: column;z-index: 1;position: relative;background-color: white;}#sk-container-id-9 div.sk-parallel-item:first-child::after {align-self: flex-end;width: 50%;}#sk-container-id-9 div.sk-parallel-item:last-child::after {align-self: flex-start;width: 50%;}#sk-container-id-9 div.sk-parallel-item:only-child::after {width: 0;}#sk-container-id-9 div.sk-dashed-wrapped {border: 1px dashed gray;margin: 0 0.4em 0.5em 0.4em;box-sizing: border-box;padding-bottom: 0.4em;background-color: white;}#sk-container-id-9 div.sk-label label {font-family: monospace;font-weight: bold;display: inline-block;line-height: 1.2em;}#sk-container-id-9 div.sk-label-container {text-align: center;}#sk-container-id-9 div.sk-container {/* jupyter's `normalize.less` sets `[hidden] { display: none; }` but bootstrap.min.css set `[hidden] { display: none !important; }` so we also need the `!important` here to be able to override the default hidden behavior on the sphinx rendered scikit-learn.org. See: https://github.com/scikit-learn/scikit-learn/issues/21755 */display: inline-block !important;position: relative;}#sk-container-id-9 div.sk-text-repr-fallback {display: none;}</style><div id=\"sk-container-id-9\" class=\"sk-top-container\"><div class=\"sk-text-repr-fallback\"><pre>XGBClassifier(base_score=None, booster=None, callbacks=None,\n",
       "              colsample_bylevel=None, colsample_bynode=None,\n",
       "              colsample_bytree=0.8, device=None, early_stopping_rounds=None,\n",
       "              enable_categorical=False, eval_metric=None, feature_types=None,\n",
       "              gamma=None, grow_policy=None, importance_type=None,\n",
       "              interaction_constraints=None, learning_rate=0.03, max_bin=None,\n",
       "              max_cat_threshold=None, max_cat_to_onehot=None,\n",
       "              max_delta_step=None, max_depth=6, max_leaves=None,\n",
       "              min_child_weight=None, missing=nan, monotone_constraints=None,\n",
       "              multi_strategy=None, n_estimators=500, n_jobs=None,\n",
       "              num_parallel_tree=None, random_state=1, ...)</pre><b>In a Jupyter environment, please rerun this cell to show the HTML representation or trust the notebook. <br />On GitHub, the HTML representation is unable to render, please try loading this page with nbviewer.org.</b></div><div class=\"sk-container\" hidden><div class=\"sk-item\"><div class=\"sk-estimator sk-toggleable\"><input class=\"sk-toggleable__control sk-hidden--visually\" id=\"sk-estimator-id-9\" type=\"checkbox\" checked><label for=\"sk-estimator-id-9\" class=\"sk-toggleable__label sk-toggleable__label-arrow\">XGBClassifier</label><div class=\"sk-toggleable__content\"><pre>XGBClassifier(base_score=None, booster=None, callbacks=None,\n",
       "              colsample_bylevel=None, colsample_bynode=None,\n",
       "              colsample_bytree=0.8, device=None, early_stopping_rounds=None,\n",
       "              enable_categorical=False, eval_metric=None, feature_types=None,\n",
       "              gamma=None, grow_policy=None, importance_type=None,\n",
       "              interaction_constraints=None, learning_rate=0.03, max_bin=None,\n",
       "              max_cat_threshold=None, max_cat_to_onehot=None,\n",
       "              max_delta_step=None, max_depth=6, max_leaves=None,\n",
       "              min_child_weight=None, missing=nan, monotone_constraints=None,\n",
       "              multi_strategy=None, n_estimators=500, n_jobs=None,\n",
       "              num_parallel_tree=None, random_state=1, ...)</pre></div></div></div></div></div>"
      ],
      "text/plain": [
       "XGBClassifier(base_score=None, booster=None, callbacks=None,\n",
       "              colsample_bylevel=None, colsample_bynode=None,\n",
       "              colsample_bytree=0.8, device=None, early_stopping_rounds=None,\n",
       "              enable_categorical=False, eval_metric=None, feature_types=None,\n",
       "              gamma=None, grow_policy=None, importance_type=None,\n",
       "              interaction_constraints=None, learning_rate=0.03, max_bin=None,\n",
       "              max_cat_threshold=None, max_cat_to_onehot=None,\n",
       "              max_delta_step=None, max_depth=6, max_leaves=None,\n",
       "              min_child_weight=None, missing=nan, monotone_constraints=None,\n",
       "              multi_strategy=None, n_estimators=500, n_jobs=None,\n",
       "              num_parallel_tree=None, random_state=1, ...)"
      ]
     },
     "execution_count": 65,
     "metadata": {},
     "output_type": "execute_result"
    }
   ],
   "source": [
    "# last try , Chat Gpt recommendation\n",
    "try_xgb = XGBClassifier(\n",
    "    n_estimators=500,        # More boosting rounds\n",
    "    learning_rate=0.03,      # Slower learning rate for better optimization\n",
    "    max_depth=6,             # Reduce depth to prevent overfitting\n",
    "    subsample=0.8,           # Use 80% of training data per tree\n",
    "    colsample_bytree=0.8,    # Use 80% of features per tree\n",
    "    reg_lambda=2,            # Increase L2 regularization\n",
    "    reg_alpha=1,             # Add some L1 regularization\n",
    "    random_state=1\n",
    ")\n",
    "try_xgb.fit(x_train_bin, y_train_bin)"
   ]
  },
  {
   "cell_type": "code",
   "execution_count": 66,
   "id": "866f6ed3",
   "metadata": {
    "execution": {
     "iopub.execute_input": "2025-03-07T13:13:42.543119Z",
     "iopub.status.busy": "2025-03-07T13:13:42.542757Z",
     "iopub.status.idle": "2025-03-07T13:13:42.577201Z",
     "shell.execute_reply": "2025-03-07T13:13:42.575220Z"
    },
    "papermill": {
     "duration": 0.066153,
     "end_time": "2025-03-07T13:13:42.579174",
     "exception": false,
     "start_time": "2025-03-07T13:13:42.513021",
     "status": "completed"
    },
    "tags": []
   },
   "outputs": [
    {
     "data": {
      "text/html": [
       "<div>\n",
       "<style scoped>\n",
       "    .dataframe tbody tr th:only-of-type {\n",
       "        vertical-align: middle;\n",
       "    }\n",
       "\n",
       "    .dataframe tbody tr th {\n",
       "        vertical-align: top;\n",
       "    }\n",
       "\n",
       "    .dataframe thead th {\n",
       "        text-align: right;\n",
       "    }\n",
       "</style>\n",
       "<table border=\"1\" class=\"dataframe\">\n",
       "  <thead>\n",
       "    <tr style=\"text-align: right;\">\n",
       "      <th>Metric</th>\n",
       "      <th>Accuracy</th>\n",
       "      <th>Precision</th>\n",
       "      <th>Recall</th>\n",
       "      <th>F2-Score</th>\n",
       "    </tr>\n",
       "  </thead>\n",
       "  <tbody>\n",
       "    <tr>\n",
       "      <th>XGBoost W/ Age Train Score</th>\n",
       "      <td>0.878788</td>\n",
       "      <td>0.879585</td>\n",
       "      <td>0.878788</td>\n",
       "      <td>0.877606</td>\n",
       "    </tr>\n",
       "    <tr>\n",
       "      <th>XGBoost W/ Age Test Score</th>\n",
       "      <td>0.906699</td>\n",
       "      <td>0.906319</td>\n",
       "      <td>0.906699</td>\n",
       "      <td>0.906332</td>\n",
       "    </tr>\n",
       "  </tbody>\n",
       "</table>\n",
       "</div>"
      ],
      "text/plain": [
       "Metric                      Accuracy  Precision    Recall  F2-Score\n",
       "XGBoost W/ Age Train Score  0.878788   0.879585  0.878788  0.877606\n",
       "XGBoost W/ Age Test Score   0.906699   0.906319  0.906699  0.906332"
      ]
     },
     "execution_count": 66,
     "metadata": {},
     "output_type": "execute_result"
    }
   ],
   "source": [
    "# comparing XGBoost with'without bin accuracy for test and train\n",
    "try_XG_metrics = pd.DataFrame({\n",
    "    \"Metric\": [\"Accuracy\", \"Precision\", \"Recall\", \"F2-Score\"],\n",
    "    \"XGBoost W/ Age Train Score\": model_performance_classification(try_xgb, x_train_bin, y_train_bin).iloc[0].values,  \n",
    "    \"XGBoost W/ Age Test Score\": model_performance_classification(try_xgb, x_test_bin, y_test_bin).iloc[0].values\n",
    "})\n",
    "\n",
    "try_XG_metrics.set_index(\"Metric\", inplace=True)\n",
    "try_XG_metrics.T"
   ]
  },
  {
   "cell_type": "code",
   "execution_count": 67,
   "id": "74475f8c",
   "metadata": {
    "execution": {
     "iopub.execute_input": "2025-03-07T13:13:42.637002Z",
     "iopub.status.busy": "2025-03-07T13:13:42.636740Z",
     "iopub.status.idle": "2025-03-07T13:13:42.649437Z",
     "shell.execute_reply": "2025-03-07T13:13:42.648876Z"
    },
    "papermill": {
     "duration": 0.043967,
     "end_time": "2025-03-07T13:13:42.650968",
     "exception": false,
     "start_time": "2025-03-07T13:13:42.607001",
     "status": "completed"
    },
    "tags": []
   },
   "outputs": [
    {
     "data": {
      "text/plain": [
       "(418, 2)"
      ]
     },
     "execution_count": 67,
     "metadata": {},
     "output_type": "execute_result"
    }
   ],
   "source": [
    "# including passanger ID back to dataset\n",
    "model_predictions = try_xgb.predict(x_test_bin).flatten()\n",
    "\n",
    "passenger_ids_fixed = merged_test_initial[\"PassengerId\"].iloc[x_test_na.index]\n",
    "\n",
    "# Create the final submission DataFrame\n",
    "submission = pd.DataFrame({\n",
    "    \"PassengerId\": merged_test_initial[\"PassengerId\"],\n",
    "    \"Survived\": model_predictions.astype(int)\n",
    "})\n",
    "\n",
    "# Save submission file\n",
    "submission.to_csv(\"submissionXGgpt.csv\", index=False)\n",
    "submission.shape"
   ]
  },
  {
   "cell_type": "markdown",
   "id": "b6349b2d",
   "metadata": {
    "papermill": {
     "duration": 0.025161,
     "end_time": "2025-03-07T13:13:42.702191",
     "exception": false,
     "start_time": "2025-03-07T13:13:42.677030",
     "status": "completed"
    },
    "tags": []
   },
   "source": [
    "THIS ATTEMPT GETS 77.2% ACCURACY"
   ]
  },
  {
   "cell_type": "markdown",
   "id": "b3053a3c",
   "metadata": {
    "papermill": {
     "duration": 0.036339,
     "end_time": "2025-03-07T13:13:42.765176",
     "exception": false,
     "start_time": "2025-03-07T13:13:42.728837",
     "status": "completed"
    },
    "tags": []
   },
   "source": [
    "______________________________________________________________________________\n",
    "Attempt to Split data into train and test first"
   ]
  },
  {
   "cell_type": "code",
   "execution_count": 68,
   "id": "a2c2b62b",
   "metadata": {
    "execution": {
     "iopub.execute_input": "2025-03-07T13:13:42.834263Z",
     "iopub.status.busy": "2025-03-07T13:13:42.833779Z",
     "iopub.status.idle": "2025-03-07T13:13:42.846016Z",
     "shell.execute_reply": "2025-03-07T13:13:42.844219Z"
    },
    "papermill": {
     "duration": 0.049893,
     "end_time": "2025-03-07T13:13:42.848503",
     "exception": false,
     "start_time": "2025-03-07T13:13:42.798610",
     "status": "completed"
    },
    "tags": []
   },
   "outputs": [
    {
     "name": "stdout",
     "output_type": "stream",
     "text": [
      "Training set size: (712, 11)\n",
      "Test set size: (179, 11)\n"
     ]
    }
   ],
   "source": [
    "#splitting the data\n",
    "x_train_s, x_test_s, y_train_s, y_test_s = train_test_split(data.drop(columns=['Survived']), data['Survived'], \n",
    "                                                    test_size=0.2,  # 20% for testing\n",
    "                                                    random_state=1,  # Ensures reproducibility\n",
    "                                                    stratify=data['Survived'])  # Ensures class balance\n",
    "\n",
    "print(f\"Training set size: {x_train_s.shape}\")\n",
    "print(f\"Test set size: {x_test_s.shape}\")"
   ]
  },
  {
   "cell_type": "code",
   "execution_count": 69,
   "id": "4c76f4cb",
   "metadata": {
    "execution": {
     "iopub.execute_input": "2025-03-07T13:13:42.903203Z",
     "iopub.status.busy": "2025-03-07T13:13:42.902725Z",
     "iopub.status.idle": "2025-03-07T13:13:42.908769Z",
     "shell.execute_reply": "2025-03-07T13:13:42.907658Z"
    },
    "papermill": {
     "duration": 0.035217,
     "end_time": "2025-03-07T13:13:42.910554",
     "exception": false,
     "start_time": "2025-03-07T13:13:42.875337",
     "status": "completed"
    },
    "tags": []
   },
   "outputs": [],
   "source": [
    "# fill Embarked null value with mode\n",
    "x_train_s[\"Embarked\"].fillna(x_train_s[\"Embarked\"].mode()[0], inplace=True)"
   ]
  },
  {
   "cell_type": "code",
   "execution_count": 70,
   "id": "0d346a03",
   "metadata": {
    "execution": {
     "iopub.execute_input": "2025-03-07T13:13:42.970202Z",
     "iopub.status.busy": "2025-03-07T13:13:42.969810Z",
     "iopub.status.idle": "2025-03-07T13:13:42.976639Z",
     "shell.execute_reply": "2025-03-07T13:13:42.975088Z"
    },
    "papermill": {
     "duration": 0.038939,
     "end_time": "2025-03-07T13:13:42.978877",
     "exception": false,
     "start_time": "2025-03-07T13:13:42.939938",
     "status": "completed"
    },
    "tags": []
   },
   "outputs": [],
   "source": [
    "# Also the submission final test\n",
    "# Since 1 fare value is missing, add with mode \n",
    "submission_test=merged_test_initial\n",
    "submission_test[\"Fare\"].fillna(submission_test[\"Fare\"].mode()[0], inplace=True)"
   ]
  },
  {
   "cell_type": "code",
   "execution_count": 71,
   "id": "2e46382a",
   "metadata": {
    "execution": {
     "iopub.execute_input": "2025-03-07T13:13:43.047326Z",
     "iopub.status.busy": "2025-03-07T13:13:43.046892Z",
     "iopub.status.idle": "2025-03-07T13:13:43.065655Z",
     "shell.execute_reply": "2025-03-07T13:13:43.064247Z"
    },
    "papermill": {
     "duration": 0.051964,
     "end_time": "2025-03-07T13:13:43.067423",
     "exception": false,
     "start_time": "2025-03-07T13:13:43.015459",
     "status": "completed"
    },
    "tags": []
   },
   "outputs": [],
   "source": [
    "# add dummy variable for categorical\n",
    "categorical_var = ['Sex','SibSp','Parch','Embarked']\n",
    "\n",
    "x_train_s=pd.get_dummies(x_train_s, columns=categorical_var, drop_first=True)\n",
    "x_test_s=pd.get_dummies(x_test_s, columns=categorical_var, drop_first=True)\n",
    "submission_test=pd.get_dummies(submission_test, columns=categorical_var, drop_first=True)"
   ]
  },
  {
   "cell_type": "code",
   "execution_count": 72,
   "id": "8dfaad51",
   "metadata": {
    "execution": {
     "iopub.execute_input": "2025-03-07T13:13:43.121899Z",
     "iopub.status.busy": "2025-03-07T13:13:43.121430Z",
     "iopub.status.idle": "2025-03-07T13:13:43.129365Z",
     "shell.execute_reply": "2025-03-07T13:13:43.127950Z"
    },
    "papermill": {
     "duration": 0.037679,
     "end_time": "2025-03-07T13:13:43.131008",
     "exception": false,
     "start_time": "2025-03-07T13:13:43.093329",
     "status": "completed"
    },
    "tags": []
   },
   "outputs": [],
   "source": [
    "#drop redundant columns, Age is dropped on this trial\n",
    "drop_column = ['Name','PassengerId','Ticket','Cabin','Age']\n",
    "x_train_s=x_train_s.drop(columns=drop_column)\n",
    "x_test_s=x_test_s.drop(columns=drop_column)\n",
    "submission_test=submission_test.drop(columns=drop_column)"
   ]
  },
  {
   "cell_type": "code",
   "execution_count": 73,
   "id": "fb57055c",
   "metadata": {
    "execution": {
     "iopub.execute_input": "2025-03-07T13:13:43.190041Z",
     "iopub.status.busy": "2025-03-07T13:13:43.189667Z",
     "iopub.status.idle": "2025-03-07T13:13:43.198580Z",
     "shell.execute_reply": "2025-03-07T13:13:43.197690Z"
    },
    "papermill": {
     "duration": 0.041098,
     "end_time": "2025-03-07T13:13:43.201186",
     "exception": false,
     "start_time": "2025-03-07T13:13:43.160088",
     "status": "completed"
    },
    "tags": []
   },
   "outputs": [],
   "source": [
    "# Ensure Columns are the same and fill it with mode\n",
    "missing_cols = set(x_train_s.columns) - set(x_test_s.columns)\n",
    "\n",
    "# Fill missing columns in test with mode from train\n",
    "for col in missing_cols:\n",
    "    x_test_s[col] = x_train_s[col].mode()[0]  # Fill with train mode\n",
    "\n",
    "# Reorder test columns to match train\n",
    "x_test_s = x_test_s[x_train_s.columns]"
   ]
  },
  {
   "cell_type": "code",
   "execution_count": 74,
   "id": "8fab72c6",
   "metadata": {
    "execution": {
     "iopub.execute_input": "2025-03-07T13:13:43.261623Z",
     "iopub.status.busy": "2025-03-07T13:13:43.261281Z",
     "iopub.status.idle": "2025-03-07T13:13:43.381032Z",
     "shell.execute_reply": "2025-03-07T13:13:43.379962Z"
    },
    "papermill": {
     "duration": 0.150716,
     "end_time": "2025-03-07T13:13:43.382631",
     "exception": false,
     "start_time": "2025-03-07T13:13:43.231915",
     "status": "completed"
    },
    "tags": []
   },
   "outputs": [
    {
     "data": {
      "text/html": [
       "<style>#sk-container-id-10 {color: black;background-color: white;}#sk-container-id-10 pre{padding: 0;}#sk-container-id-10 div.sk-toggleable {background-color: white;}#sk-container-id-10 label.sk-toggleable__label {cursor: pointer;display: block;width: 100%;margin-bottom: 0;padding: 0.3em;box-sizing: border-box;text-align: center;}#sk-container-id-10 label.sk-toggleable__label-arrow:before {content: \"▸\";float: left;margin-right: 0.25em;color: #696969;}#sk-container-id-10 label.sk-toggleable__label-arrow:hover:before {color: black;}#sk-container-id-10 div.sk-estimator:hover label.sk-toggleable__label-arrow:before {color: black;}#sk-container-id-10 div.sk-toggleable__content {max-height: 0;max-width: 0;overflow: hidden;text-align: left;background-color: #f0f8ff;}#sk-container-id-10 div.sk-toggleable__content pre {margin: 0.2em;color: black;border-radius: 0.25em;background-color: #f0f8ff;}#sk-container-id-10 input.sk-toggleable__control:checked~div.sk-toggleable__content {max-height: 200px;max-width: 100%;overflow: auto;}#sk-container-id-10 input.sk-toggleable__control:checked~label.sk-toggleable__label-arrow:before {content: \"▾\";}#sk-container-id-10 div.sk-estimator input.sk-toggleable__control:checked~label.sk-toggleable__label {background-color: #d4ebff;}#sk-container-id-10 div.sk-label input.sk-toggleable__control:checked~label.sk-toggleable__label {background-color: #d4ebff;}#sk-container-id-10 input.sk-hidden--visually {border: 0;clip: rect(1px 1px 1px 1px);clip: rect(1px, 1px, 1px, 1px);height: 1px;margin: -1px;overflow: hidden;padding: 0;position: absolute;width: 1px;}#sk-container-id-10 div.sk-estimator {font-family: monospace;background-color: #f0f8ff;border: 1px dotted black;border-radius: 0.25em;box-sizing: border-box;margin-bottom: 0.5em;}#sk-container-id-10 div.sk-estimator:hover {background-color: #d4ebff;}#sk-container-id-10 div.sk-parallel-item::after {content: \"\";width: 100%;border-bottom: 1px solid gray;flex-grow: 1;}#sk-container-id-10 div.sk-label:hover label.sk-toggleable__label {background-color: #d4ebff;}#sk-container-id-10 div.sk-serial::before {content: \"\";position: absolute;border-left: 1px solid gray;box-sizing: border-box;top: 0;bottom: 0;left: 50%;z-index: 0;}#sk-container-id-10 div.sk-serial {display: flex;flex-direction: column;align-items: center;background-color: white;padding-right: 0.2em;padding-left: 0.2em;position: relative;}#sk-container-id-10 div.sk-item {position: relative;z-index: 1;}#sk-container-id-10 div.sk-parallel {display: flex;align-items: stretch;justify-content: center;background-color: white;position: relative;}#sk-container-id-10 div.sk-item::before, #sk-container-id-10 div.sk-parallel-item::before {content: \"\";position: absolute;border-left: 1px solid gray;box-sizing: border-box;top: 0;bottom: 0;left: 50%;z-index: -1;}#sk-container-id-10 div.sk-parallel-item {display: flex;flex-direction: column;z-index: 1;position: relative;background-color: white;}#sk-container-id-10 div.sk-parallel-item:first-child::after {align-self: flex-end;width: 50%;}#sk-container-id-10 div.sk-parallel-item:last-child::after {align-self: flex-start;width: 50%;}#sk-container-id-10 div.sk-parallel-item:only-child::after {width: 0;}#sk-container-id-10 div.sk-dashed-wrapped {border: 1px dashed gray;margin: 0 0.4em 0.5em 0.4em;box-sizing: border-box;padding-bottom: 0.4em;background-color: white;}#sk-container-id-10 div.sk-label label {font-family: monospace;font-weight: bold;display: inline-block;line-height: 1.2em;}#sk-container-id-10 div.sk-label-container {text-align: center;}#sk-container-id-10 div.sk-container {/* jupyter's `normalize.less` sets `[hidden] { display: none; }` but bootstrap.min.css set `[hidden] { display: none !important; }` so we also need the `!important` here to be able to override the default hidden behavior on the sphinx rendered scikit-learn.org. See: https://github.com/scikit-learn/scikit-learn/issues/21755 */display: inline-block !important;position: relative;}#sk-container-id-10 div.sk-text-repr-fallback {display: none;}</style><div id=\"sk-container-id-10\" class=\"sk-top-container\"><div class=\"sk-text-repr-fallback\"><pre>RandomForestClassifier(max_depth=10, min_samples_split=50, random_state=1)</pre><b>In a Jupyter environment, please rerun this cell to show the HTML representation or trust the notebook. <br />On GitHub, the HTML representation is unable to render, please try loading this page with nbviewer.org.</b></div><div class=\"sk-container\" hidden><div class=\"sk-item\"><div class=\"sk-estimator sk-toggleable\"><input class=\"sk-toggleable__control sk-hidden--visually\" id=\"sk-estimator-id-10\" type=\"checkbox\" checked><label for=\"sk-estimator-id-10\" class=\"sk-toggleable__label sk-toggleable__label-arrow\">RandomForestClassifier</label><div class=\"sk-toggleable__content\"><pre>RandomForestClassifier(max_depth=10, min_samples_split=50, random_state=1)</pre></div></div></div></div></div>"
      ],
      "text/plain": [
       "RandomForestClassifier(max_depth=10, min_samples_split=50, random_state=1)"
      ]
     },
     "execution_count": 74,
     "metadata": {},
     "output_type": "execute_result"
    }
   ],
   "source": [
    "# Fitting best model\n",
    "rf_model_s = RandomForestClassifier(n_estimators=100,max_depth=10, min_samples_split=50, random_state=1)\n",
    "rf_model_s.fit(x_train_s, y_train_s)"
   ]
  },
  {
   "cell_type": "code",
   "execution_count": 75,
   "id": "19264116",
   "metadata": {
    "execution": {
     "iopub.execute_input": "2025-03-07T13:13:43.436159Z",
     "iopub.status.busy": "2025-03-07T13:13:43.435850Z",
     "iopub.status.idle": "2025-03-07T13:13:43.467982Z",
     "shell.execute_reply": "2025-03-07T13:13:43.467306Z"
    },
    "papermill": {
     "duration": 0.060896,
     "end_time": "2025-03-07T13:13:43.469595",
     "exception": false,
     "start_time": "2025-03-07T13:13:43.408699",
     "status": "completed"
    },
    "tags": []
   },
   "outputs": [
    {
     "data": {
      "text/html": [
       "<div>\n",
       "<style scoped>\n",
       "    .dataframe tbody tr th:only-of-type {\n",
       "        vertical-align: middle;\n",
       "    }\n",
       "\n",
       "    .dataframe tbody tr th {\n",
       "        vertical-align: top;\n",
       "    }\n",
       "\n",
       "    .dataframe thead th {\n",
       "        text-align: right;\n",
       "    }\n",
       "</style>\n",
       "<table border=\"1\" class=\"dataframe\">\n",
       "  <thead>\n",
       "    <tr style=\"text-align: right;\">\n",
       "      <th></th>\n",
       "      <th>Metric</th>\n",
       "      <th>Train Score</th>\n",
       "      <th>Test Score</th>\n",
       "    </tr>\n",
       "  </thead>\n",
       "  <tbody>\n",
       "    <tr>\n",
       "      <th>0</th>\n",
       "      <td>Accuracy</td>\n",
       "      <td>0.820225</td>\n",
       "      <td>0.843575</td>\n",
       "    </tr>\n",
       "    <tr>\n",
       "      <th>1</th>\n",
       "      <td>Precision</td>\n",
       "      <td>0.824148</td>\n",
       "      <td>0.843899</td>\n",
       "    </tr>\n",
       "    <tr>\n",
       "      <th>2</th>\n",
       "      <td>Recall</td>\n",
       "      <td>0.820225</td>\n",
       "      <td>0.843575</td>\n",
       "    </tr>\n",
       "    <tr>\n",
       "      <th>3</th>\n",
       "      <td>F2-Score</td>\n",
       "      <td>0.816057</td>\n",
       "      <td>0.841838</td>\n",
       "    </tr>\n",
       "  </tbody>\n",
       "</table>\n",
       "</div>"
      ],
      "text/plain": [
       "      Metric  Train Score  Test Score\n",
       "0   Accuracy     0.820225    0.843575\n",
       "1  Precision     0.824148    0.843899\n",
       "2     Recall     0.820225    0.843575\n",
       "3   F2-Score     0.816057    0.841838"
      ]
     },
     "execution_count": 75,
     "metadata": {},
     "output_type": "execute_result"
    }
   ],
   "source": [
    "# Train & Test Score\n",
    "rf_train_s = model_performance_classification(rf_model_s, x_train_s, y_train_s)\n",
    "rf_test_s = model_performance_classification(rf_model_s, x_test_s, y_test_s)\n",
    "\n",
    "metrics_comparison = pd.DataFrame({\n",
    "    \"Metric\": [\"Accuracy\", \"Precision\", \"Recall\", \"F2-Score\"],\n",
    "    \"Train Score\": rf_train_s.iloc[0].values,  # Extract values from DataFrame\n",
    "    \"Test Score\": rf_test_s.iloc[0].values\n",
    "})\n",
    "\n",
    "metrics_comparison"
   ]
  },
  {
   "cell_type": "code",
   "execution_count": 76,
   "id": "f6b01d6b",
   "metadata": {
    "execution": {
     "iopub.execute_input": "2025-03-07T13:13:43.528854Z",
     "iopub.status.busy": "2025-03-07T13:13:43.528551Z",
     "iopub.status.idle": "2025-03-07T13:13:48.653229Z",
     "shell.execute_reply": "2025-03-07T13:13:48.651953Z"
    },
    "papermill": {
     "duration": 5.155973,
     "end_time": "2025-03-07T13:13:48.654714",
     "exception": false,
     "start_time": "2025-03-07T13:13:43.498741",
     "status": "completed"
    },
    "tags": []
   },
   "outputs": [
    {
     "name": "stdout",
     "output_type": "stream",
     "text": [
      "Fitting 5 folds for each of 20 candidates, totalling 100 fits\n",
      "Best Parameters: {'max_depth': 5, 'min_samples_split': 50, 'n_estimators': 100}\n",
      "Best Cross-Validation Score: 0.7865261499064314\n"
     ]
    }
   ],
   "source": [
    "# Grid search for best parameter\n",
    "param_grid = {\n",
    "    'n_estimators': [100],  # 100 for stability\n",
    "    'max_depth': [4,5,6,7,8],  # since the data set is small, split should be low\n",
    "    'min_samples_split': [10,20,50,100]  # Minimum samples to split an internal node\n",
    "}\n",
    "\n",
    "# Initialize RF model\n",
    "rf_model_s = RandomForestClassifier(random_state=1)\n",
    "\n",
    "# Perform Grid Search with Cross-Validation\n",
    "grid_search = GridSearchCV(rf_model_s, param_grid, cv=5, scoring='accuracy', n_jobs=-1, verbose=2)\n",
    "grid_search.fit(x_train_s, y_train_s)\n",
    "\n",
    "# Display best parameters and score\n",
    "print(\"Best Parameters:\", grid_search.best_params_)\n",
    "print(\"Best Cross-Validation Score:\", grid_search.best_score_)"
   ]
  },
  {
   "cell_type": "code",
   "execution_count": 77,
   "id": "859d41d3",
   "metadata": {
    "execution": {
     "iopub.execute_input": "2025-03-07T13:13:48.713225Z",
     "iopub.status.busy": "2025-03-07T13:13:48.712819Z",
     "iopub.status.idle": "2025-03-07T13:13:48.840439Z",
     "shell.execute_reply": "2025-03-07T13:13:48.838538Z"
    },
    "papermill": {
     "duration": 0.159992,
     "end_time": "2025-03-07T13:13:48.842704",
     "exception": false,
     "start_time": "2025-03-07T13:13:48.682712",
     "status": "completed"
    },
    "tags": []
   },
   "outputs": [
    {
     "name": "stdout",
     "output_type": "stream",
     "text": [
      "              precision    recall  f1-score   support\n",
      "\n",
      "           0       0.83      0.95      0.89       110\n",
      "           1       0.89      0.70      0.78        69\n",
      "\n",
      "    accuracy                           0.85       179\n",
      "   macro avg       0.86      0.82      0.83       179\n",
      "weighted avg       0.85      0.85      0.84       179\n",
      "\n"
     ]
    }
   ],
   "source": [
    "# use test data to validate the grid search best result\n",
    "# Get the best model\n",
    "best_rf = grid_search.best_estimator_\n",
    "\n",
    "# Retrain on full train set\n",
    "best_rf.fit(x_train_s, y_train_s)\n",
    "\n",
    "# Evaluate on the test set\n",
    "y_pred = best_rf.predict(x_test_s)\n",
    "\n",
    "# Check performance\n",
    "print(classification_report(y_test_s, y_pred))"
   ]
  },
  {
   "cell_type": "code",
   "execution_count": 78,
   "id": "26df5265",
   "metadata": {
    "execution": {
     "iopub.execute_input": "2025-03-07T13:13:48.899476Z",
     "iopub.status.busy": "2025-03-07T13:13:48.898999Z",
     "iopub.status.idle": "2025-03-07T13:13:48.908760Z",
     "shell.execute_reply": "2025-03-07T13:13:48.907701Z"
    },
    "papermill": {
     "duration": 0.040127,
     "end_time": "2025-03-07T13:13:48.910656",
     "exception": false,
     "start_time": "2025-03-07T13:13:48.870529",
     "status": "completed"
    },
    "tags": []
   },
   "outputs": [
    {
     "data": {
      "text/plain": [
       "(418, 17)"
      ]
     },
     "execution_count": 78,
     "metadata": {},
     "output_type": "execute_result"
    }
   ],
   "source": [
    "# match submission_test columns to best rf model\n",
    "trained_features = best_rf.feature_names_in_\n",
    "\n",
    "submission_test = submission_test[trained_features]\n",
    "submission_test = submission_test.reindex(columns=trained_features)\n",
    "submission_test.shape"
   ]
  },
  {
   "cell_type": "code",
   "execution_count": 79,
   "id": "8adee401",
   "metadata": {
    "execution": {
     "iopub.execute_input": "2025-03-07T13:13:48.966080Z",
     "iopub.status.busy": "2025-03-07T13:13:48.965694Z",
     "iopub.status.idle": "2025-03-07T13:13:48.986910Z",
     "shell.execute_reply": "2025-03-07T13:13:48.985147Z"
    },
    "papermill": {
     "duration": 0.050591,
     "end_time": "2025-03-07T13:13:48.988628",
     "exception": false,
     "start_time": "2025-03-07T13:13:48.938037",
     "status": "completed"
    },
    "tags": []
   },
   "outputs": [
    {
     "name": "stdout",
     "output_type": "stream",
     "text": [
      "              precision    recall  f1-score   support\n",
      "\n",
      "           0       0.86      0.96      0.91       266\n",
      "           1       0.91      0.74      0.81       152\n",
      "\n",
      "    accuracy                           0.88       418\n",
      "   macro avg       0.89      0.85      0.86       418\n",
      "weighted avg       0.88      0.88      0.87       418\n",
      "\n"
     ]
    }
   ],
   "source": [
    "# use submission_test data to compare result with titanic's web result\n",
    "submission_test_y =merged_test_initial['Survived']\n",
    "y_pred = best_rf.predict(submission_test)\n",
    "print(classification_report(submission_test_y, y_pred))"
   ]
  },
  {
   "cell_type": "markdown",
   "id": "11fc0bf8",
   "metadata": {
    "papermill": {
     "duration": 0.026071,
     "end_time": "2025-03-07T13:13:49.044528",
     "exception": false,
     "start_time": "2025-03-07T13:13:49.018457",
     "status": "completed"
    },
    "tags": []
   },
   "source": [
    "It gets accuracy of 88% here"
   ]
  },
  {
   "cell_type": "code",
   "execution_count": 80,
   "id": "5656e9f7",
   "metadata": {
    "execution": {
     "iopub.execute_input": "2025-03-07T13:13:49.097778Z",
     "iopub.status.busy": "2025-03-07T13:13:49.097509Z",
     "iopub.status.idle": "2025-03-07T13:13:49.115174Z",
     "shell.execute_reply": "2025-03-07T13:13:49.113817Z"
    },
    "papermill": {
     "duration": 0.046911,
     "end_time": "2025-03-07T13:13:49.117623",
     "exception": false,
     "start_time": "2025-03-07T13:13:49.070712",
     "status": "completed"
    },
    "tags": []
   },
   "outputs": [
    {
     "data": {
      "text/plain": [
       "(418, 2)"
      ]
     },
     "execution_count": 80,
     "metadata": {},
     "output_type": "execute_result"
    }
   ],
   "source": [
    "# Export prediction for submission\n",
    "# including passanger ID back to dataset and fill missing value with mode\n",
    "model_predictions = best_rf.predict(submission_test).flatten()\n",
    "\n",
    "passenger_ids_fixed = merged_test_initial[\"PassengerId\"].iloc[x_test_na.index]\n",
    "\n",
    "# Create the final submission DataFrame\n",
    "submission = pd.DataFrame({\n",
    "    \"PassengerId\": passenger_ids_fixed,\n",
    "    \"Survived\": model_predictions.astype(int)\n",
    "})\n",
    "\n",
    "# Save submission file\n",
    "submission.to_csv(\"RFWithSplit.csv\", index=False)\n",
    "submission.shape"
   ]
  },
  {
   "cell_type": "markdown",
   "id": "0f24020d",
   "metadata": {
    "papermill": {
     "duration": 0.029217,
     "end_time": "2025-03-07T13:13:49.176623",
     "exception": false,
     "start_time": "2025-03-07T13:13:49.147406",
     "status": "completed"
    },
    "tags": []
   },
   "source": [
    "THIS ATTEMPTS GET 76.315% , it differs slightly from cross validation score."
   ]
  },
  {
   "cell_type": "code",
   "execution_count": null,
   "id": "b4d5fd87",
   "metadata": {
    "papermill": {
     "duration": 0.027093,
     "end_time": "2025-03-07T13:13:49.231309",
     "exception": false,
     "start_time": "2025-03-07T13:13:49.204216",
     "status": "completed"
    },
    "tags": []
   },
   "outputs": [],
   "source": []
  }
 ],
 "metadata": {
  "kaggle": {
   "accelerator": "none",
   "dataSources": [
    {
     "databundleVersionId": 26502,
     "sourceId": 3136,
     "sourceType": "competition"
    }
   ],
   "dockerImageVersionId": 30918,
   "isGpuEnabled": false,
   "isInternetEnabled": true,
   "language": "python",
   "sourceType": "notebook"
  },
  "kernelspec": {
   "display_name": "Python 3",
   "language": "python",
   "name": "python3"
  },
  "language_info": {
   "codemirror_mode": {
    "name": "ipython",
    "version": 3
   },
   "file_extension": ".py",
   "mimetype": "text/x-python",
   "name": "python",
   "nbconvert_exporter": "python",
   "pygments_lexer": "ipython3",
   "version": "3.10.12"
  },
  "papermill": {
   "default_parameters": {},
   "duration": 46.054354,
   "end_time": "2025-03-07T13:13:50.586282",
   "environment_variables": {},
   "exception": null,
   "input_path": "__notebook__.ipynb",
   "output_path": "__notebook__.ipynb",
   "parameters": {},
   "start_time": "2025-03-07T13:13:04.531928",
   "version": "2.6.0"
  }
 },
 "nbformat": 4,
 "nbformat_minor": 5
}
